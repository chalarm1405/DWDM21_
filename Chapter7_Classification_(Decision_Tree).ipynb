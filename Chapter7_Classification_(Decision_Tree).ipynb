{
  "nbformat": 4,
  "nbformat_minor": 0,
  "metadata": {
    "colab": {
      "name": "Untitled16.ipynb",
      "provenance": [],
      "authorship_tag": "ABX9TyNKjEfeTU18lR+7ViUN3sH9",
      "include_colab_link": true
    },
    "kernelspec": {
      "name": "python3",
      "display_name": "Python 3"
    },
    "language_info": {
      "name": "python"
    }
  },
  "cells": [
    {
      "cell_type": "markdown",
      "metadata": {
        "id": "view-in-github",
        "colab_type": "text"
      },
      "source": [
        "<a href=\"https://colab.research.google.com/github/chalarm1405/DWDM21_/blob/main/Chapter7_Classification_(Decision_Tree).ipynb\" target=\"_parent\"><img src=\"https://colab.research.google.com/assets/colab-badge.svg\" alt=\"Open In Colab\"/></a>"
      ]
    },
    {
      "cell_type": "markdown",
      "metadata": {
        "id": "vxsYbsAl_nLE"
      },
      "source": [
        "#Load Data\n",
        "skcikit-learn คือ package ที่รวบรวมอัลกอริทึมที่เกี่ยวข้องกับ machine learning - data mining (Sklearn)"
      ]
    },
    {
      "cell_type": "code",
      "metadata": {
        "id": "ZX7RwGZB_lWL"
      },
      "source": [
        "from sklearn import datasets\n",
        "iris_data = datasets.load_iris()"
      ],
      "execution_count": 1,
      "outputs": []
    },
    {
      "cell_type": "code",
      "metadata": {
        "colab": {
          "base_uri": "https://localhost:8080/"
        },
        "id": "fn_aVH1h_lUB",
        "outputId": "9db7b507-d148-47de-b5d5-280de9641d1d"
      },
      "source": [
        "iris_data"
      ],
      "execution_count": 2,
      "outputs": [
        {
          "output_type": "execute_result",
          "data": {
            "text/plain": [
              "{'DESCR': '.. _iris_dataset:\\n\\nIris plants dataset\\n--------------------\\n\\n**Data Set Characteristics:**\\n\\n    :Number of Instances: 150 (50 in each of three classes)\\n    :Number of Attributes: 4 numeric, predictive attributes and the class\\n    :Attribute Information:\\n        - sepal length in cm\\n        - sepal width in cm\\n        - petal length in cm\\n        - petal width in cm\\n        - class:\\n                - Iris-Setosa\\n                - Iris-Versicolour\\n                - Iris-Virginica\\n                \\n    :Summary Statistics:\\n\\n    ============== ==== ==== ======= ===== ====================\\n                    Min  Max   Mean    SD   Class Correlation\\n    ============== ==== ==== ======= ===== ====================\\n    sepal length:   4.3  7.9   5.84   0.83    0.7826\\n    sepal width:    2.0  4.4   3.05   0.43   -0.4194\\n    petal length:   1.0  6.9   3.76   1.76    0.9490  (high!)\\n    petal width:    0.1  2.5   1.20   0.76    0.9565  (high!)\\n    ============== ==== ==== ======= ===== ====================\\n\\n    :Missing Attribute Values: None\\n    :Class Distribution: 33.3% for each of 3 classes.\\n    :Creator: R.A. Fisher\\n    :Donor: Michael Marshall (MARSHALL%PLU@io.arc.nasa.gov)\\n    :Date: July, 1988\\n\\nThe famous Iris database, first used by Sir R.A. Fisher. The dataset is taken\\nfrom Fisher\\'s paper. Note that it\\'s the same as in R, but not as in the UCI\\nMachine Learning Repository, which has two wrong data points.\\n\\nThis is perhaps the best known database to be found in the\\npattern recognition literature.  Fisher\\'s paper is a classic in the field and\\nis referenced frequently to this day.  (See Duda & Hart, for example.)  The\\ndata set contains 3 classes of 50 instances each, where each class refers to a\\ntype of iris plant.  One class is linearly separable from the other 2; the\\nlatter are NOT linearly separable from each other.\\n\\n.. topic:: References\\n\\n   - Fisher, R.A. \"The use of multiple measurements in taxonomic problems\"\\n     Annual Eugenics, 7, Part II, 179-188 (1936); also in \"Contributions to\\n     Mathematical Statistics\" (John Wiley, NY, 1950).\\n   - Duda, R.O., & Hart, P.E. (1973) Pattern Classification and Scene Analysis.\\n     (Q327.D83) John Wiley & Sons.  ISBN 0-471-22361-1.  See page 218.\\n   - Dasarathy, B.V. (1980) \"Nosing Around the Neighborhood: A New System\\n     Structure and Classification Rule for Recognition in Partially Exposed\\n     Environments\".  IEEE Transactions on Pattern Analysis and Machine\\n     Intelligence, Vol. PAMI-2, No. 1, 67-71.\\n   - Gates, G.W. (1972) \"The Reduced Nearest Neighbor Rule\".  IEEE Transactions\\n     on Information Theory, May 1972, 431-433.\\n   - See also: 1988 MLC Proceedings, 54-64.  Cheeseman et al\"s AUTOCLASS II\\n     conceptual clustering system finds 3 classes in the data.\\n   - Many, many more ...',\n",
              " 'data': array([[5.1, 3.5, 1.4, 0.2],\n",
              "        [4.9, 3. , 1.4, 0.2],\n",
              "        [4.7, 3.2, 1.3, 0.2],\n",
              "        [4.6, 3.1, 1.5, 0.2],\n",
              "        [5. , 3.6, 1.4, 0.2],\n",
              "        [5.4, 3.9, 1.7, 0.4],\n",
              "        [4.6, 3.4, 1.4, 0.3],\n",
              "        [5. , 3.4, 1.5, 0.2],\n",
              "        [4.4, 2.9, 1.4, 0.2],\n",
              "        [4.9, 3.1, 1.5, 0.1],\n",
              "        [5.4, 3.7, 1.5, 0.2],\n",
              "        [4.8, 3.4, 1.6, 0.2],\n",
              "        [4.8, 3. , 1.4, 0.1],\n",
              "        [4.3, 3. , 1.1, 0.1],\n",
              "        [5.8, 4. , 1.2, 0.2],\n",
              "        [5.7, 4.4, 1.5, 0.4],\n",
              "        [5.4, 3.9, 1.3, 0.4],\n",
              "        [5.1, 3.5, 1.4, 0.3],\n",
              "        [5.7, 3.8, 1.7, 0.3],\n",
              "        [5.1, 3.8, 1.5, 0.3],\n",
              "        [5.4, 3.4, 1.7, 0.2],\n",
              "        [5.1, 3.7, 1.5, 0.4],\n",
              "        [4.6, 3.6, 1. , 0.2],\n",
              "        [5.1, 3.3, 1.7, 0.5],\n",
              "        [4.8, 3.4, 1.9, 0.2],\n",
              "        [5. , 3. , 1.6, 0.2],\n",
              "        [5. , 3.4, 1.6, 0.4],\n",
              "        [5.2, 3.5, 1.5, 0.2],\n",
              "        [5.2, 3.4, 1.4, 0.2],\n",
              "        [4.7, 3.2, 1.6, 0.2],\n",
              "        [4.8, 3.1, 1.6, 0.2],\n",
              "        [5.4, 3.4, 1.5, 0.4],\n",
              "        [5.2, 4.1, 1.5, 0.1],\n",
              "        [5.5, 4.2, 1.4, 0.2],\n",
              "        [4.9, 3.1, 1.5, 0.2],\n",
              "        [5. , 3.2, 1.2, 0.2],\n",
              "        [5.5, 3.5, 1.3, 0.2],\n",
              "        [4.9, 3.6, 1.4, 0.1],\n",
              "        [4.4, 3. , 1.3, 0.2],\n",
              "        [5.1, 3.4, 1.5, 0.2],\n",
              "        [5. , 3.5, 1.3, 0.3],\n",
              "        [4.5, 2.3, 1.3, 0.3],\n",
              "        [4.4, 3.2, 1.3, 0.2],\n",
              "        [5. , 3.5, 1.6, 0.6],\n",
              "        [5.1, 3.8, 1.9, 0.4],\n",
              "        [4.8, 3. , 1.4, 0.3],\n",
              "        [5.1, 3.8, 1.6, 0.2],\n",
              "        [4.6, 3.2, 1.4, 0.2],\n",
              "        [5.3, 3.7, 1.5, 0.2],\n",
              "        [5. , 3.3, 1.4, 0.2],\n",
              "        [7. , 3.2, 4.7, 1.4],\n",
              "        [6.4, 3.2, 4.5, 1.5],\n",
              "        [6.9, 3.1, 4.9, 1.5],\n",
              "        [5.5, 2.3, 4. , 1.3],\n",
              "        [6.5, 2.8, 4.6, 1.5],\n",
              "        [5.7, 2.8, 4.5, 1.3],\n",
              "        [6.3, 3.3, 4.7, 1.6],\n",
              "        [4.9, 2.4, 3.3, 1. ],\n",
              "        [6.6, 2.9, 4.6, 1.3],\n",
              "        [5.2, 2.7, 3.9, 1.4],\n",
              "        [5. , 2. , 3.5, 1. ],\n",
              "        [5.9, 3. , 4.2, 1.5],\n",
              "        [6. , 2.2, 4. , 1. ],\n",
              "        [6.1, 2.9, 4.7, 1.4],\n",
              "        [5.6, 2.9, 3.6, 1.3],\n",
              "        [6.7, 3.1, 4.4, 1.4],\n",
              "        [5.6, 3. , 4.5, 1.5],\n",
              "        [5.8, 2.7, 4.1, 1. ],\n",
              "        [6.2, 2.2, 4.5, 1.5],\n",
              "        [5.6, 2.5, 3.9, 1.1],\n",
              "        [5.9, 3.2, 4.8, 1.8],\n",
              "        [6.1, 2.8, 4. , 1.3],\n",
              "        [6.3, 2.5, 4.9, 1.5],\n",
              "        [6.1, 2.8, 4.7, 1.2],\n",
              "        [6.4, 2.9, 4.3, 1.3],\n",
              "        [6.6, 3. , 4.4, 1.4],\n",
              "        [6.8, 2.8, 4.8, 1.4],\n",
              "        [6.7, 3. , 5. , 1.7],\n",
              "        [6. , 2.9, 4.5, 1.5],\n",
              "        [5.7, 2.6, 3.5, 1. ],\n",
              "        [5.5, 2.4, 3.8, 1.1],\n",
              "        [5.5, 2.4, 3.7, 1. ],\n",
              "        [5.8, 2.7, 3.9, 1.2],\n",
              "        [6. , 2.7, 5.1, 1.6],\n",
              "        [5.4, 3. , 4.5, 1.5],\n",
              "        [6. , 3.4, 4.5, 1.6],\n",
              "        [6.7, 3.1, 4.7, 1.5],\n",
              "        [6.3, 2.3, 4.4, 1.3],\n",
              "        [5.6, 3. , 4.1, 1.3],\n",
              "        [5.5, 2.5, 4. , 1.3],\n",
              "        [5.5, 2.6, 4.4, 1.2],\n",
              "        [6.1, 3. , 4.6, 1.4],\n",
              "        [5.8, 2.6, 4. , 1.2],\n",
              "        [5. , 2.3, 3.3, 1. ],\n",
              "        [5.6, 2.7, 4.2, 1.3],\n",
              "        [5.7, 3. , 4.2, 1.2],\n",
              "        [5.7, 2.9, 4.2, 1.3],\n",
              "        [6.2, 2.9, 4.3, 1.3],\n",
              "        [5.1, 2.5, 3. , 1.1],\n",
              "        [5.7, 2.8, 4.1, 1.3],\n",
              "        [6.3, 3.3, 6. , 2.5],\n",
              "        [5.8, 2.7, 5.1, 1.9],\n",
              "        [7.1, 3. , 5.9, 2.1],\n",
              "        [6.3, 2.9, 5.6, 1.8],\n",
              "        [6.5, 3. , 5.8, 2.2],\n",
              "        [7.6, 3. , 6.6, 2.1],\n",
              "        [4.9, 2.5, 4.5, 1.7],\n",
              "        [7.3, 2.9, 6.3, 1.8],\n",
              "        [6.7, 2.5, 5.8, 1.8],\n",
              "        [7.2, 3.6, 6.1, 2.5],\n",
              "        [6.5, 3.2, 5.1, 2. ],\n",
              "        [6.4, 2.7, 5.3, 1.9],\n",
              "        [6.8, 3. , 5.5, 2.1],\n",
              "        [5.7, 2.5, 5. , 2. ],\n",
              "        [5.8, 2.8, 5.1, 2.4],\n",
              "        [6.4, 3.2, 5.3, 2.3],\n",
              "        [6.5, 3. , 5.5, 1.8],\n",
              "        [7.7, 3.8, 6.7, 2.2],\n",
              "        [7.7, 2.6, 6.9, 2.3],\n",
              "        [6. , 2.2, 5. , 1.5],\n",
              "        [6.9, 3.2, 5.7, 2.3],\n",
              "        [5.6, 2.8, 4.9, 2. ],\n",
              "        [7.7, 2.8, 6.7, 2. ],\n",
              "        [6.3, 2.7, 4.9, 1.8],\n",
              "        [6.7, 3.3, 5.7, 2.1],\n",
              "        [7.2, 3.2, 6. , 1.8],\n",
              "        [6.2, 2.8, 4.8, 1.8],\n",
              "        [6.1, 3. , 4.9, 1.8],\n",
              "        [6.4, 2.8, 5.6, 2.1],\n",
              "        [7.2, 3. , 5.8, 1.6],\n",
              "        [7.4, 2.8, 6.1, 1.9],\n",
              "        [7.9, 3.8, 6.4, 2. ],\n",
              "        [6.4, 2.8, 5.6, 2.2],\n",
              "        [6.3, 2.8, 5.1, 1.5],\n",
              "        [6.1, 2.6, 5.6, 1.4],\n",
              "        [7.7, 3. , 6.1, 2.3],\n",
              "        [6.3, 3.4, 5.6, 2.4],\n",
              "        [6.4, 3.1, 5.5, 1.8],\n",
              "        [6. , 3. , 4.8, 1.8],\n",
              "        [6.9, 3.1, 5.4, 2.1],\n",
              "        [6.7, 3.1, 5.6, 2.4],\n",
              "        [6.9, 3.1, 5.1, 2.3],\n",
              "        [5.8, 2.7, 5.1, 1.9],\n",
              "        [6.8, 3.2, 5.9, 2.3],\n",
              "        [6.7, 3.3, 5.7, 2.5],\n",
              "        [6.7, 3. , 5.2, 2.3],\n",
              "        [6.3, 2.5, 5. , 1.9],\n",
              "        [6.5, 3. , 5.2, 2. ],\n",
              "        [6.2, 3.4, 5.4, 2.3],\n",
              "        [5.9, 3. , 5.1, 1.8]]),\n",
              " 'feature_names': ['sepal length (cm)',\n",
              "  'sepal width (cm)',\n",
              "  'petal length (cm)',\n",
              "  'petal width (cm)'],\n",
              " 'filename': '/usr/local/lib/python3.7/dist-packages/sklearn/datasets/data/iris.csv',\n",
              " 'target': array([0, 0, 0, 0, 0, 0, 0, 0, 0, 0, 0, 0, 0, 0, 0, 0, 0, 0, 0, 0, 0, 0,\n",
              "        0, 0, 0, 0, 0, 0, 0, 0, 0, 0, 0, 0, 0, 0, 0, 0, 0, 0, 0, 0, 0, 0,\n",
              "        0, 0, 0, 0, 0, 0, 1, 1, 1, 1, 1, 1, 1, 1, 1, 1, 1, 1, 1, 1, 1, 1,\n",
              "        1, 1, 1, 1, 1, 1, 1, 1, 1, 1, 1, 1, 1, 1, 1, 1, 1, 1, 1, 1, 1, 1,\n",
              "        1, 1, 1, 1, 1, 1, 1, 1, 1, 1, 1, 1, 2, 2, 2, 2, 2, 2, 2, 2, 2, 2,\n",
              "        2, 2, 2, 2, 2, 2, 2, 2, 2, 2, 2, 2, 2, 2, 2, 2, 2, 2, 2, 2, 2, 2,\n",
              "        2, 2, 2, 2, 2, 2, 2, 2, 2, 2, 2, 2, 2, 2, 2, 2, 2, 2]),\n",
              " 'target_names': array(['setosa', 'versicolor', 'virginica'], dtype='<U10')}"
            ]
          },
          "metadata": {},
          "execution_count": 2
        }
      ]
    },
    {
      "cell_type": "code",
      "metadata": {
        "id": "eY-YxYFK_lRw"
      },
      "source": [
        "X = iris_data['data']\n",
        "Y = iris_data['target']"
      ],
      "execution_count": 3,
      "outputs": []
    },
    {
      "cell_type": "code",
      "metadata": {
        "colab": {
          "base_uri": "https://localhost:8080/"
        },
        "id": "RBcZ1zQ__lPa",
        "outputId": "b9729d60-129d-40ea-f11d-634c79f0b142"
      },
      "source": [
        "X\n"
      ],
      "execution_count": 4,
      "outputs": [
        {
          "output_type": "execute_result",
          "data": {
            "text/plain": [
              "array([[5.1, 3.5, 1.4, 0.2],\n",
              "       [4.9, 3. , 1.4, 0.2],\n",
              "       [4.7, 3.2, 1.3, 0.2],\n",
              "       [4.6, 3.1, 1.5, 0.2],\n",
              "       [5. , 3.6, 1.4, 0.2],\n",
              "       [5.4, 3.9, 1.7, 0.4],\n",
              "       [4.6, 3.4, 1.4, 0.3],\n",
              "       [5. , 3.4, 1.5, 0.2],\n",
              "       [4.4, 2.9, 1.4, 0.2],\n",
              "       [4.9, 3.1, 1.5, 0.1],\n",
              "       [5.4, 3.7, 1.5, 0.2],\n",
              "       [4.8, 3.4, 1.6, 0.2],\n",
              "       [4.8, 3. , 1.4, 0.1],\n",
              "       [4.3, 3. , 1.1, 0.1],\n",
              "       [5.8, 4. , 1.2, 0.2],\n",
              "       [5.7, 4.4, 1.5, 0.4],\n",
              "       [5.4, 3.9, 1.3, 0.4],\n",
              "       [5.1, 3.5, 1.4, 0.3],\n",
              "       [5.7, 3.8, 1.7, 0.3],\n",
              "       [5.1, 3.8, 1.5, 0.3],\n",
              "       [5.4, 3.4, 1.7, 0.2],\n",
              "       [5.1, 3.7, 1.5, 0.4],\n",
              "       [4.6, 3.6, 1. , 0.2],\n",
              "       [5.1, 3.3, 1.7, 0.5],\n",
              "       [4.8, 3.4, 1.9, 0.2],\n",
              "       [5. , 3. , 1.6, 0.2],\n",
              "       [5. , 3.4, 1.6, 0.4],\n",
              "       [5.2, 3.5, 1.5, 0.2],\n",
              "       [5.2, 3.4, 1.4, 0.2],\n",
              "       [4.7, 3.2, 1.6, 0.2],\n",
              "       [4.8, 3.1, 1.6, 0.2],\n",
              "       [5.4, 3.4, 1.5, 0.4],\n",
              "       [5.2, 4.1, 1.5, 0.1],\n",
              "       [5.5, 4.2, 1.4, 0.2],\n",
              "       [4.9, 3.1, 1.5, 0.2],\n",
              "       [5. , 3.2, 1.2, 0.2],\n",
              "       [5.5, 3.5, 1.3, 0.2],\n",
              "       [4.9, 3.6, 1.4, 0.1],\n",
              "       [4.4, 3. , 1.3, 0.2],\n",
              "       [5.1, 3.4, 1.5, 0.2],\n",
              "       [5. , 3.5, 1.3, 0.3],\n",
              "       [4.5, 2.3, 1.3, 0.3],\n",
              "       [4.4, 3.2, 1.3, 0.2],\n",
              "       [5. , 3.5, 1.6, 0.6],\n",
              "       [5.1, 3.8, 1.9, 0.4],\n",
              "       [4.8, 3. , 1.4, 0.3],\n",
              "       [5.1, 3.8, 1.6, 0.2],\n",
              "       [4.6, 3.2, 1.4, 0.2],\n",
              "       [5.3, 3.7, 1.5, 0.2],\n",
              "       [5. , 3.3, 1.4, 0.2],\n",
              "       [7. , 3.2, 4.7, 1.4],\n",
              "       [6.4, 3.2, 4.5, 1.5],\n",
              "       [6.9, 3.1, 4.9, 1.5],\n",
              "       [5.5, 2.3, 4. , 1.3],\n",
              "       [6.5, 2.8, 4.6, 1.5],\n",
              "       [5.7, 2.8, 4.5, 1.3],\n",
              "       [6.3, 3.3, 4.7, 1.6],\n",
              "       [4.9, 2.4, 3.3, 1. ],\n",
              "       [6.6, 2.9, 4.6, 1.3],\n",
              "       [5.2, 2.7, 3.9, 1.4],\n",
              "       [5. , 2. , 3.5, 1. ],\n",
              "       [5.9, 3. , 4.2, 1.5],\n",
              "       [6. , 2.2, 4. , 1. ],\n",
              "       [6.1, 2.9, 4.7, 1.4],\n",
              "       [5.6, 2.9, 3.6, 1.3],\n",
              "       [6.7, 3.1, 4.4, 1.4],\n",
              "       [5.6, 3. , 4.5, 1.5],\n",
              "       [5.8, 2.7, 4.1, 1. ],\n",
              "       [6.2, 2.2, 4.5, 1.5],\n",
              "       [5.6, 2.5, 3.9, 1.1],\n",
              "       [5.9, 3.2, 4.8, 1.8],\n",
              "       [6.1, 2.8, 4. , 1.3],\n",
              "       [6.3, 2.5, 4.9, 1.5],\n",
              "       [6.1, 2.8, 4.7, 1.2],\n",
              "       [6.4, 2.9, 4.3, 1.3],\n",
              "       [6.6, 3. , 4.4, 1.4],\n",
              "       [6.8, 2.8, 4.8, 1.4],\n",
              "       [6.7, 3. , 5. , 1.7],\n",
              "       [6. , 2.9, 4.5, 1.5],\n",
              "       [5.7, 2.6, 3.5, 1. ],\n",
              "       [5.5, 2.4, 3.8, 1.1],\n",
              "       [5.5, 2.4, 3.7, 1. ],\n",
              "       [5.8, 2.7, 3.9, 1.2],\n",
              "       [6. , 2.7, 5.1, 1.6],\n",
              "       [5.4, 3. , 4.5, 1.5],\n",
              "       [6. , 3.4, 4.5, 1.6],\n",
              "       [6.7, 3.1, 4.7, 1.5],\n",
              "       [6.3, 2.3, 4.4, 1.3],\n",
              "       [5.6, 3. , 4.1, 1.3],\n",
              "       [5.5, 2.5, 4. , 1.3],\n",
              "       [5.5, 2.6, 4.4, 1.2],\n",
              "       [6.1, 3. , 4.6, 1.4],\n",
              "       [5.8, 2.6, 4. , 1.2],\n",
              "       [5. , 2.3, 3.3, 1. ],\n",
              "       [5.6, 2.7, 4.2, 1.3],\n",
              "       [5.7, 3. , 4.2, 1.2],\n",
              "       [5.7, 2.9, 4.2, 1.3],\n",
              "       [6.2, 2.9, 4.3, 1.3],\n",
              "       [5.1, 2.5, 3. , 1.1],\n",
              "       [5.7, 2.8, 4.1, 1.3],\n",
              "       [6.3, 3.3, 6. , 2.5],\n",
              "       [5.8, 2.7, 5.1, 1.9],\n",
              "       [7.1, 3. , 5.9, 2.1],\n",
              "       [6.3, 2.9, 5.6, 1.8],\n",
              "       [6.5, 3. , 5.8, 2.2],\n",
              "       [7.6, 3. , 6.6, 2.1],\n",
              "       [4.9, 2.5, 4.5, 1.7],\n",
              "       [7.3, 2.9, 6.3, 1.8],\n",
              "       [6.7, 2.5, 5.8, 1.8],\n",
              "       [7.2, 3.6, 6.1, 2.5],\n",
              "       [6.5, 3.2, 5.1, 2. ],\n",
              "       [6.4, 2.7, 5.3, 1.9],\n",
              "       [6.8, 3. , 5.5, 2.1],\n",
              "       [5.7, 2.5, 5. , 2. ],\n",
              "       [5.8, 2.8, 5.1, 2.4],\n",
              "       [6.4, 3.2, 5.3, 2.3],\n",
              "       [6.5, 3. , 5.5, 1.8],\n",
              "       [7.7, 3.8, 6.7, 2.2],\n",
              "       [7.7, 2.6, 6.9, 2.3],\n",
              "       [6. , 2.2, 5. , 1.5],\n",
              "       [6.9, 3.2, 5.7, 2.3],\n",
              "       [5.6, 2.8, 4.9, 2. ],\n",
              "       [7.7, 2.8, 6.7, 2. ],\n",
              "       [6.3, 2.7, 4.9, 1.8],\n",
              "       [6.7, 3.3, 5.7, 2.1],\n",
              "       [7.2, 3.2, 6. , 1.8],\n",
              "       [6.2, 2.8, 4.8, 1.8],\n",
              "       [6.1, 3. , 4.9, 1.8],\n",
              "       [6.4, 2.8, 5.6, 2.1],\n",
              "       [7.2, 3. , 5.8, 1.6],\n",
              "       [7.4, 2.8, 6.1, 1.9],\n",
              "       [7.9, 3.8, 6.4, 2. ],\n",
              "       [6.4, 2.8, 5.6, 2.2],\n",
              "       [6.3, 2.8, 5.1, 1.5],\n",
              "       [6.1, 2.6, 5.6, 1.4],\n",
              "       [7.7, 3. , 6.1, 2.3],\n",
              "       [6.3, 3.4, 5.6, 2.4],\n",
              "       [6.4, 3.1, 5.5, 1.8],\n",
              "       [6. , 3. , 4.8, 1.8],\n",
              "       [6.9, 3.1, 5.4, 2.1],\n",
              "       [6.7, 3.1, 5.6, 2.4],\n",
              "       [6.9, 3.1, 5.1, 2.3],\n",
              "       [5.8, 2.7, 5.1, 1.9],\n",
              "       [6.8, 3.2, 5.9, 2.3],\n",
              "       [6.7, 3.3, 5.7, 2.5],\n",
              "       [6.7, 3. , 5.2, 2.3],\n",
              "       [6.3, 2.5, 5. , 1.9],\n",
              "       [6.5, 3. , 5.2, 2. ],\n",
              "       [6.2, 3.4, 5.4, 2.3],\n",
              "       [5.9, 3. , 5.1, 1.8]])"
            ]
          },
          "metadata": {},
          "execution_count": 4
        }
      ]
    },
    {
      "cell_type": "code",
      "metadata": {
        "colab": {
          "base_uri": "https://localhost:8080/"
        },
        "id": "oV_qgsai_lNS",
        "outputId": "d91ff810-ea4a-4102-c8d4-1a27d5e6becd"
      },
      "source": [
        "Y"
      ],
      "execution_count": 5,
      "outputs": [
        {
          "output_type": "execute_result",
          "data": {
            "text/plain": [
              "array([0, 0, 0, 0, 0, 0, 0, 0, 0, 0, 0, 0, 0, 0, 0, 0, 0, 0, 0, 0, 0, 0,\n",
              "       0, 0, 0, 0, 0, 0, 0, 0, 0, 0, 0, 0, 0, 0, 0, 0, 0, 0, 0, 0, 0, 0,\n",
              "       0, 0, 0, 0, 0, 0, 1, 1, 1, 1, 1, 1, 1, 1, 1, 1, 1, 1, 1, 1, 1, 1,\n",
              "       1, 1, 1, 1, 1, 1, 1, 1, 1, 1, 1, 1, 1, 1, 1, 1, 1, 1, 1, 1, 1, 1,\n",
              "       1, 1, 1, 1, 1, 1, 1, 1, 1, 1, 1, 1, 2, 2, 2, 2, 2, 2, 2, 2, 2, 2,\n",
              "       2, 2, 2, 2, 2, 2, 2, 2, 2, 2, 2, 2, 2, 2, 2, 2, 2, 2, 2, 2, 2, 2,\n",
              "       2, 2, 2, 2, 2, 2, 2, 2, 2, 2, 2, 2, 2, 2, 2, 2, 2, 2])"
            ]
          },
          "metadata": {},
          "execution_count": 5
        }
      ]
    },
    {
      "cell_type": "markdown",
      "metadata": {
        "id": "jzoAKLkd_z5j"
      },
      "source": [
        "#Train Model¶\n",
        "#import (เรียกใช้ algorithm ที่เราต้องการ)"
      ]
    },
    {
      "cell_type": "code",
      "metadata": {
        "id": "aMmLgJra_lLM"
      },
      "source": [
        "from sklearn.tree import DecisionTreeClassifier"
      ],
      "execution_count": 6,
      "outputs": []
    },
    {
      "cell_type": "markdown",
      "metadata": {
        "id": "hcB3Y_hn_3xj"
      },
      "source": [
        "#Define (กำหนด parameters ให้กับ model)"
      ]
    },
    {
      "cell_type": "code",
      "metadata": {
        "id": "KXR_Rekz_lI-"
      },
      "source": [
        "mytree = DecisionTreeClassifier(max_depth=2) # กำหนดชั้นของ decision tree"
      ],
      "execution_count": 7,
      "outputs": []
    },
    {
      "cell_type": "markdown",
      "metadata": {
        "id": "1GgHIJtr_7PY"
      },
      "source": [
        "#train (ฝึกสอนตัวแบบ)"
      ]
    },
    {
      "cell_type": "code",
      "metadata": {
        "colab": {
          "base_uri": "https://localhost:8080/"
        },
        "id": "Y1iroq52_lHD",
        "outputId": "fbfe9d6f-0e59-4397-8ca6-8f4707762150"
      },
      "source": [
        "mytree.fit(X,Y) # สร้าง model ขึ้นมา"
      ],
      "execution_count": 8,
      "outputs": [
        {
          "output_type": "execute_result",
          "data": {
            "text/plain": [
              "DecisionTreeClassifier(ccp_alpha=0.0, class_weight=None, criterion='gini',\n",
              "                       max_depth=2, max_features=None, max_leaf_nodes=None,\n",
              "                       min_impurity_decrease=0.0, min_impurity_split=None,\n",
              "                       min_samples_leaf=1, min_samples_split=2,\n",
              "                       min_weight_fraction_leaf=0.0, presort='deprecated',\n",
              "                       random_state=None, splitter='best')"
            ]
          },
          "metadata": {},
          "execution_count": 8
        }
      ]
    },
    {
      "cell_type": "markdown",
      "metadata": {
        "id": "fDXrreOd_-vM"
      },
      "source": [
        "#plot tree"
      ]
    },
    {
      "cell_type": "code",
      "metadata": {
        "id": "HkAmva-Q_lEr"
      },
      "source": [
        "from sklearn.tree import plot_tree"
      ],
      "execution_count": 9,
      "outputs": []
    },
    {
      "cell_type": "code",
      "metadata": {
        "colab": {
          "base_uri": "https://localhost:8080/",
          "height": 248
        },
        "id": "uglpDQLo_lCS",
        "outputId": "193efbd7-ee38-425a-f1d4-0da6816487e0"
      },
      "source": [
        "plot_tree(mytree);"
      ],
      "execution_count": 10,
      "outputs": [
        {
          "output_type": "display_data",
          "data": {
            "image/png": "[encoded data removed]",
            "text/plain": [
              "<Figure size 432x288 with 1 Axes>"
            ]
          },
          "metadata": {
            "needs_background": "light"
          }
        }
      ]
    },
    {
      "cell_type": "markdown",
      "metadata": {
        "id": "hfxYS7oxAFvK"
      },
      "source": [
        "![Screenshot 2021-10-04 225059.jpg](data:image/jpeg;base64,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)"
      ]
    },
    {
      "cell_type": "markdown",
      "metadata": {
        "id": "Sj32Djv4AI9Z"
      },
      "source": [
        "#Evaluation"
      ]
    },
    {
      "cell_type": "code",
      "metadata": {
        "colab": {
          "base_uri": "https://localhost:8080/"
        },
        "id": "VxQoXZsn_lAM",
        "outputId": "02c8482b-9a02-4637-fa0d-1da33ec0ec1a"
      },
      "source": [
        "mytree.predict([[6.3, 2.5, 5. , 1.9]]) # ดูที่  X2 คือ 5."
      ],
      "execution_count": 11,
      "outputs": [
        {
          "output_type": "execute_result",
          "data": {
            "text/plain": [
              "array([2])"
            ]
          },
          "metadata": {},
          "execution_count": 11
        }
      ]
    },
    {
      "cell_type": "markdown",
      "metadata": {
        "id": "pepYCTdp40O7"
      },
      "source": [
        "#Random\n"
      ]
    },
    {
      "cell_type": "code",
      "metadata": {
        "id": "oKvooA8q4xE7"
      },
      "source": [
        "import numpy as np"
      ],
      "execution_count": 12,
      "outputs": []
    },
    {
      "cell_type": "code",
      "metadata": {
        "id": "xz9lUgmw4xCE"
      },
      "source": [
        "np.random.seed(6)"
      ],
      "execution_count": 13,
      "outputs": []
    },
    {
      "cell_type": "code",
      "metadata": {
        "id": "Fs_7KN0X4w-7",
        "colab": {
          "base_uri": "https://localhost:8080/",
          "height": 0
        },
        "outputId": "0b3f6a73-33ff-4d6a-a772-c2c2156f1ff9"
      },
      "source": [
        "np.random.choice(['a','b','c','d'])"
      ],
      "execution_count": 14,
      "outputs": [
        {
          "output_type": "execute_result",
          "data": {
            "application/vnd.google.colaboratory.intrinsic+json": {
              "type": "string"
            },
            "text/plain": [
              "'c'"
            ]
          },
          "metadata": {},
          "execution_count": 14
        }
      ]
    },
    {
      "cell_type": "markdown",
      "metadata": {
        "id": "IBhIqYHF5C7v"
      },
      "source": [
        "#Advanced Tree"
      ]
    },
    {
      "cell_type": "markdown",
      "metadata": {
        "id": "PTDhkC5h5HZ4"
      },
      "source": [
        "#Import"
      ]
    },
    {
      "cell_type": "code",
      "metadata": {
        "id": "Z6Nq3ffl4w9o"
      },
      "source": [
        "from sklearn.tree import DecisionTreeClassifier"
      ],
      "execution_count": 15,
      "outputs": []
    },
    {
      "cell_type": "markdown",
      "metadata": {
        "id": "RMJeKrN_5Qd9"
      },
      "source": [
        "#Define\n",
        "\n",
        "ต้นไม้ที่มีใบ 5 ใบ และใช้ entropy เป็นเกณฑ์\n"
      ]
    },
    {
      "cell_type": "code",
      "metadata": {
        "id": "l7fZkBge4w60"
      },
      "source": [
        "mytree = DecisionTreeClassifier(max_leaf_nodes=5,criterion='entropy')"
      ],
      "execution_count": 16,
      "outputs": []
    },
    {
      "cell_type": "markdown",
      "metadata": {
        "id": "MA9yRk3H5V_l"
      },
      "source": [
        "#Train"
      ]
    },
    {
      "cell_type": "code",
      "metadata": {
        "id": "VFDZpdE34w45",
        "colab": {
          "base_uri": "https://localhost:8080/"
        },
        "outputId": "4bc3fe70-e114-48c4-dc1f-1b3ae09201f9"
      },
      "source": [
        "mytree.fit(X,Y)"
      ],
      "execution_count": 17,
      "outputs": [
        {
          "output_type": "execute_result",
          "data": {
            "text/plain": [
              "DecisionTreeClassifier(ccp_alpha=0.0, class_weight=None, criterion='entropy',\n",
              "                       max_depth=None, max_features=None, max_leaf_nodes=5,\n",
              "                       min_impurity_decrease=0.0, min_impurity_split=None,\n",
              "                       min_samples_leaf=1, min_samples_split=2,\n",
              "                       min_weight_fraction_leaf=0.0, presort='deprecated',\n",
              "                       random_state=None, splitter='best')"
            ]
          },
          "metadata": {},
          "execution_count": 17
        }
      ]
    },
    {
      "cell_type": "code",
      "metadata": {
        "id": "aZhmkpwO4w1w",
        "colab": {
          "base_uri": "https://localhost:8080/",
          "height": 0
        },
        "outputId": "ccc51408-a166-4490-e267-f5caeac9c391"
      },
      "source": [
        "plot_tree(mytree)"
      ],
      "execution_count": 18,
      "outputs": [
        {
          "output_type": "execute_result",
          "data": {
            "text/plain": [
              "[Text(167.4, 195.696, 'X[3] <= 0.8\\nentropy = 1.585\\nsamples = 150\\nvalue = [50, 50, 50]'),\n",
              " Text(111.60000000000001, 152.208, 'entropy = 0.0\\nsamples = 50\\nvalue = [50, 0, 0]'),\n",
              " Text(223.20000000000002, 152.208, 'X[3] <= 1.75\\nentropy = 1.0\\nsamples = 100\\nvalue = [0, 50, 50]'),\n",
              " Text(167.4, 108.72, 'X[2] <= 4.95\\nentropy = 0.445\\nsamples = 54\\nvalue = [0, 49, 5]'),\n",
              " Text(111.60000000000001, 65.232, 'X[3] <= 1.65\\nentropy = 0.146\\nsamples = 48\\nvalue = [0, 47, 1]'),\n",
              " Text(55.800000000000004, 21.744, 'entropy = 0.0\\nsamples = 47\\nvalue = [0, 47, 0]'),\n",
              " Text(167.4, 21.744, 'entropy = 0.0\\nsamples = 1\\nvalue = [0, 0, 1]'),\n",
              " Text(223.20000000000002, 65.232, 'entropy = 0.918\\nsamples = 6\\nvalue = [0, 2, 4]'),\n",
              " Text(279.0, 108.72, 'entropy = 0.151\\nsamples = 46\\nvalue = [0, 1, 45]')]"
            ]
          },
          "metadata": {},
          "execution_count": 18
        },
        {
          "output_type": "display_data",
          "data": {
            "image/png": "[encoded data removed]",
            "text/plain": [
              "<Figure size 432x288 with 1 Axes>"
            ]
          },
          "metadata": {
            "needs_background": "light"
          }
        }
      ]
    },
    {
      "cell_type": "markdown",
      "metadata": {
        "id": "k67iUxQM5hGk"
      },
      "source": [
        "#TEST"
      ]
    },
    {
      "cell_type": "code",
      "metadata": {
        "id": "zyuCjZQF5g7g"
      },
      "source": [
        "from sklearn import datasets\n",
        "\n",
        "digit_data = datasets.load_digits()"
      ],
      "execution_count": 19,
      "outputs": []
    },
    {
      "cell_type": "code",
      "metadata": {
        "id": "kg4GnmmD4w0V",
        "colab": {
          "base_uri": "https://localhost:8080/"
        },
        "outputId": "a9227a84-d490-4634-bc4b-ac986465e783"
      },
      "source": [
        "X = digit_data['data']\n",
        "X.shape"
      ],
      "execution_count": 20,
      "outputs": [
        {
          "output_type": "execute_result",
          "data": {
            "text/plain": [
              "(1797, 64)"
            ]
          },
          "metadata": {},
          "execution_count": 20
        }
      ]
    },
    {
      "cell_type": "code",
      "metadata": {
        "id": "JpP0V_Y04wwj",
        "colab": {
          "base_uri": "https://localhost:8080/"
        },
        "outputId": "e385b2a9-ebcb-48d2-96ff-ddd4402f5265"
      },
      "source": [
        "X[0,:]"
      ],
      "execution_count": 21,
      "outputs": [
        {
          "output_type": "execute_result",
          "data": {
            "text/plain": [
              "array([ 0.,  0.,  5., 13.,  9.,  1.,  0.,  0.,  0.,  0., 13., 15., 10.,\n",
              "       15.,  5.,  0.,  0.,  3., 15.,  2.,  0., 11.,  8.,  0.,  0.,  4.,\n",
              "       12.,  0.,  0.,  8.,  8.,  0.,  0.,  5.,  8.,  0.,  0.,  9.,  8.,\n",
              "        0.,  0.,  4., 11.,  0.,  1., 12.,  7.,  0.,  0.,  2., 14.,  5.,\n",
              "       10., 12.,  0.,  0.,  0.,  0.,  6., 13., 10.,  0.,  0.,  0.])"
            ]
          },
          "metadata": {},
          "execution_count": 21
        }
      ]
    },
    {
      "cell_type": "code",
      "metadata": {
        "id": "2vi05e8J4wvC"
      },
      "source": [
        "from matplotlib import pyplot as plt"
      ],
      "execution_count": 22,
      "outputs": []
    },
    {
      "cell_type": "code",
      "metadata": {
        "id": "19ZzoCEF5m70",
        "colab": {
          "base_uri": "https://localhost:8080/",
          "height": 0
        },
        "outputId": "86d3f0db-605e-447b-f3f9-fc2a6edb4e78"
      },
      "source": [
        "plt.imshow(np.reshape(X[0,:],(8,8)))"
      ],
      "execution_count": 23,
      "outputs": [
        {
          "output_type": "execute_result",
          "data": {
            "text/plain": [
              "<matplotlib.image.AxesImage at 0x7f2989795d50>"
            ]
          },
          "metadata": {},
          "execution_count": 23
        },
        {
          "output_type": "display_data",
          "data": {
            "image/png": "[encoded data removed]",
            "text/plain": [
              "<Figure size 432x288 with 1 Axes>"
            ]
          },
          "metadata": {
            "needs_background": "light"
          }
        }
      ]
    },
    {
      "cell_type": "code",
      "metadata": {
        "id": "FrbRzZJB5m4C",
        "colab": {
          "base_uri": "https://localhost:8080/",
          "height": 0
        },
        "outputId": "cfac15e9-cfb0-4fe7-f7df-3bc34c6a115d"
      },
      "source": [
        "plt.imshow(np.reshape(X[1,:],(8,8)))"
      ],
      "execution_count": 24,
      "outputs": [
        {
          "output_type": "execute_result",
          "data": {
            "text/plain": [
              "<matplotlib.image.AxesImage at 0x7f2989a12950>"
            ]
          },
          "metadata": {},
          "execution_count": 24
        },
        {
          "output_type": "display_data",
          "data": {
            "image/png": "[encoded data removed]",
            "text/plain": [
              "<Figure size 432x288 with 1 Axes>"
            ]
          },
          "metadata": {
            "needs_background": "light"
          }
        }
      ]
    },
    {
      "cell_type": "code",
      "metadata": {
        "id": "NxZw8pqQ5m2K"
      },
      "source": [
        "y = digit_data['target']"
      ],
      "execution_count": 25,
      "outputs": []
    },
    {
      "cell_type": "code",
      "metadata": {
        "id": "qS5IMIte5m0B",
        "colab": {
          "base_uri": "https://localhost:8080/"
        },
        "outputId": "038cdc82-63ca-4137-b8a4-0cc139ed47ff"
      },
      "source": [
        "y"
      ],
      "execution_count": 26,
      "outputs": [
        {
          "output_type": "execute_result",
          "data": {
            "text/plain": [
              "array([0, 1, 2, ..., 8, 9, 8])"
            ]
          },
          "metadata": {},
          "execution_count": 26
        }
      ]
    },
    {
      "cell_type": "markdown",
      "metadata": {
        "id": "XPYEx7k_5sus"
      },
      "source": [
        "#Start here"
      ]
    },
    {
      "cell_type": "code",
      "metadata": {
        "id": "JhFAEEcz5ta6"
      },
      "source": [
        "from sklearn.model_selection import train_test_split"
      ],
      "execution_count": 27,
      "outputs": []
    },
    {
      "cell_type": "markdown",
      "metadata": {
        "id": "uJZRxC025wvD"
      },
      "source": [
        "#Train - Test"
      ]
    },
    {
      "cell_type": "code",
      "metadata": {
        "id": "i-ky6jPq5toD"
      },
      "source": [
        "X_train, X_test, y_train, y_test = train_test_split(X, y, test_size=0.5, random_state=6)"
      ],
      "execution_count": 28,
      "outputs": []
    },
    {
      "cell_type": "code",
      "metadata": {
        "id": "NIthJsLH5tlk",
        "colab": {
          "base_uri": "https://localhost:8080/"
        },
        "outputId": "280908f4-1e81-461b-fe0f-2007ac238e87"
      },
      "source": [
        "X_train.shape"
      ],
      "execution_count": 29,
      "outputs": [
        {
          "output_type": "execute_result",
          "data": {
            "text/plain": [
              "(898, 64)"
            ]
          },
          "metadata": {},
          "execution_count": 29
        }
      ]
    },
    {
      "cell_type": "markdown",
      "metadata": {
        "id": "hR7wm-bm52us"
      },
      "source": [
        "#Train - Validation"
      ]
    },
    {
      "cell_type": "code",
      "metadata": {
        "id": "Jjid4JJT5tjP"
      },
      "source": [
        "X_train2, X_val, y_train2, y_val = train_test_split(X_train, y_train, test_size=0.3, random_state=6)"
      ],
      "execution_count": 30,
      "outputs": []
    },
    {
      "cell_type": "code",
      "metadata": {
        "id": "z0D6JsZ65thg",
        "colab": {
          "base_uri": "https://localhost:8080/"
        },
        "outputId": "422217a2-25aa-4fa6-c02b-dc96f339edc8"
      },
      "source": [
        "X_train2.shape"
      ],
      "execution_count": 31,
      "outputs": [
        {
          "output_type": "execute_result",
          "data": {
            "text/plain": [
              "(628, 64)"
            ]
          },
          "metadata": {},
          "execution_count": 31
        }
      ]
    },
    {
      "cell_type": "markdown",
      "metadata": {
        "id": "X44O1DGB58Wn"
      },
      "source": [
        "#Import"
      ]
    },
    {
      "cell_type": "code",
      "metadata": {
        "id": "utak_I7p58Qe"
      },
      "source": [
        "from sklearn.tree import DecisionTreeClassifier"
      ],
      "execution_count": 32,
      "outputs": []
    },
    {
      "cell_type": "markdown",
      "metadata": {
        "id": "itCcko1s5_JB"
      },
      "source": [
        "#Define"
      ]
    },
    {
      "cell_type": "code",
      "metadata": {
        "id": "c9ETX96Q5te_"
      },
      "source": [
        "mytree1 = DecisionTreeClassifier()"
      ],
      "execution_count": 33,
      "outputs": []
    },
    {
      "cell_type": "markdown",
      "metadata": {
        "id": "OMDUoczd6CDq"
      },
      "source": [
        "#Train"
      ]
    },
    {
      "cell_type": "code",
      "metadata": {
        "id": "5ekYZtsJ5mx_",
        "colab": {
          "base_uri": "https://localhost:8080/"
        },
        "outputId": "c3fd8508-2138-4c37-cb5f-d120d3eeb129"
      },
      "source": [
        "mytree1.fit(X_train2,y_train2)"
      ],
      "execution_count": 34,
      "outputs": [
        {
          "output_type": "execute_result",
          "data": {
            "text/plain": [
              "DecisionTreeClassifier(ccp_alpha=0.0, class_weight=None, criterion='gini',\n",
              "                       max_depth=None, max_features=None, max_leaf_nodes=None,\n",
              "                       min_impurity_decrease=0.0, min_impurity_split=None,\n",
              "                       min_samples_leaf=1, min_samples_split=2,\n",
              "                       min_weight_fraction_leaf=0.0, presort='deprecated',\n",
              "                       random_state=None, splitter='best')"
            ]
          },
          "metadata": {},
          "execution_count": 34
        }
      ]
    },
    {
      "cell_type": "markdown",
      "metadata": {
        "id": "6aniGHeY6E2D"
      },
      "source": [
        "#HW'\n",
        "\n",
        "1.ต้นไม้ที่ใช้เกณฑ์ Entropy มีความสูงไม่เกิน 4 ชั้น\n",
        "\n",
        "2.ต้นไม้ที่ใช้เกณฑ์ Gini มีใบไม่เกิน 25 ใบ\n",
        "\n",
        "3.ต้นไม้ที่ใช้เกณฑ์ Entropy และใช้การ split แบบ random\n",
        "\n",
        "4.ต้นไม้ที่เราคิดเอง"
      ]
    },
    {
      "cell_type": "markdown",
      "metadata": {
        "id": "Sp7MJT9T6res"
      },
      "source": [
        "#1.ต้นไม้ที่ใช้เกณฑ์ Entropy มีความสูงไม่เกิน 4 ชั้น"
      ]
    },
    {
      "cell_type": "code",
      "metadata": {
        "id": "qtgsBQ3o6Esd"
      },
      "source": [
        "from sklearn.tree import DecisionTreeClassifier #improt"
      ],
      "execution_count": 35,
      "outputs": []
    },
    {
      "cell_type": "code",
      "metadata": {
        "id": "uB4QVN2_5mv7"
      },
      "source": [
        "TREE_1 = DecisionTreeClassifier(max_depth=4,criterion='entropy') #Define"
      ],
      "execution_count": 36,
      "outputs": []
    },
    {
      "cell_type": "code",
      "metadata": {
        "id": "XLSjp0OJ5mtv",
        "colab": {
          "base_uri": "https://localhost:8080/"
        },
        "outputId": "74e0458d-d39b-4237-f6ea-5dd4b9c04c13"
      },
      "source": [
        "TREE_1.fit(X_train2,y_train2) #Train"
      ],
      "execution_count": 37,
      "outputs": [
        {
          "output_type": "execute_result",
          "data": {
            "text/plain": [
              "DecisionTreeClassifier(ccp_alpha=0.0, class_weight=None, criterion='entropy',\n",
              "                       max_depth=4, max_features=None, max_leaf_nodes=None,\n",
              "                       min_impurity_decrease=0.0, min_impurity_split=None,\n",
              "                       min_samples_leaf=1, min_samples_split=2,\n",
              "                       min_weight_fraction_leaf=0.0, presort='deprecated',\n",
              "                       random_state=None, splitter='best')"
            ]
          },
          "metadata": {},
          "execution_count": 37
        }
      ]
    },
    {
      "cell_type": "code",
      "metadata": {
        "id": "t0GhtD4O_j15"
      },
      "source": [
        "from sklearn.metrics import accuracy_score #Evaluate"
      ],
      "execution_count": 38,
      "outputs": []
    },
    {
      "cell_type": "code",
      "metadata": {
        "id": "-PiiThqm7CqD"
      },
      "source": [
        "TREE_1_result = TREE_1.predict(X_val) #Test"
      ],
      "execution_count": 39,
      "outputs": []
    },
    {
      "cell_type": "code",
      "metadata": {
        "id": "sq46sI4j7Ch0",
        "colab": {
          "base_uri": "https://localhost:8080/"
        },
        "outputId": "d570280f-0aef-48fd-8ff3-aa50295540cb"
      },
      "source": [
        "accuracy_score(y_val, TREE_1_result)"
      ],
      "execution_count": 40,
      "outputs": [
        {
          "output_type": "execute_result",
          "data": {
            "text/plain": [
              "0.6851851851851852"
            ]
          },
          "metadata": {},
          "execution_count": 40
        }
      ]
    },
    {
      "cell_type": "markdown",
      "metadata": {
        "id": "l0oYudQZ7Uhk"
      },
      "source": [
        "#2. ต้นไม้ที่ใช้เกณฑ์ Gini มีใบไม่เกิน 25 ใบ"
      ]
    },
    {
      "cell_type": "code",
      "metadata": {
        "id": "naopsOpJ7Cga"
      },
      "source": [
        "from sklearn.tree import DecisionTreeClassifier #improt"
      ],
      "execution_count": 41,
      "outputs": []
    },
    {
      "cell_type": "code",
      "metadata": {
        "id": "YUNeHX4d7Ce0"
      },
      "source": [
        "TREE_2 = DecisionTreeClassifier(max_leaf_nodes=25,criterion='gini') #Define"
      ],
      "execution_count": 42,
      "outputs": []
    },
    {
      "cell_type": "code",
      "metadata": {
        "id": "jHuaG1nk7CbZ",
        "colab": {
          "base_uri": "https://localhost:8080/"
        },
        "outputId": "e0aad783-6473-43c0-d4fa-10e444109a1a"
      },
      "source": [
        "TREE_2.fit(X_train2,y_train2) #Train"
      ],
      "execution_count": 43,
      "outputs": [
        {
          "output_type": "execute_result",
          "data": {
            "text/plain": [
              "DecisionTreeClassifier(ccp_alpha=0.0, class_weight=None, criterion='gini',\n",
              "                       max_depth=None, max_features=None, max_leaf_nodes=25,\n",
              "                       min_impurity_decrease=0.0, min_impurity_split=None,\n",
              "                       min_samples_leaf=1, min_samples_split=2,\n",
              "                       min_weight_fraction_leaf=0.0, presort='deprecated',\n",
              "                       random_state=None, splitter='best')"
            ]
          },
          "metadata": {},
          "execution_count": 43
        }
      ]
    },
    {
      "cell_type": "code",
      "metadata": {
        "id": "MN7ImKue7CZI"
      },
      "source": [
        "from sklearn.metrics import accuracy_score #Evaluate"
      ],
      "execution_count": 44,
      "outputs": []
    },
    {
      "cell_type": "code",
      "metadata": {
        "id": "UHnUrjYS7CXB"
      },
      "source": [
        "TREE_2_result = TREE_2.predict(X_val) "
      ],
      "execution_count": 45,
      "outputs": []
    },
    {
      "cell_type": "code",
      "metadata": {
        "id": "kAweLIFv7CU-",
        "colab": {
          "base_uri": "https://localhost:8080/"
        },
        "outputId": "22340b2d-5381-4d2d-b9c8-d4a0fcc77d4a"
      },
      "source": [
        "accuracy_score(y_val, TREE_2_result)"
      ],
      "execution_count": 46,
      "outputs": [
        {
          "output_type": "execute_result",
          "data": {
            "text/plain": [
              "0.7555555555555555"
            ]
          },
          "metadata": {},
          "execution_count": 46
        }
      ]
    },
    {
      "cell_type": "markdown",
      "metadata": {
        "id": "mYVwTPWb7xxl"
      },
      "source": [
        "#3. ต้นไม้ที่ใช้เกณฑ์ Entropy และใช้การ split แบบ random"
      ]
    },
    {
      "cell_type": "code",
      "metadata": {
        "id": "V_s9ZYmY7CSW"
      },
      "source": [
        "from sklearn.tree import DecisionTreeClassifier"
      ],
      "execution_count": 47,
      "outputs": []
    },
    {
      "cell_type": "code",
      "metadata": {
        "id": "S9ehI0ar7y8R"
      },
      "source": [
        "TREE_3 = DecisionTreeClassifier(criterion='entropy', splitter='random')"
      ],
      "execution_count": 48,
      "outputs": []
    },
    {
      "cell_type": "code",
      "metadata": {
        "id": "bM1DdLno7y6N",
        "colab": {
          "base_uri": "https://localhost:8080/"
        },
        "outputId": "b64e0309-ecc2-419b-d082-2a74f2f02076"
      },
      "source": [
        "TREE_3.fit(X_train2,y_train2)"
      ],
      "execution_count": 49,
      "outputs": [
        {
          "output_type": "execute_result",
          "data": {
            "text/plain": [
              "DecisionTreeClassifier(ccp_alpha=0.0, class_weight=None, criterion='entropy',\n",
              "                       max_depth=None, max_features=None, max_leaf_nodes=None,\n",
              "                       min_impurity_decrease=0.0, min_impurity_split=None,\n",
              "                       min_samples_leaf=1, min_samples_split=2,\n",
              "                       min_weight_fraction_leaf=0.0, presort='deprecated',\n",
              "                       random_state=None, splitter='random')"
            ]
          },
          "metadata": {},
          "execution_count": 49
        }
      ]
    },
    {
      "cell_type": "code",
      "metadata": {
        "id": "Nb8EE8tV7y4V"
      },
      "source": [
        "from sklearn.metrics import accuracy_score"
      ],
      "execution_count": 50,
      "outputs": []
    },
    {
      "cell_type": "code",
      "metadata": {
        "id": "aLBL6b197y3K"
      },
      "source": [
        "TREE_3_result = TREE_3.predict(X_val)"
      ],
      "execution_count": 51,
      "outputs": []
    },
    {
      "cell_type": "code",
      "metadata": {
        "id": "QXwbxgMP7y0O",
        "colab": {
          "base_uri": "https://localhost:8080/"
        },
        "outputId": "4b6edcf8-2acf-45ec-dc1f-c8382c763bb2"
      },
      "source": [
        "accuracy_score(y_val, TREE_3_result)"
      ],
      "execution_count": 52,
      "outputs": [
        {
          "output_type": "execute_result",
          "data": {
            "text/plain": [
              "0.837037037037037"
            ]
          },
          "metadata": {},
          "execution_count": 52
        }
      ]
    },
    {
      "cell_type": "markdown",
      "metadata": {
        "id": "Ka2XbNr78OWK"
      },
      "source": [
        "#4.ต้นไม้ที่ใช้เกณฑ์ entropy มีใบไม่เกิน 40 ใบ"
      ]
    },
    {
      "cell_type": "code",
      "metadata": {
        "id": "5MOmWWPS7yx2"
      },
      "source": [
        "from sklearn.tree import DecisionTreeClassifier #improt"
      ],
      "execution_count": 53,
      "outputs": []
    },
    {
      "cell_type": "code",
      "metadata": {
        "id": "oeArrW0N7yv9"
      },
      "source": [
        "TREE_4 = DecisionTreeClassifier(max_leaf_nodes=40,criterion='entropy') "
      ],
      "execution_count": 93,
      "outputs": []
    },
    {
      "cell_type": "code",
      "metadata": {
        "id": "kxM5XJwY7yt2",
        "colab": {
          "base_uri": "https://localhost:8080/"
        },
        "outputId": "c314bc0f-f34a-4e26-98bc-626d432b39b7"
      },
      "source": [
        "TREE_4 .fit(X_train2,y_train2)"
      ],
      "execution_count": 94,
      "outputs": [
        {
          "output_type": "execute_result",
          "data": {
            "text/plain": [
              "DecisionTreeClassifier(ccp_alpha=0.0, class_weight=None, criterion='entropy',\n",
              "                       max_depth=None, max_features=None, max_leaf_nodes=40,\n",
              "                       min_impurity_decrease=0.0, min_impurity_split=None,\n",
              "                       min_samples_leaf=1, min_samples_split=2,\n",
              "                       min_weight_fraction_leaf=0.0, presort='deprecated',\n",
              "                       random_state=None, splitter='best')"
            ]
          },
          "metadata": {},
          "execution_count": 94
        }
      ]
    },
    {
      "cell_type": "code",
      "metadata": {
        "id": "W4EJV1qH7yrr"
      },
      "source": [
        "TREE_4_result = TREE_4.predict(X_val)"
      ],
      "execution_count": 95,
      "outputs": []
    },
    {
      "cell_type": "code",
      "metadata": {
        "id": "VlY1wwwG7CQd",
        "colab": {
          "base_uri": "https://localhost:8080/"
        },
        "outputId": "e7d592cf-b248-4640-acd7-8f0e33a271d3"
      },
      "source": [
        "accuracy_score(y_val, TREE_4_result)"
      ],
      "execution_count": 96,
      "outputs": [
        {
          "output_type": "execute_result",
          "data": {
            "text/plain": [
              "0.8074074074074075"
            ]
          },
          "metadata": {},
          "execution_count": 96
        }
      ]
    },
    {
      "cell_type": "code",
      "metadata": {
        "id": "YjToXZyQ7CLs",
        "outputId": "6a512a74-2163-4b27-eb01-537f85aa5a2b",
        "colab": {
          "base_uri": "https://localhost:8080/"
        }
      },
      "source": [
        "##import\n",
        "from sklearn.tree import DecisionTreeClassifier \n",
        "##define\n",
        "T4final = DecisionTreeClassifier(criterion='entropy',random_state=5,splitter='random')\n",
        "##train\n",
        "T4final.fit(X_train,y_train)\n",
        "##test-evaluate\n",
        "T4_finalresult = T4final.predict(X_test)\n",
        "accuracy_score(y_test,T4_finalresult)"
      ],
      "execution_count": 100,
      "outputs": [
        {
          "output_type": "execute_result",
          "data": {
            "text/plain": [
              "0.8431590656284761"
            ]
          },
          "metadata": {},
          "execution_count": 100
        }
      ]
    },
    {
      "cell_type": "code",
      "metadata": {
        "id": "AALFFD3hsPgm"
      },
      "source": [
        ""
      ],
      "execution_count": null,
      "outputs": []
    }
  ]
}