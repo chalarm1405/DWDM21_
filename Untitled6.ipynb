{
  "nbformat": 4,
  "nbformat_minor": 0,
  "metadata": {
    "colab": {
      "name": "Untitled6.ipynb",
      "provenance": [],
      "authorship_tag": "ABX9TyNqJYvPD7W7lFkkbNbdVo6h",
      "include_colab_link": true
    },
    "kernelspec": {
      "name": "python3",
      "display_name": "Python 3"
    },
    "language_info": {
      "name": "python"
    }
  },
  "cells": [
    {
      "cell_type": "markdown",
      "metadata": {
        "id": "view-in-github",
        "colab_type": "text"
      },
      "source": [
        "<a href=\"https://colab.research.google.com/github/chalarm1405/DWDM21_/blob/main/Untitled6.ipynb\" target=\"_parent\"><img src=\"https://colab.research.google.com/assets/colab-badge.svg\" alt=\"Open In Colab\"/></a>"
      ]
    },
    {
      "cell_type": "markdown",
      "metadata": {
        "id": "5w_42pxG8UaT"
      },
      "source": [
        "#DWDM21"
      ]
    },
    {
      "cell_type": "markdown",
      "metadata": {
        "id": "YW04AjIq8biC"
      },
      "source": [
        "###Data warehouse & Data Mining 2021"
      ]
    },
    {
      "cell_type": "code",
      "metadata": {
        "id": "iyhNDL3G8ZDd"
      },
      "source": [
        ""
      ],
      "execution_count": null,
      "outputs": []
    }
  ]
}