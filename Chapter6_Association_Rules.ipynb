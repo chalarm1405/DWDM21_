{
  "nbformat": 4,
  "nbformat_minor": 0,
  "metadata": {
    "colab": {
      "name": "Untitled13.ipynb",
      "provenance": [],
      "authorship_tag": "ABX9TyNFtVESayaNNGL3SggKHLuY",
      "include_colab_link": true
    },
    "kernelspec": {
      "name": "python3",
      "display_name": "Python 3"
    },
    "language_info": {
      "name": "python"
    }
  },
  "cells": [
    {
      "cell_type": "markdown",
      "metadata": {
        "id": "view-in-github",
        "colab_type": "text"
      },
      "source": [
        "<a href=\"https://colab.research.google.com/github/chalarm1405/DWDM21_/blob/main/Chapter6_Association_Rules.ipynb\" target=\"_parent\"><img src=\"https://colab.research.google.com/assets/colab-badge.svg\" alt=\"Open In Colab\"/></a>"
      ]
    },
    {
      "cell_type": "code",
      "metadata": {
        "id": "wzaqrXyHDjJ7"
      },
      "source": [
        "import pandas as pd "
      ],
      "execution_count": 7,
      "outputs": []
    },
    {
      "cell_type": "code",
      "metadata": {
        "id": "Vt0_THS_DjIF",
        "outputId": "293ab9a3-9227-4f86-cbf5-204e21a12185",
        "colab": {
          "base_uri": "https://localhost:8080/"
        }
      },
      "source": [
        "from google.colab import drive #เชื่อม Google drive\n",
        "drive.mount('/content/drive')"
      ],
      "execution_count": 8,
      "outputs": [
        {
          "output_type": "stream",
          "name": "stdout",
          "text": [
            "Drive already mounted at /content/drive; to attempt to forcibly remount, call drive.mount(\"/content/drive\", force_remount=True).\n"
          ]
        }
      ]
    },
    {
      "cell_type": "code",
      "metadata": {
        "id": "XYY7J9wtDjFu"
      },
      "source": [
        "import os"
      ],
      "execution_count": 9,
      "outputs": []
    },
    {
      "cell_type": "code",
      "metadata": {
        "id": "7dDtFi_bDjDf"
      },
      "source": [
        "data = pd.read_csv(os.path.join(path,'reduced_marketbasket.csv'),encoding='latin1')"
      ],
      "execution_count": 10,
      "outputs": []
    },
    {
      "cell_type": "code",
      "metadata": {
        "id": "qKAXIgQCD2V_",
        "outputId": "e1c25c27-228b-4b64-811d-3a9976775983",
        "colab": {
          "base_uri": "https://localhost:8080/",
          "height": 423
        }
      },
      "source": [
        "data"
      ],
      "execution_count": 11,
      "outputs": [
        {
          "output_type": "execute_result",
          "data": {
            "text/html": [
              "<div>\n",
              "<style scoped>\n",
              "    .dataframe tbody tr th:only-of-type {\n",
              "        vertical-align: middle;\n",
              "    }\n",
              "\n",
              "    .dataframe tbody tr th {\n",
              "        vertical-align: top;\n",
              "    }\n",
              "\n",
              "    .dataframe thead th {\n",
              "        text-align: right;\n",
              "    }\n",
              "</style>\n",
              "<table border=\"1\" class=\"dataframe\">\n",
              "  <thead>\n",
              "    <tr style=\"text-align: right;\">\n",
              "      <th></th>\n",
              "      <th>InvoiceNo</th>\n",
              "      <th>StockCode</th>\n",
              "      <th>Description</th>\n",
              "      <th>Quantity</th>\n",
              "      <th>InvoiceDate</th>\n",
              "      <th>UnitPrice</th>\n",
              "      <th>CustomerID</th>\n",
              "      <th>Country</th>\n",
              "    </tr>\n",
              "  </thead>\n",
              "  <tbody>\n",
              "    <tr>\n",
              "      <th>0</th>\n",
              "      <td>536365</td>\n",
              "      <td>85123A</td>\n",
              "      <td>WHITE HANGING HEART T-LIGHT HOLDER</td>\n",
              "      <td>6</td>\n",
              "      <td>12/01/2010 08:26</td>\n",
              "      <td>2.55</td>\n",
              "      <td>17850.0</td>\n",
              "      <td>United Kingdom</td>\n",
              "    </tr>\n",
              "    <tr>\n",
              "      <th>1</th>\n",
              "      <td>536365</td>\n",
              "      <td>71053</td>\n",
              "      <td>WHITE METAL LANTERN</td>\n",
              "      <td>6</td>\n",
              "      <td>12/01/2010 08:26</td>\n",
              "      <td>3.39</td>\n",
              "      <td>17850.0</td>\n",
              "      <td>United Kingdom</td>\n",
              "    </tr>\n",
              "    <tr>\n",
              "      <th>2</th>\n",
              "      <td>536365</td>\n",
              "      <td>84406B</td>\n",
              "      <td>CREAM CUPID HEARTS COAT HANGER</td>\n",
              "      <td>8</td>\n",
              "      <td>12/01/2010 08:26</td>\n",
              "      <td>2.75</td>\n",
              "      <td>17850.0</td>\n",
              "      <td>United Kingdom</td>\n",
              "    </tr>\n",
              "    <tr>\n",
              "      <th>3</th>\n",
              "      <td>536365</td>\n",
              "      <td>84029G</td>\n",
              "      <td>KNITTED UNION FLAG HOT WATER BOTTLE</td>\n",
              "      <td>6</td>\n",
              "      <td>12/01/2010 08:26</td>\n",
              "      <td>3.39</td>\n",
              "      <td>17850.0</td>\n",
              "      <td>United Kingdom</td>\n",
              "    </tr>\n",
              "    <tr>\n",
              "      <th>4</th>\n",
              "      <td>536365</td>\n",
              "      <td>84029E</td>\n",
              "      <td>RED WOOLLY HOTTIE WHITE HEART.</td>\n",
              "      <td>6</td>\n",
              "      <td>12/01/2010 08:26</td>\n",
              "      <td>3.39</td>\n",
              "      <td>17850.0</td>\n",
              "      <td>United Kingdom</td>\n",
              "    </tr>\n",
              "    <tr>\n",
              "      <th>...</th>\n",
              "      <td>...</td>\n",
              "      <td>...</td>\n",
              "      <td>...</td>\n",
              "      <td>...</td>\n",
              "      <td>...</td>\n",
              "      <td>...</td>\n",
              "      <td>...</td>\n",
              "      <td>...</td>\n",
              "    </tr>\n",
              "    <tr>\n",
              "      <th>541904</th>\n",
              "      <td>581587</td>\n",
              "      <td>22613</td>\n",
              "      <td>PACK OF 20 SPACEBOY NAPKINS</td>\n",
              "      <td>12</td>\n",
              "      <td>12/09/2011 12:50</td>\n",
              "      <td>0.85</td>\n",
              "      <td>12680.0</td>\n",
              "      <td>France</td>\n",
              "    </tr>\n",
              "    <tr>\n",
              "      <th>541905</th>\n",
              "      <td>581587</td>\n",
              "      <td>22899</td>\n",
              "      <td>CHILDREN'S APRON DOLLY GIRL</td>\n",
              "      <td>6</td>\n",
              "      <td>12/09/2011 12:50</td>\n",
              "      <td>2.10</td>\n",
              "      <td>12680.0</td>\n",
              "      <td>France</td>\n",
              "    </tr>\n",
              "    <tr>\n",
              "      <th>541906</th>\n",
              "      <td>581587</td>\n",
              "      <td>23254</td>\n",
              "      <td>CHILDRENS CUTLERY DOLLY GIRL</td>\n",
              "      <td>4</td>\n",
              "      <td>12/09/2011 12:50</td>\n",
              "      <td>4.15</td>\n",
              "      <td>12680.0</td>\n",
              "      <td>France</td>\n",
              "    </tr>\n",
              "    <tr>\n",
              "      <th>541907</th>\n",
              "      <td>581587</td>\n",
              "      <td>23255</td>\n",
              "      <td>CHILDRENS CUTLERY CIRCUS PARADE</td>\n",
              "      <td>4</td>\n",
              "      <td>12/09/2011 12:50</td>\n",
              "      <td>4.15</td>\n",
              "      <td>12680.0</td>\n",
              "      <td>France</td>\n",
              "    </tr>\n",
              "    <tr>\n",
              "      <th>541908</th>\n",
              "      <td>581587</td>\n",
              "      <td>22138</td>\n",
              "      <td>BAKING SET 9 PIECE RETROSPOT</td>\n",
              "      <td>3</td>\n",
              "      <td>12/09/2011 12:50</td>\n",
              "      <td>4.95</td>\n",
              "      <td>12680.0</td>\n",
              "      <td>France</td>\n",
              "    </tr>\n",
              "  </tbody>\n",
              "</table>\n",
              "<p>541909 rows × 8 columns</p>\n",
              "</div>"
            ],
            "text/plain": [
              "       InvoiceNo StockCode  ... CustomerID         Country\n",
              "0         536365    85123A  ...    17850.0  United Kingdom\n",
              "1         536365     71053  ...    17850.0  United Kingdom\n",
              "2         536365    84406B  ...    17850.0  United Kingdom\n",
              "3         536365    84029G  ...    17850.0  United Kingdom\n",
              "4         536365    84029E  ...    17850.0  United Kingdom\n",
              "...          ...       ...  ...        ...             ...\n",
              "541904    581587     22613  ...    12680.0          France\n",
              "541905    581587     22899  ...    12680.0          France\n",
              "541906    581587     23254  ...    12680.0          France\n",
              "541907    581587     23255  ...    12680.0          France\n",
              "541908    581587     22138  ...    12680.0          France\n",
              "\n",
              "[541909 rows x 8 columns]"
            ]
          },
          "metadata": {},
          "execution_count": 11
        }
      ]
    },
    {
      "cell_type": "markdown",
      "metadata": {
        "id": "ib74jDbYCWHA"
      },
      "source": [
        "#[Q] มีประเทศสาขาของ supermarket นี้ทั้งหมดกี่ประเทศ"
      ]
    },
    {
      "cell_type": "code",
      "metadata": {
        "colab": {
          "base_uri": "https://localhost:8080/"
        },
        "id": "TBEwSRCCCQ7V",
        "outputId": "10a193d6-c255-4c46-8a0e-a0d39632f29f"
      },
      "source": [
        "set(data['Country'])"
      ],
      "execution_count": 12,
      "outputs": [
        {
          "output_type": "execute_result",
          "data": {
            "text/plain": [
              "{'Australia',\n",
              " 'Austria',\n",
              " 'Bahrain',\n",
              " 'Belgium',\n",
              " 'Brazil',\n",
              " 'Canada',\n",
              " 'Channel Islands',\n",
              " 'Cyprus',\n",
              " 'Czech Republic',\n",
              " 'Denmark',\n",
              " 'EIRE',\n",
              " 'European Community',\n",
              " 'Finland',\n",
              " 'France',\n",
              " 'Germany',\n",
              " 'Greece',\n",
              " 'Hong Kong',\n",
              " 'Iceland',\n",
              " 'Israel',\n",
              " 'Italy',\n",
              " 'Japan',\n",
              " 'Lebanon',\n",
              " 'Lithuania',\n",
              " 'Malta',\n",
              " 'Netherlands',\n",
              " 'Norway',\n",
              " 'Poland',\n",
              " 'Portugal',\n",
              " 'RSA',\n",
              " 'Saudi Arabia',\n",
              " 'Singapore',\n",
              " 'Spain',\n",
              " 'Sweden',\n",
              " 'Switzerland',\n",
              " 'USA',\n",
              " 'United Arab Emirates',\n",
              " 'United Kingdom',\n",
              " 'Unspecified'}"
            ]
          },
          "metadata": {},
          "execution_count": 12
        }
      ]
    },
    {
      "cell_type": "code",
      "metadata": {
        "colab": {
          "base_uri": "https://localhost:8080/"
        },
        "id": "5zFTvVPvCQ5G",
        "outputId": "92487592-2712-41bc-dafa-2c4b36a20fa3"
      },
      "source": [
        "len(set(data['Country']))"
      ],
      "execution_count": 13,
      "outputs": [
        {
          "output_type": "execute_result",
          "data": {
            "text/plain": [
              "38"
            ]
          },
          "metadata": {},
          "execution_count": 13
        }
      ]
    },
    {
      "cell_type": "markdown",
      "metadata": {
        "id": "7HlqVzmRCaPU"
      },
      "source": [
        "#การบ้านครั้งที่ 13 วาดกราฟสรุปจำนวน items และ ยอดขายของแต่ละประเทศ"
      ]
    },
    {
      "cell_type": "code",
      "metadata": {
        "id": "hfVTWZaYCQ25"
      },
      "source": [
        "from matplotlib import pyplot as plt"
      ],
      "execution_count": 16,
      "outputs": []
    },
    {
      "cell_type": "code",
      "metadata": {
        "id": "3S8Frw-hCQ0r"
      },
      "source": [
        "import numpy as np"
      ],
      "execution_count": 17,
      "outputs": []
    },
    {
      "cell_type": "code",
      "metadata": {
        "colab": {
          "base_uri": "https://localhost:8080/"
        },
        "id": "jvP9C38UCQyc",
        "outputId": "6a05850a-68b4-4e36-b3cb-27c80ad5706d"
      },
      "source": [
        "data_1 = data['Quantity']\n",
        "data_2 = data_1.iloc[:50]\n",
        "data_2"
      ],
      "execution_count": 19,
      "outputs": [
        {
          "output_type": "execute_result",
          "data": {
            "text/plain": [
              "0      6\n",
              "1      6\n",
              "2      8\n",
              "3      6\n",
              "4      6\n",
              "5      2\n",
              "6      6\n",
              "7      6\n",
              "8      6\n",
              "9     32\n",
              "10     6\n",
              "11     6\n",
              "12     8\n",
              "13     6\n",
              "14     6\n",
              "15     3\n",
              "16     2\n",
              "17     3\n",
              "18     3\n",
              "19     4\n",
              "20     4\n",
              "21     6\n",
              "22     3\n",
              "23     3\n",
              "24     3\n",
              "25     3\n",
              "26    24\n",
              "27    24\n",
              "28    12\n",
              "29    12\n",
              "30    24\n",
              "31    48\n",
              "32    24\n",
              "33    18\n",
              "34    24\n",
              "35    24\n",
              "36    24\n",
              "37    24\n",
              "38    20\n",
              "39    24\n",
              "40    24\n",
              "41    12\n",
              "42    24\n",
              "43    24\n",
              "44    36\n",
              "45     3\n",
              "46    80\n",
              "47     6\n",
              "48     6\n",
              "49     6\n",
              "Name: Quantity, dtype: int64"
            ]
          },
          "metadata": {},
          "execution_count": 19
        }
      ]
    },
    {
      "cell_type": "code",
      "metadata": {
        "colab": {
          "base_uri": "https://localhost:8080/"
        },
        "id": "KbKrTrigCQwO",
        "outputId": "a43f251b-0757-447d-ba28-211c48f219b8"
      },
      "source": [
        "data_data = data['Quantity'] * data['UnitPrice']\n",
        "data_data"
      ],
      "execution_count": 20,
      "outputs": [
        {
          "output_type": "execute_result",
          "data": {
            "text/plain": [
              "0         15.30\n",
              "1         20.34\n",
              "2         22.00\n",
              "3         20.34\n",
              "4         20.34\n",
              "          ...  \n",
              "541904    10.20\n",
              "541905    12.60\n",
              "541906    16.60\n",
              "541907    16.60\n",
              "541908    14.85\n",
              "Length: 541909, dtype: float64"
            ]
          },
          "metadata": {},
          "execution_count": 20
        }
      ]
    },
    {
      "cell_type": "code",
      "metadata": {
        "id": "rlUNScImCQt7"
      },
      "source": [
        ""
      ],
      "execution_count": null,
      "outputs": []
    },
    {
      "cell_type": "code",
      "metadata": {
        "id": "lOm7VOu4CQrl"
      },
      "source": [
        ""
      ],
      "execution_count": null,
      "outputs": []
    },
    {
      "cell_type": "code",
      "metadata": {
        "id": "BwpOD_SYCQTd"
      },
      "source": [
        ""
      ],
      "execution_count": null,
      "outputs": []
    }
  ]
}