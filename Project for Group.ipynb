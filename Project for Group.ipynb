{
  "nbformat": 4,
  "nbformat_minor": 0,
  "metadata": {
    "colab": {
      "name": "Untitled12.ipynb",
      "provenance": [],
      "authorship_tag": "ABX9TyO0Y/QwJrw5JA1hKDqPkDEt",
      "include_colab_link": true
    },
    "kernelspec": {
      "name": "python3",
      "display_name": "Python 3"
    },
    "language_info": {
      "name": "python"
    }
  },
  "cells": [
    {
      "cell_type": "markdown",
      "metadata": {
        "id": "view-in-github",
        "colab_type": "text"
      },
      "source": [
        "<a href=\"https://colab.research.google.com/github/chalarm1405/DWDM21_/blob/main/Project%20for%20Group.ipynb\" target=\"_parent\"><img src=\"https://colab.research.google.com/assets/colab-badge.svg\" alt=\"Open In Colab\"/></a>"
      ]
    },
    {
      "cell_type": "code",
      "metadata": {
        "id": "MmWs28KDQMWN"
      },
      "source": [
        "import pandas as pd #ทำงานกับข้อมูลลักษณะตาราง"
      ],
      "execution_count": 3,
      "outputs": []
    },
    {
      "cell_type": "code",
      "metadata": {
        "colab": {
          "base_uri": "https://localhost:8080/"
        },
        "id": "qMETwYZ4QNmr",
        "outputId": "71e8abdc-0f8b-4757-dacc-d13e3f645e6f"
      },
      "source": [
        "from google.colab import drive #เชื่อม Google drive\n",
        "drive.mount('/content/drive')"
      ],
      "execution_count": 4,
      "outputs": [
        {
          "output_type": "stream",
          "name": "stdout",
          "text": [
            "Mounted at /content/drive\n"
          ]
        }
      ]
    },
    {
      "cell_type": "code",
      "metadata": {
        "id": "pY9-2QT0QNlO"
      },
      "source": [
        "import os # os ไว้จัดการไฟล์และถาท ถาทคือที่อยู่ของไฟล์"
      ],
      "execution_count": 5,
      "outputs": []
    },
    {
      "cell_type": "code",
      "metadata": {
        "colab": {
          "base_uri": "https://localhost:8080/",
          "height": 419
        },
        "id": "qi1R4y5zQNi3",
        "outputId": "8f3465d7-3913-4277-d908-77ffd60cd9a8"
      },
      "source": [
        "path = '/content/drive/My Drive/DWDM2021_DATA' #ชื่อ path ชี้ไปไฟล์ที่เราต้องการ\n",
        "data_E20 = pd.read_csv(os.path.join(path,'E20.csv'))\n",
        "data_E20 #ข้อมูลหลักชุดที่ 1"
      ],
      "execution_count": 6,
      "outputs": [
        {
          "output_type": "execute_result",
          "data": {
            "text/html": [
              "<div>\n",
              "<style scoped>\n",
              "    .dataframe tbody tr th:only-of-type {\n",
              "        vertical-align: middle;\n",
              "    }\n",
              "\n",
              "    .dataframe tbody tr th {\n",
              "        vertical-align: top;\n",
              "    }\n",
              "\n",
              "    .dataframe thead th {\n",
              "        text-align: right;\n",
              "    }\n",
              "</style>\n",
              "<table border=\"1\" class=\"dataframe\">\n",
              "  <thead>\n",
              "    <tr style=\"text-align: right;\">\n",
              "      <th></th>\n",
              "      <th>จังหวัด</th>\n",
              "      <th>ปตท. E20</th>\n",
              "      <th>เชลล์ E20</th>\n",
              "      <th>เอสโซ่ E20</th>\n",
              "      <th>เชฟรอน(ไทย) E20</th>\n",
              "      <th>บางจาก E20</th>\n",
              "      <th>ซัสโก้ E20</th>\n",
              "      <th>พีทีจี E20</th>\n",
              "      <th>ไทยออยล์ E20</th>\n",
              "      <th>ซัสโก้ ดีลเลอร์ส E20</th>\n",
              "      <th>สยามเฆมี E20</th>\n",
              "      <th>ปตท. ค้าปลีก E20</th>\n",
              "      <th>ปตท. น้ำมันและการค้าปลีก E20</th>\n",
              "    </tr>\n",
              "  </thead>\n",
              "  <tbody>\n",
              "    <tr>\n",
              "      <th>0</th>\n",
              "      <td>กรุงเทพมหานคร</td>\n",
              "      <td>1587</td>\n",
              "      <td>8336</td>\n",
              "      <td>7983</td>\n",
              "      <td>837</td>\n",
              "      <td>10568</td>\n",
              "      <td>431</td>\n",
              "      <td>59</td>\n",
              "      <td>0</td>\n",
              "      <td>230</td>\n",
              "      <td>4</td>\n",
              "      <td>1957</td>\n",
              "      <td>8695</td>\n",
              "    </tr>\n",
              "    <tr>\n",
              "      <th>1</th>\n",
              "      <td>สมุทรปราการ</td>\n",
              "      <td>250</td>\n",
              "      <td>1365</td>\n",
              "      <td>1275</td>\n",
              "      <td>193</td>\n",
              "      <td>2648</td>\n",
              "      <td>25</td>\n",
              "      <td>0</td>\n",
              "      <td>0</td>\n",
              "      <td>40</td>\n",
              "      <td>0</td>\n",
              "      <td>741</td>\n",
              "      <td>1868</td>\n",
              "    </tr>\n",
              "    <tr>\n",
              "      <th>2</th>\n",
              "      <td>นนทบุรี</td>\n",
              "      <td>102</td>\n",
              "      <td>1558</td>\n",
              "      <td>1208</td>\n",
              "      <td>352</td>\n",
              "      <td>2600</td>\n",
              "      <td>58</td>\n",
              "      <td>0</td>\n",
              "      <td>0</td>\n",
              "      <td>82</td>\n",
              "      <td>0</td>\n",
              "      <td>1135</td>\n",
              "      <td>2155</td>\n",
              "    </tr>\n",
              "    <tr>\n",
              "      <th>3</th>\n",
              "      <td>ปทุมธานี</td>\n",
              "      <td>94</td>\n",
              "      <td>752</td>\n",
              "      <td>1323</td>\n",
              "      <td>131</td>\n",
              "      <td>1347</td>\n",
              "      <td>39</td>\n",
              "      <td>48</td>\n",
              "      <td>0</td>\n",
              "      <td>0</td>\n",
              "      <td>0</td>\n",
              "      <td>1714</td>\n",
              "      <td>2781</td>\n",
              "    </tr>\n",
              "    <tr>\n",
              "      <th>4</th>\n",
              "      <td>พระนครศรีอยุธยา</td>\n",
              "      <td>97</td>\n",
              "      <td>670</td>\n",
              "      <td>270</td>\n",
              "      <td>67</td>\n",
              "      <td>1233</td>\n",
              "      <td>0</td>\n",
              "      <td>20</td>\n",
              "      <td>0</td>\n",
              "      <td>0</td>\n",
              "      <td>0</td>\n",
              "      <td>734</td>\n",
              "      <td>1933</td>\n",
              "    </tr>\n",
              "    <tr>\n",
              "      <th>...</th>\n",
              "      <td>...</td>\n",
              "      <td>...</td>\n",
              "      <td>...</td>\n",
              "      <td>...</td>\n",
              "      <td>...</td>\n",
              "      <td>...</td>\n",
              "      <td>...</td>\n",
              "      <td>...</td>\n",
              "      <td>...</td>\n",
              "      <td>...</td>\n",
              "      <td>...</td>\n",
              "      <td>...</td>\n",
              "      <td>...</td>\n",
              "    </tr>\n",
              "    <tr>\n",
              "      <th>72</th>\n",
              "      <td>ตรัง</td>\n",
              "      <td>0</td>\n",
              "      <td>149</td>\n",
              "      <td>171</td>\n",
              "      <td>39</td>\n",
              "      <td>310</td>\n",
              "      <td>18</td>\n",
              "      <td>9</td>\n",
              "      <td>0</td>\n",
              "      <td>0</td>\n",
              "      <td>0</td>\n",
              "      <td>0</td>\n",
              "      <td>499</td>\n",
              "    </tr>\n",
              "    <tr>\n",
              "      <th>73</th>\n",
              "      <td>พัทลุง</td>\n",
              "      <td>0</td>\n",
              "      <td>241</td>\n",
              "      <td>3</td>\n",
              "      <td>28</td>\n",
              "      <td>6</td>\n",
              "      <td>0</td>\n",
              "      <td>16</td>\n",
              "      <td>0</td>\n",
              "      <td>0</td>\n",
              "      <td>0</td>\n",
              "      <td>0</td>\n",
              "      <td>416</td>\n",
              "    </tr>\n",
              "    <tr>\n",
              "      <th>74</th>\n",
              "      <td>ปัตตานี</td>\n",
              "      <td>0</td>\n",
              "      <td>92</td>\n",
              "      <td>0</td>\n",
              "      <td>0</td>\n",
              "      <td>27</td>\n",
              "      <td>100</td>\n",
              "      <td>63</td>\n",
              "      <td>0</td>\n",
              "      <td>0</td>\n",
              "      <td>0</td>\n",
              "      <td>0</td>\n",
              "      <td>572</td>\n",
              "    </tr>\n",
              "    <tr>\n",
              "      <th>75</th>\n",
              "      <td>ยะลา</td>\n",
              "      <td>0</td>\n",
              "      <td>46</td>\n",
              "      <td>0</td>\n",
              "      <td>40</td>\n",
              "      <td>0</td>\n",
              "      <td>6</td>\n",
              "      <td>0</td>\n",
              "      <td>0</td>\n",
              "      <td>0</td>\n",
              "      <td>0</td>\n",
              "      <td>0</td>\n",
              "      <td>397</td>\n",
              "    </tr>\n",
              "    <tr>\n",
              "      <th>76</th>\n",
              "      <td>นราธิวาส</td>\n",
              "      <td>0</td>\n",
              "      <td>47</td>\n",
              "      <td>16</td>\n",
              "      <td>0</td>\n",
              "      <td>65</td>\n",
              "      <td>0</td>\n",
              "      <td>0</td>\n",
              "      <td>0</td>\n",
              "      <td>0</td>\n",
              "      <td>0</td>\n",
              "      <td>0</td>\n",
              "      <td>437</td>\n",
              "    </tr>\n",
              "  </tbody>\n",
              "</table>\n",
              "<p>77 rows × 13 columns</p>\n",
              "</div>"
            ],
            "text/plain": [
              "            จังหวัด  ปตท. E20  ...  ปตท. ค้าปลีก E20  ปตท. น้ำมันและการค้าปลีก E20\n",
              "0     กรุงเทพมหานคร      1587  ...              1957                          8695\n",
              "1       สมุทรปราการ       250  ...               741                          1868\n",
              "2           นนทบุรี       102  ...              1135                          2155\n",
              "3          ปทุมธานี        94  ...              1714                          2781\n",
              "4   พระนครศรีอยุธยา        97  ...               734                          1933\n",
              "..              ...       ...  ...               ...                           ...\n",
              "72             ตรัง         0  ...                 0                           499\n",
              "73           พัทลุง         0  ...                 0                           416\n",
              "74          ปัตตานี         0  ...                 0                           572\n",
              "75             ยะลา         0  ...                 0                           397\n",
              "76         นราธิวาส         0  ...                 0                           437\n",
              "\n",
              "[77 rows x 13 columns]"
            ]
          },
          "metadata": {},
          "execution_count": 6
        }
      ]
    },
    {
      "cell_type": "code",
      "metadata": {
        "colab": {
          "base_uri": "https://localhost:8080/",
          "height": 419
        },
        "id": "LBZ6hEg1QNgx",
        "outputId": "faba7d3e-af69-43b7-ccc9-21a9183eb25d"
      },
      "source": [
        "data_G85 = pd.read_csv(os.path.join(path,'G85.csv'))\n",
        "data_G85.dropna() #ข้อมูลรองชุดที่ 2"
      ],
      "execution_count": 7,
      "outputs": [
        {
          "output_type": "execute_result",
          "data": {
            "text/html": [
              "<div>\n",
              "<style scoped>\n",
              "    .dataframe tbody tr th:only-of-type {\n",
              "        vertical-align: middle;\n",
              "    }\n",
              "\n",
              "    .dataframe tbody tr th {\n",
              "        vertical-align: top;\n",
              "    }\n",
              "\n",
              "    .dataframe thead th {\n",
              "        text-align: right;\n",
              "    }\n",
              "</style>\n",
              "<table border=\"1\" class=\"dataframe\">\n",
              "  <thead>\n",
              "    <tr style=\"text-align: right;\">\n",
              "      <th></th>\n",
              "      <th>จังหวัด</th>\n",
              "      <th>ปตท. G85</th>\n",
              "      <th>บางจาก G85</th>\n",
              "      <th>ซัสโก้ G85</th>\n",
              "      <th>สยามเฆมี G85</th>\n",
              "      <th>ปตท. ค้าปลีก G85</th>\n",
              "      <th>ปตท. น้ำมันและการค้าปลีก G85</th>\n",
              "    </tr>\n",
              "  </thead>\n",
              "  <tbody>\n",
              "    <tr>\n",
              "      <th>0</th>\n",
              "      <td>กรุงเทพมหานคร</td>\n",
              "      <td>328</td>\n",
              "      <td>5469</td>\n",
              "      <td>80</td>\n",
              "      <td>20</td>\n",
              "      <td>80</td>\n",
              "      <td>2581</td>\n",
              "    </tr>\n",
              "    <tr>\n",
              "      <th>1</th>\n",
              "      <td>สมุทรปราการ</td>\n",
              "      <td>60</td>\n",
              "      <td>1275</td>\n",
              "      <td>0</td>\n",
              "      <td>0</td>\n",
              "      <td>64</td>\n",
              "      <td>402</td>\n",
              "    </tr>\n",
              "    <tr>\n",
              "      <th>2</th>\n",
              "      <td>นนทบุรี</td>\n",
              "      <td>22</td>\n",
              "      <td>1602</td>\n",
              "      <td>0</td>\n",
              "      <td>0</td>\n",
              "      <td>0</td>\n",
              "      <td>875</td>\n",
              "    </tr>\n",
              "    <tr>\n",
              "      <th>3</th>\n",
              "      <td>ปทุมธานี</td>\n",
              "      <td>0</td>\n",
              "      <td>844</td>\n",
              "      <td>12</td>\n",
              "      <td>0</td>\n",
              "      <td>0</td>\n",
              "      <td>905</td>\n",
              "    </tr>\n",
              "    <tr>\n",
              "      <th>4</th>\n",
              "      <td>พระนครศรีอยุธยา</td>\n",
              "      <td>22</td>\n",
              "      <td>679</td>\n",
              "      <td>0</td>\n",
              "      <td>0</td>\n",
              "      <td>18</td>\n",
              "      <td>533</td>\n",
              "    </tr>\n",
              "    <tr>\n",
              "      <th>...</th>\n",
              "      <td>...</td>\n",
              "      <td>...</td>\n",
              "      <td>...</td>\n",
              "      <td>...</td>\n",
              "      <td>...</td>\n",
              "      <td>...</td>\n",
              "      <td>...</td>\n",
              "    </tr>\n",
              "    <tr>\n",
              "      <th>72</th>\n",
              "      <td>ตรัง</td>\n",
              "      <td>0</td>\n",
              "      <td>28</td>\n",
              "      <td>0</td>\n",
              "      <td>0</td>\n",
              "      <td>0</td>\n",
              "      <td>132</td>\n",
              "    </tr>\n",
              "    <tr>\n",
              "      <th>73</th>\n",
              "      <td>พัทลุง</td>\n",
              "      <td>0</td>\n",
              "      <td>0</td>\n",
              "      <td>0</td>\n",
              "      <td>0</td>\n",
              "      <td>0</td>\n",
              "      <td>82</td>\n",
              "    </tr>\n",
              "    <tr>\n",
              "      <th>74</th>\n",
              "      <td>ปัตตานี</td>\n",
              "      <td>0</td>\n",
              "      <td>0</td>\n",
              "      <td>0</td>\n",
              "      <td>0</td>\n",
              "      <td>0</td>\n",
              "      <td>106</td>\n",
              "    </tr>\n",
              "    <tr>\n",
              "      <th>75</th>\n",
              "      <td>ยะลา</td>\n",
              "      <td>0</td>\n",
              "      <td>0</td>\n",
              "      <td>0</td>\n",
              "      <td>0</td>\n",
              "      <td>0</td>\n",
              "      <td>76</td>\n",
              "    </tr>\n",
              "    <tr>\n",
              "      <th>76</th>\n",
              "      <td>นราธิวาส</td>\n",
              "      <td>0</td>\n",
              "      <td>4</td>\n",
              "      <td>0</td>\n",
              "      <td>0</td>\n",
              "      <td>0</td>\n",
              "      <td>67</td>\n",
              "    </tr>\n",
              "  </tbody>\n",
              "</table>\n",
              "<p>77 rows × 7 columns</p>\n",
              "</div>"
            ],
            "text/plain": [
              "            จังหวัด  ปตท. G85  ...  ปตท. ค้าปลีก G85  ปตท. น้ำมันและการค้าปลีก G85\n",
              "0     กรุงเทพมหานคร       328  ...                80                          2581\n",
              "1       สมุทรปราการ        60  ...                64                           402\n",
              "2           นนทบุรี        22  ...                 0                           875\n",
              "3          ปทุมธานี         0  ...                 0                           905\n",
              "4   พระนครศรีอยุธยา        22  ...                18                           533\n",
              "..              ...       ...  ...               ...                           ...\n",
              "72             ตรัง         0  ...                 0                           132\n",
              "73           พัทลุง         0  ...                 0                            82\n",
              "74          ปัตตานี         0  ...                 0                           106\n",
              "75             ยะลา         0  ...                 0                            76\n",
              "76         นราธิวาส         0  ...                 0                            67\n",
              "\n",
              "[77 rows x 7 columns]"
            ]
          },
          "metadata": {},
          "execution_count": 7
        }
      ]
    },
    {
      "cell_type": "code",
      "metadata": {
        "colab": {
          "base_uri": "https://localhost:8080/",
          "height": 419
        },
        "id": "upwp0d8cQNek",
        "outputId": "bbfbfc93-e369-4845-c244-dd92ae145cf9"
      },
      "source": [
        "data_G95 = pd.read_csv(os.path.join(path,'G95.csv'))\n",
        "data_G95.dropna() #ข้อมูลรองชุดที่ 3"
      ],
      "execution_count": 8,
      "outputs": [
        {
          "output_type": "execute_result",
          "data": {
            "text/html": [
              "<div>\n",
              "<style scoped>\n",
              "    .dataframe tbody tr th:only-of-type {\n",
              "        vertical-align: middle;\n",
              "    }\n",
              "\n",
              "    .dataframe tbody tr th {\n",
              "        vertical-align: top;\n",
              "    }\n",
              "\n",
              "    .dataframe thead th {\n",
              "        text-align: right;\n",
              "    }\n",
              "</style>\n",
              "<table border=\"1\" class=\"dataframe\">\n",
              "  <thead>\n",
              "    <tr style=\"text-align: right;\">\n",
              "      <th></th>\n",
              "      <th>จังหวัด</th>\n",
              "      <th>ปตท. G95</th>\n",
              "      <th>เชลล์ G95</th>\n",
              "      <th>เอสโซ่ G95</th>\n",
              "      <th>เชฟรอน(ไทย) G95</th>\n",
              "      <th>บางจาก G95</th>\n",
              "      <th>ซัสโก้ G95</th>\n",
              "      <th>พีทีจี G95</th>\n",
              "      <th>ไทยออยล์ G95</th>\n",
              "      <th>ซัสโก้ ดีลเลอร์ส G95</th>\n",
              "      <th>สยามเฆมี G95</th>\n",
              "      <th>ปตท. ค้าปลีก G95</th>\n",
              "      <th>น้ำมัน ไออาร์พีซี G95</th>\n",
              "      <th>ไออาร์พีซี G95</th>\n",
              "      <th>ปตท. น้ำมันและการค้าปลีก G95</th>\n",
              "    </tr>\n",
              "  </thead>\n",
              "  <tbody>\n",
              "    <tr>\n",
              "      <th>0</th>\n",
              "      <td>กรุงเทพมหานคร</td>\n",
              "      <td>3674</td>\n",
              "      <td>156</td>\n",
              "      <td>13837</td>\n",
              "      <td>3553</td>\n",
              "      <td>14433</td>\n",
              "      <td>1912</td>\n",
              "      <td>141</td>\n",
              "      <td>0</td>\n",
              "      <td>795</td>\n",
              "      <td>4</td>\n",
              "      <td>3046.0</td>\n",
              "      <td>0</td>\n",
              "      <td>10301</td>\n",
              "      <td>15428</td>\n",
              "    </tr>\n",
              "    <tr>\n",
              "      <th>1</th>\n",
              "      <td>สมุทรปราการ</td>\n",
              "      <td>336</td>\n",
              "      <td>0</td>\n",
              "      <td>2301</td>\n",
              "      <td>617</td>\n",
              "      <td>3088</td>\n",
              "      <td>140</td>\n",
              "      <td>0</td>\n",
              "      <td>0</td>\n",
              "      <td>135</td>\n",
              "      <td>0</td>\n",
              "      <td>1054.0</td>\n",
              "      <td>0</td>\n",
              "      <td>0</td>\n",
              "      <td>3261</td>\n",
              "    </tr>\n",
              "    <tr>\n",
              "      <th>2</th>\n",
              "      <td>นนทบุรี</td>\n",
              "      <td>158</td>\n",
              "      <td>0</td>\n",
              "      <td>1911</td>\n",
              "      <td>716</td>\n",
              "      <td>2906</td>\n",
              "      <td>153</td>\n",
              "      <td>0</td>\n",
              "      <td>0</td>\n",
              "      <td>262</td>\n",
              "      <td>0</td>\n",
              "      <td>1527.0</td>\n",
              "      <td>0</td>\n",
              "      <td>0</td>\n",
              "      <td>3154</td>\n",
              "    </tr>\n",
              "    <tr>\n",
              "      <th>3</th>\n",
              "      <td>ปทุมธานี</td>\n",
              "      <td>112</td>\n",
              "      <td>0</td>\n",
              "      <td>1789</td>\n",
              "      <td>476</td>\n",
              "      <td>1527</td>\n",
              "      <td>128</td>\n",
              "      <td>97</td>\n",
              "      <td>0</td>\n",
              "      <td>0</td>\n",
              "      <td>0</td>\n",
              "      <td>1970.0</td>\n",
              "      <td>0</td>\n",
              "      <td>0</td>\n",
              "      <td>3650</td>\n",
              "    </tr>\n",
              "    <tr>\n",
              "      <th>4</th>\n",
              "      <td>พระนครศรีอยุธยา</td>\n",
              "      <td>109</td>\n",
              "      <td>0</td>\n",
              "      <td>391</td>\n",
              "      <td>334</td>\n",
              "      <td>1243</td>\n",
              "      <td>18</td>\n",
              "      <td>94</td>\n",
              "      <td>0</td>\n",
              "      <td>68</td>\n",
              "      <td>0</td>\n",
              "      <td>853.0</td>\n",
              "      <td>49</td>\n",
              "      <td>0</td>\n",
              "      <td>2343</td>\n",
              "    </tr>\n",
              "    <tr>\n",
              "      <th>...</th>\n",
              "      <td>...</td>\n",
              "      <td>...</td>\n",
              "      <td>...</td>\n",
              "      <td>...</td>\n",
              "      <td>...</td>\n",
              "      <td>...</td>\n",
              "      <td>...</td>\n",
              "      <td>...</td>\n",
              "      <td>...</td>\n",
              "      <td>...</td>\n",
              "      <td>...</td>\n",
              "      <td>...</td>\n",
              "      <td>...</td>\n",
              "      <td>...</td>\n",
              "      <td>...</td>\n",
              "    </tr>\n",
              "    <tr>\n",
              "      <th>72</th>\n",
              "      <td>ตรัง</td>\n",
              "      <td>0</td>\n",
              "      <td>0</td>\n",
              "      <td>508</td>\n",
              "      <td>165</td>\n",
              "      <td>549</td>\n",
              "      <td>132</td>\n",
              "      <td>39</td>\n",
              "      <td>0</td>\n",
              "      <td>0</td>\n",
              "      <td>0</td>\n",
              "      <td>0.0</td>\n",
              "      <td>0</td>\n",
              "      <td>0</td>\n",
              "      <td>829</td>\n",
              "    </tr>\n",
              "    <tr>\n",
              "      <th>73</th>\n",
              "      <td>พัทลุง</td>\n",
              "      <td>0</td>\n",
              "      <td>0</td>\n",
              "      <td>0</td>\n",
              "      <td>97</td>\n",
              "      <td>128</td>\n",
              "      <td>0</td>\n",
              "      <td>125</td>\n",
              "      <td>0</td>\n",
              "      <td>0</td>\n",
              "      <td>0</td>\n",
              "      <td>0.0</td>\n",
              "      <td>0</td>\n",
              "      <td>0</td>\n",
              "      <td>630</td>\n",
              "    </tr>\n",
              "    <tr>\n",
              "      <th>74</th>\n",
              "      <td>ปัตตานี</td>\n",
              "      <td>0</td>\n",
              "      <td>0</td>\n",
              "      <td>0</td>\n",
              "      <td>0</td>\n",
              "      <td>123</td>\n",
              "      <td>534</td>\n",
              "      <td>227</td>\n",
              "      <td>0</td>\n",
              "      <td>0</td>\n",
              "      <td>0</td>\n",
              "      <td>0.0</td>\n",
              "      <td>0</td>\n",
              "      <td>0</td>\n",
              "      <td>1604</td>\n",
              "    </tr>\n",
              "    <tr>\n",
              "      <th>75</th>\n",
              "      <td>ยะลา</td>\n",
              "      <td>0</td>\n",
              "      <td>0</td>\n",
              "      <td>0</td>\n",
              "      <td>169</td>\n",
              "      <td>53</td>\n",
              "      <td>16</td>\n",
              "      <td>61</td>\n",
              "      <td>0</td>\n",
              "      <td>0</td>\n",
              "      <td>0</td>\n",
              "      <td>0.0</td>\n",
              "      <td>0</td>\n",
              "      <td>0</td>\n",
              "      <td>1282</td>\n",
              "    </tr>\n",
              "    <tr>\n",
              "      <th>76</th>\n",
              "      <td>นราธิวาส</td>\n",
              "      <td>0</td>\n",
              "      <td>0</td>\n",
              "      <td>66</td>\n",
              "      <td>24</td>\n",
              "      <td>75</td>\n",
              "      <td>0</td>\n",
              "      <td>0</td>\n",
              "      <td>0</td>\n",
              "      <td>0</td>\n",
              "      <td>0</td>\n",
              "      <td>0.0</td>\n",
              "      <td>0</td>\n",
              "      <td>0</td>\n",
              "      <td>593</td>\n",
              "    </tr>\n",
              "  </tbody>\n",
              "</table>\n",
              "<p>76 rows × 15 columns</p>\n",
              "</div>"
            ],
            "text/plain": [
              "            จังหวัด  ปตท. G95  ...  ไออาร์พีซี G95  ปตท. น้ำมันและการค้าปลีก G95\n",
              "0     กรุงเทพมหานคร      3674  ...           10301                         15428\n",
              "1       สมุทรปราการ       336  ...               0                          3261\n",
              "2           นนทบุรี       158  ...               0                          3154\n",
              "3          ปทุมธานี       112  ...               0                          3650\n",
              "4   พระนครศรีอยุธยา       109  ...               0                          2343\n",
              "..              ...       ...  ...             ...                           ...\n",
              "72             ตรัง         0  ...               0                           829\n",
              "73           พัทลุง         0  ...               0                           630\n",
              "74          ปัตตานี         0  ...               0                          1604\n",
              "75             ยะลา         0  ...               0                          1282\n",
              "76         นราธิวาส         0  ...               0                           593\n",
              "\n",
              "[76 rows x 15 columns]"
            ]
          },
          "metadata": {},
          "execution_count": 8
        }
      ]
    },
    {
      "cell_type": "markdown",
      "metadata": {
        "id": "p80biBmi892G"
      },
      "source": [
        "#ดูว่าข้อมูลมี data missing"
      ]
    },
    {
      "cell_type": "code",
      "metadata": {
        "colab": {
          "base_uri": "https://localhost:8080/",
          "height": 419
        },
        "id": "Ch0iWWgw8q2W",
        "outputId": "68b3188c-cf71-4078-ae88-71b6422ec795"
      },
      "source": [
        "data_E20.isnull() #ดูว่าข้อมูลนั้นมี Missing รึป่าว"
      ],
      "execution_count": 9,
      "outputs": [
        {
          "output_type": "execute_result",
          "data": {
            "text/html": [
              "<div>\n",
              "<style scoped>\n",
              "    .dataframe tbody tr th:only-of-type {\n",
              "        vertical-align: middle;\n",
              "    }\n",
              "\n",
              "    .dataframe tbody tr th {\n",
              "        vertical-align: top;\n",
              "    }\n",
              "\n",
              "    .dataframe thead th {\n",
              "        text-align: right;\n",
              "    }\n",
              "</style>\n",
              "<table border=\"1\" class=\"dataframe\">\n",
              "  <thead>\n",
              "    <tr style=\"text-align: right;\">\n",
              "      <th></th>\n",
              "      <th>จังหวัด</th>\n",
              "      <th>ปตท. E20</th>\n",
              "      <th>เชลล์ E20</th>\n",
              "      <th>เอสโซ่ E20</th>\n",
              "      <th>เชฟรอน(ไทย) E20</th>\n",
              "      <th>บางจาก E20</th>\n",
              "      <th>ซัสโก้ E20</th>\n",
              "      <th>พีทีจี E20</th>\n",
              "      <th>ไทยออยล์ E20</th>\n",
              "      <th>ซัสโก้ ดีลเลอร์ส E20</th>\n",
              "      <th>สยามเฆมี E20</th>\n",
              "      <th>ปตท. ค้าปลีก E20</th>\n",
              "      <th>ปตท. น้ำมันและการค้าปลีก E20</th>\n",
              "    </tr>\n",
              "  </thead>\n",
              "  <tbody>\n",
              "    <tr>\n",
              "      <th>0</th>\n",
              "      <td>False</td>\n",
              "      <td>False</td>\n",
              "      <td>False</td>\n",
              "      <td>False</td>\n",
              "      <td>False</td>\n",
              "      <td>False</td>\n",
              "      <td>False</td>\n",
              "      <td>False</td>\n",
              "      <td>False</td>\n",
              "      <td>False</td>\n",
              "      <td>False</td>\n",
              "      <td>False</td>\n",
              "      <td>False</td>\n",
              "    </tr>\n",
              "    <tr>\n",
              "      <th>1</th>\n",
              "      <td>False</td>\n",
              "      <td>False</td>\n",
              "      <td>False</td>\n",
              "      <td>False</td>\n",
              "      <td>False</td>\n",
              "      <td>False</td>\n",
              "      <td>False</td>\n",
              "      <td>False</td>\n",
              "      <td>False</td>\n",
              "      <td>False</td>\n",
              "      <td>False</td>\n",
              "      <td>False</td>\n",
              "      <td>False</td>\n",
              "    </tr>\n",
              "    <tr>\n",
              "      <th>2</th>\n",
              "      <td>False</td>\n",
              "      <td>False</td>\n",
              "      <td>False</td>\n",
              "      <td>False</td>\n",
              "      <td>False</td>\n",
              "      <td>False</td>\n",
              "      <td>False</td>\n",
              "      <td>False</td>\n",
              "      <td>False</td>\n",
              "      <td>False</td>\n",
              "      <td>False</td>\n",
              "      <td>False</td>\n",
              "      <td>False</td>\n",
              "    </tr>\n",
              "    <tr>\n",
              "      <th>3</th>\n",
              "      <td>False</td>\n",
              "      <td>False</td>\n",
              "      <td>False</td>\n",
              "      <td>False</td>\n",
              "      <td>False</td>\n",
              "      <td>False</td>\n",
              "      <td>False</td>\n",
              "      <td>False</td>\n",
              "      <td>False</td>\n",
              "      <td>False</td>\n",
              "      <td>False</td>\n",
              "      <td>False</td>\n",
              "      <td>False</td>\n",
              "    </tr>\n",
              "    <tr>\n",
              "      <th>4</th>\n",
              "      <td>False</td>\n",
              "      <td>False</td>\n",
              "      <td>False</td>\n",
              "      <td>False</td>\n",
              "      <td>False</td>\n",
              "      <td>False</td>\n",
              "      <td>False</td>\n",
              "      <td>False</td>\n",
              "      <td>False</td>\n",
              "      <td>False</td>\n",
              "      <td>False</td>\n",
              "      <td>False</td>\n",
              "      <td>False</td>\n",
              "    </tr>\n",
              "    <tr>\n",
              "      <th>...</th>\n",
              "      <td>...</td>\n",
              "      <td>...</td>\n",
              "      <td>...</td>\n",
              "      <td>...</td>\n",
              "      <td>...</td>\n",
              "      <td>...</td>\n",
              "      <td>...</td>\n",
              "      <td>...</td>\n",
              "      <td>...</td>\n",
              "      <td>...</td>\n",
              "      <td>...</td>\n",
              "      <td>...</td>\n",
              "      <td>...</td>\n",
              "    </tr>\n",
              "    <tr>\n",
              "      <th>72</th>\n",
              "      <td>False</td>\n",
              "      <td>False</td>\n",
              "      <td>False</td>\n",
              "      <td>False</td>\n",
              "      <td>False</td>\n",
              "      <td>False</td>\n",
              "      <td>False</td>\n",
              "      <td>False</td>\n",
              "      <td>False</td>\n",
              "      <td>False</td>\n",
              "      <td>False</td>\n",
              "      <td>False</td>\n",
              "      <td>False</td>\n",
              "    </tr>\n",
              "    <tr>\n",
              "      <th>73</th>\n",
              "      <td>False</td>\n",
              "      <td>False</td>\n",
              "      <td>False</td>\n",
              "      <td>False</td>\n",
              "      <td>False</td>\n",
              "      <td>False</td>\n",
              "      <td>False</td>\n",
              "      <td>False</td>\n",
              "      <td>False</td>\n",
              "      <td>False</td>\n",
              "      <td>False</td>\n",
              "      <td>False</td>\n",
              "      <td>False</td>\n",
              "    </tr>\n",
              "    <tr>\n",
              "      <th>74</th>\n",
              "      <td>False</td>\n",
              "      <td>False</td>\n",
              "      <td>False</td>\n",
              "      <td>False</td>\n",
              "      <td>False</td>\n",
              "      <td>False</td>\n",
              "      <td>False</td>\n",
              "      <td>False</td>\n",
              "      <td>False</td>\n",
              "      <td>False</td>\n",
              "      <td>False</td>\n",
              "      <td>False</td>\n",
              "      <td>False</td>\n",
              "    </tr>\n",
              "    <tr>\n",
              "      <th>75</th>\n",
              "      <td>False</td>\n",
              "      <td>False</td>\n",
              "      <td>False</td>\n",
              "      <td>False</td>\n",
              "      <td>False</td>\n",
              "      <td>False</td>\n",
              "      <td>False</td>\n",
              "      <td>False</td>\n",
              "      <td>False</td>\n",
              "      <td>False</td>\n",
              "      <td>False</td>\n",
              "      <td>False</td>\n",
              "      <td>False</td>\n",
              "    </tr>\n",
              "    <tr>\n",
              "      <th>76</th>\n",
              "      <td>False</td>\n",
              "      <td>False</td>\n",
              "      <td>False</td>\n",
              "      <td>False</td>\n",
              "      <td>False</td>\n",
              "      <td>False</td>\n",
              "      <td>False</td>\n",
              "      <td>False</td>\n",
              "      <td>False</td>\n",
              "      <td>False</td>\n",
              "      <td>False</td>\n",
              "      <td>False</td>\n",
              "      <td>False</td>\n",
              "    </tr>\n",
              "  </tbody>\n",
              "</table>\n",
              "<p>77 rows × 13 columns</p>\n",
              "</div>"
            ],
            "text/plain": [
              "    จังหวัด  ปตท. E20  ...  ปตท. ค้าปลีก E20  ปตท. น้ำมันและการค้าปลีก E20\n",
              "0     False     False  ...             False                         False\n",
              "1     False     False  ...             False                         False\n",
              "2     False     False  ...             False                         False\n",
              "3     False     False  ...             False                         False\n",
              "4     False     False  ...             False                         False\n",
              "..      ...       ...  ...               ...                           ...\n",
              "72    False     False  ...             False                         False\n",
              "73    False     False  ...             False                         False\n",
              "74    False     False  ...             False                         False\n",
              "75    False     False  ...             False                         False\n",
              "76    False     False  ...             False                         False\n",
              "\n",
              "[77 rows x 13 columns]"
            ]
          },
          "metadata": {},
          "execution_count": 9
        }
      ]
    },
    {
      "cell_type": "code",
      "metadata": {
        "colab": {
          "base_uri": "https://localhost:8080/",
          "height": 419
        },
        "id": "saDhz6lY8vEv",
        "outputId": "4fc9fe6e-372c-4dbb-a217-e437cbe879d0"
      },
      "source": [
        "data_G85.isnull() #ดูว่าข้อมูลนั้นมี Missing รึป่าว"
      ],
      "execution_count": 10,
      "outputs": [
        {
          "output_type": "execute_result",
          "data": {
            "text/html": [
              "<div>\n",
              "<style scoped>\n",
              "    .dataframe tbody tr th:only-of-type {\n",
              "        vertical-align: middle;\n",
              "    }\n",
              "\n",
              "    .dataframe tbody tr th {\n",
              "        vertical-align: top;\n",
              "    }\n",
              "\n",
              "    .dataframe thead th {\n",
              "        text-align: right;\n",
              "    }\n",
              "</style>\n",
              "<table border=\"1\" class=\"dataframe\">\n",
              "  <thead>\n",
              "    <tr style=\"text-align: right;\">\n",
              "      <th></th>\n",
              "      <th>จังหวัด</th>\n",
              "      <th>ปตท. G85</th>\n",
              "      <th>บางจาก G85</th>\n",
              "      <th>ซัสโก้ G85</th>\n",
              "      <th>สยามเฆมี G85</th>\n",
              "      <th>ปตท. ค้าปลีก G85</th>\n",
              "      <th>ปตท. น้ำมันและการค้าปลีก G85</th>\n",
              "    </tr>\n",
              "  </thead>\n",
              "  <tbody>\n",
              "    <tr>\n",
              "      <th>0</th>\n",
              "      <td>False</td>\n",
              "      <td>False</td>\n",
              "      <td>False</td>\n",
              "      <td>False</td>\n",
              "      <td>False</td>\n",
              "      <td>False</td>\n",
              "      <td>False</td>\n",
              "    </tr>\n",
              "    <tr>\n",
              "      <th>1</th>\n",
              "      <td>False</td>\n",
              "      <td>False</td>\n",
              "      <td>False</td>\n",
              "      <td>False</td>\n",
              "      <td>False</td>\n",
              "      <td>False</td>\n",
              "      <td>False</td>\n",
              "    </tr>\n",
              "    <tr>\n",
              "      <th>2</th>\n",
              "      <td>False</td>\n",
              "      <td>False</td>\n",
              "      <td>False</td>\n",
              "      <td>False</td>\n",
              "      <td>False</td>\n",
              "      <td>False</td>\n",
              "      <td>False</td>\n",
              "    </tr>\n",
              "    <tr>\n",
              "      <th>3</th>\n",
              "      <td>False</td>\n",
              "      <td>False</td>\n",
              "      <td>False</td>\n",
              "      <td>False</td>\n",
              "      <td>False</td>\n",
              "      <td>False</td>\n",
              "      <td>False</td>\n",
              "    </tr>\n",
              "    <tr>\n",
              "      <th>4</th>\n",
              "      <td>False</td>\n",
              "      <td>False</td>\n",
              "      <td>False</td>\n",
              "      <td>False</td>\n",
              "      <td>False</td>\n",
              "      <td>False</td>\n",
              "      <td>False</td>\n",
              "    </tr>\n",
              "    <tr>\n",
              "      <th>...</th>\n",
              "      <td>...</td>\n",
              "      <td>...</td>\n",
              "      <td>...</td>\n",
              "      <td>...</td>\n",
              "      <td>...</td>\n",
              "      <td>...</td>\n",
              "      <td>...</td>\n",
              "    </tr>\n",
              "    <tr>\n",
              "      <th>72</th>\n",
              "      <td>False</td>\n",
              "      <td>False</td>\n",
              "      <td>False</td>\n",
              "      <td>False</td>\n",
              "      <td>False</td>\n",
              "      <td>False</td>\n",
              "      <td>False</td>\n",
              "    </tr>\n",
              "    <tr>\n",
              "      <th>73</th>\n",
              "      <td>False</td>\n",
              "      <td>False</td>\n",
              "      <td>False</td>\n",
              "      <td>False</td>\n",
              "      <td>False</td>\n",
              "      <td>False</td>\n",
              "      <td>False</td>\n",
              "    </tr>\n",
              "    <tr>\n",
              "      <th>74</th>\n",
              "      <td>False</td>\n",
              "      <td>False</td>\n",
              "      <td>False</td>\n",
              "      <td>False</td>\n",
              "      <td>False</td>\n",
              "      <td>False</td>\n",
              "      <td>False</td>\n",
              "    </tr>\n",
              "    <tr>\n",
              "      <th>75</th>\n",
              "      <td>False</td>\n",
              "      <td>False</td>\n",
              "      <td>False</td>\n",
              "      <td>False</td>\n",
              "      <td>False</td>\n",
              "      <td>False</td>\n",
              "      <td>False</td>\n",
              "    </tr>\n",
              "    <tr>\n",
              "      <th>76</th>\n",
              "      <td>False</td>\n",
              "      <td>False</td>\n",
              "      <td>False</td>\n",
              "      <td>False</td>\n",
              "      <td>False</td>\n",
              "      <td>False</td>\n",
              "      <td>False</td>\n",
              "    </tr>\n",
              "  </tbody>\n",
              "</table>\n",
              "<p>77 rows × 7 columns</p>\n",
              "</div>"
            ],
            "text/plain": [
              "    จังหวัด  ปตท. G85  ...  ปตท. ค้าปลีก G85  ปตท. น้ำมันและการค้าปลีก G85\n",
              "0     False     False  ...             False                         False\n",
              "1     False     False  ...             False                         False\n",
              "2     False     False  ...             False                         False\n",
              "3     False     False  ...             False                         False\n",
              "4     False     False  ...             False                         False\n",
              "..      ...       ...  ...               ...                           ...\n",
              "72    False     False  ...             False                         False\n",
              "73    False     False  ...             False                         False\n",
              "74    False     False  ...             False                         False\n",
              "75    False     False  ...             False                         False\n",
              "76    False     False  ...             False                         False\n",
              "\n",
              "[77 rows x 7 columns]"
            ]
          },
          "metadata": {},
          "execution_count": 10
        }
      ]
    },
    {
      "cell_type": "code",
      "metadata": {
        "colab": {
          "base_uri": "https://localhost:8080/",
          "height": 419
        },
        "id": "PVIyqTdw8u9I",
        "outputId": "8f34bbbe-2c38-4354-b3e6-662963a9fab3"
      },
      "source": [
        "data_G95.isnull() #ดูว่าข้อมูลนั้นมี Missing รึป่าว"
      ],
      "execution_count": 11,
      "outputs": [
        {
          "output_type": "execute_result",
          "data": {
            "text/html": [
              "<div>\n",
              "<style scoped>\n",
              "    .dataframe tbody tr th:only-of-type {\n",
              "        vertical-align: middle;\n",
              "    }\n",
              "\n",
              "    .dataframe tbody tr th {\n",
              "        vertical-align: top;\n",
              "    }\n",
              "\n",
              "    .dataframe thead th {\n",
              "        text-align: right;\n",
              "    }\n",
              "</style>\n",
              "<table border=\"1\" class=\"dataframe\">\n",
              "  <thead>\n",
              "    <tr style=\"text-align: right;\">\n",
              "      <th></th>\n",
              "      <th>จังหวัด</th>\n",
              "      <th>ปตท. G95</th>\n",
              "      <th>เชลล์ G95</th>\n",
              "      <th>เอสโซ่ G95</th>\n",
              "      <th>เชฟรอน(ไทย) G95</th>\n",
              "      <th>บางจาก G95</th>\n",
              "      <th>ซัสโก้ G95</th>\n",
              "      <th>พีทีจี G95</th>\n",
              "      <th>ไทยออยล์ G95</th>\n",
              "      <th>ซัสโก้ ดีลเลอร์ส G95</th>\n",
              "      <th>สยามเฆมี G95</th>\n",
              "      <th>ปตท. ค้าปลีก G95</th>\n",
              "      <th>น้ำมัน ไออาร์พีซี G95</th>\n",
              "      <th>ไออาร์พีซี G95</th>\n",
              "      <th>ปตท. น้ำมันและการค้าปลีก G95</th>\n",
              "    </tr>\n",
              "  </thead>\n",
              "  <tbody>\n",
              "    <tr>\n",
              "      <th>0</th>\n",
              "      <td>False</td>\n",
              "      <td>False</td>\n",
              "      <td>False</td>\n",
              "      <td>False</td>\n",
              "      <td>False</td>\n",
              "      <td>False</td>\n",
              "      <td>False</td>\n",
              "      <td>False</td>\n",
              "      <td>False</td>\n",
              "      <td>False</td>\n",
              "      <td>False</td>\n",
              "      <td>False</td>\n",
              "      <td>False</td>\n",
              "      <td>False</td>\n",
              "      <td>False</td>\n",
              "    </tr>\n",
              "    <tr>\n",
              "      <th>1</th>\n",
              "      <td>False</td>\n",
              "      <td>False</td>\n",
              "      <td>False</td>\n",
              "      <td>False</td>\n",
              "      <td>False</td>\n",
              "      <td>False</td>\n",
              "      <td>False</td>\n",
              "      <td>False</td>\n",
              "      <td>False</td>\n",
              "      <td>False</td>\n",
              "      <td>False</td>\n",
              "      <td>False</td>\n",
              "      <td>False</td>\n",
              "      <td>False</td>\n",
              "      <td>False</td>\n",
              "    </tr>\n",
              "    <tr>\n",
              "      <th>2</th>\n",
              "      <td>False</td>\n",
              "      <td>False</td>\n",
              "      <td>False</td>\n",
              "      <td>False</td>\n",
              "      <td>False</td>\n",
              "      <td>False</td>\n",
              "      <td>False</td>\n",
              "      <td>False</td>\n",
              "      <td>False</td>\n",
              "      <td>False</td>\n",
              "      <td>False</td>\n",
              "      <td>False</td>\n",
              "      <td>False</td>\n",
              "      <td>False</td>\n",
              "      <td>False</td>\n",
              "    </tr>\n",
              "    <tr>\n",
              "      <th>3</th>\n",
              "      <td>False</td>\n",
              "      <td>False</td>\n",
              "      <td>False</td>\n",
              "      <td>False</td>\n",
              "      <td>False</td>\n",
              "      <td>False</td>\n",
              "      <td>False</td>\n",
              "      <td>False</td>\n",
              "      <td>False</td>\n",
              "      <td>False</td>\n",
              "      <td>False</td>\n",
              "      <td>False</td>\n",
              "      <td>False</td>\n",
              "      <td>False</td>\n",
              "      <td>False</td>\n",
              "    </tr>\n",
              "    <tr>\n",
              "      <th>4</th>\n",
              "      <td>False</td>\n",
              "      <td>False</td>\n",
              "      <td>False</td>\n",
              "      <td>False</td>\n",
              "      <td>False</td>\n",
              "      <td>False</td>\n",
              "      <td>False</td>\n",
              "      <td>False</td>\n",
              "      <td>False</td>\n",
              "      <td>False</td>\n",
              "      <td>False</td>\n",
              "      <td>False</td>\n",
              "      <td>False</td>\n",
              "      <td>False</td>\n",
              "      <td>False</td>\n",
              "    </tr>\n",
              "    <tr>\n",
              "      <th>...</th>\n",
              "      <td>...</td>\n",
              "      <td>...</td>\n",
              "      <td>...</td>\n",
              "      <td>...</td>\n",
              "      <td>...</td>\n",
              "      <td>...</td>\n",
              "      <td>...</td>\n",
              "      <td>...</td>\n",
              "      <td>...</td>\n",
              "      <td>...</td>\n",
              "      <td>...</td>\n",
              "      <td>...</td>\n",
              "      <td>...</td>\n",
              "      <td>...</td>\n",
              "      <td>...</td>\n",
              "    </tr>\n",
              "    <tr>\n",
              "      <th>72</th>\n",
              "      <td>False</td>\n",
              "      <td>False</td>\n",
              "      <td>False</td>\n",
              "      <td>False</td>\n",
              "      <td>False</td>\n",
              "      <td>False</td>\n",
              "      <td>False</td>\n",
              "      <td>False</td>\n",
              "      <td>False</td>\n",
              "      <td>False</td>\n",
              "      <td>False</td>\n",
              "      <td>False</td>\n",
              "      <td>False</td>\n",
              "      <td>False</td>\n",
              "      <td>False</td>\n",
              "    </tr>\n",
              "    <tr>\n",
              "      <th>73</th>\n",
              "      <td>False</td>\n",
              "      <td>False</td>\n",
              "      <td>False</td>\n",
              "      <td>False</td>\n",
              "      <td>False</td>\n",
              "      <td>False</td>\n",
              "      <td>False</td>\n",
              "      <td>False</td>\n",
              "      <td>False</td>\n",
              "      <td>False</td>\n",
              "      <td>False</td>\n",
              "      <td>False</td>\n",
              "      <td>False</td>\n",
              "      <td>False</td>\n",
              "      <td>False</td>\n",
              "    </tr>\n",
              "    <tr>\n",
              "      <th>74</th>\n",
              "      <td>False</td>\n",
              "      <td>False</td>\n",
              "      <td>False</td>\n",
              "      <td>False</td>\n",
              "      <td>False</td>\n",
              "      <td>False</td>\n",
              "      <td>False</td>\n",
              "      <td>False</td>\n",
              "      <td>False</td>\n",
              "      <td>False</td>\n",
              "      <td>False</td>\n",
              "      <td>False</td>\n",
              "      <td>False</td>\n",
              "      <td>False</td>\n",
              "      <td>False</td>\n",
              "    </tr>\n",
              "    <tr>\n",
              "      <th>75</th>\n",
              "      <td>False</td>\n",
              "      <td>False</td>\n",
              "      <td>False</td>\n",
              "      <td>False</td>\n",
              "      <td>False</td>\n",
              "      <td>False</td>\n",
              "      <td>False</td>\n",
              "      <td>False</td>\n",
              "      <td>False</td>\n",
              "      <td>False</td>\n",
              "      <td>False</td>\n",
              "      <td>False</td>\n",
              "      <td>False</td>\n",
              "      <td>False</td>\n",
              "      <td>False</td>\n",
              "    </tr>\n",
              "    <tr>\n",
              "      <th>76</th>\n",
              "      <td>False</td>\n",
              "      <td>False</td>\n",
              "      <td>False</td>\n",
              "      <td>False</td>\n",
              "      <td>False</td>\n",
              "      <td>False</td>\n",
              "      <td>False</td>\n",
              "      <td>False</td>\n",
              "      <td>False</td>\n",
              "      <td>False</td>\n",
              "      <td>False</td>\n",
              "      <td>False</td>\n",
              "      <td>False</td>\n",
              "      <td>False</td>\n",
              "      <td>False</td>\n",
              "    </tr>\n",
              "  </tbody>\n",
              "</table>\n",
              "<p>77 rows × 15 columns</p>\n",
              "</div>"
            ],
            "text/plain": [
              "    จังหวัด  ปตท. G95  ...  ไออาร์พีซี G95  ปตท. น้ำมันและการค้าปลีก G95\n",
              "0     False     False  ...           False                         False\n",
              "1     False     False  ...           False                         False\n",
              "2     False     False  ...           False                         False\n",
              "3     False     False  ...           False                         False\n",
              "4     False     False  ...           False                         False\n",
              "..      ...       ...  ...             ...                           ...\n",
              "72    False     False  ...           False                         False\n",
              "73    False     False  ...           False                         False\n",
              "74    False     False  ...           False                         False\n",
              "75    False     False  ...           False                         False\n",
              "76    False     False  ...           False                         False\n",
              "\n",
              "[77 rows x 15 columns]"
            ]
          },
          "metadata": {},
          "execution_count": 11
        }
      ]
    },
    {
      "cell_type": "markdown",
      "metadata": {
        "id": "Ol8nmgI39Nl2"
      },
      "source": [
        "#สรุปข้อมูลเป็นรายคอลลัมม์ว่ามี missing"
      ]
    },
    {
      "cell_type": "code",
      "metadata": {
        "colab": {
          "base_uri": "https://localhost:8080/"
        },
        "id": "Z8B5sip-9EmZ",
        "outputId": "e8537d84-b84c-4c20-ac8a-6127b23b1e60"
      },
      "source": [
        "data_E20.isnull().any() #any สรุปข้อมูลเป็นรายคอลลัมม์ว่ามี missing ไหม"
      ],
      "execution_count": 12,
      "outputs": [
        {
          "output_type": "execute_result",
          "data": {
            "text/plain": [
              "จังหวัด                         False\n",
              "ปตท. E20                        False\n",
              "เชลล์ E20                       False\n",
              "เอสโซ่ E20                      False\n",
              "เชฟรอน(ไทย) E20                 False\n",
              "บางจาก E20                      False\n",
              "ซัสโก้ E20                      False\n",
              "พีทีจี E20                      False\n",
              "ไทยออยล์ E20                    False\n",
              "ซัสโก้ ดีลเลอร์ส E20            False\n",
              "สยามเฆมี E20                    False\n",
              "ปตท. ค้าปลีก E20                False\n",
              "ปตท. น้ำมันและการค้าปลีก E20    False\n",
              "dtype: bool"
            ]
          },
          "metadata": {},
          "execution_count": 12
        }
      ]
    },
    {
      "cell_type": "code",
      "metadata": {
        "colab": {
          "base_uri": "https://localhost:8080/"
        },
        "id": "2fhNl2_89EkC",
        "outputId": "fcd017d7-a385-48bd-b2f7-68831b33f5a7"
      },
      "source": [
        "data_G85.isnull().any() #any สรุปข้อมูลเป็นรายคอลลัมม์ว่ามี missing ไหม"
      ],
      "execution_count": 13,
      "outputs": [
        {
          "output_type": "execute_result",
          "data": {
            "text/plain": [
              "จังหวัด                         False\n",
              "ปตท. G85                        False\n",
              "บางจาก G85                      False\n",
              "ซัสโก้ G85                      False\n",
              "สยามเฆมี G85                    False\n",
              "ปตท. ค้าปลีก G85                False\n",
              "ปตท. น้ำมันและการค้าปลีก G85    False\n",
              "dtype: bool"
            ]
          },
          "metadata": {},
          "execution_count": 13
        }
      ]
    },
    {
      "cell_type": "code",
      "metadata": {
        "colab": {
          "base_uri": "https://localhost:8080/"
        },
        "id": "WLad4V5u9Eh9",
        "outputId": "890e1e57-c6cd-4075-d621-9570a50ca18c"
      },
      "source": [
        "data_G95.isnull().any() #any สรุปข้อมูลเป็นรายคอลลัมม์ว่ามี missing ไหม"
      ],
      "execution_count": 14,
      "outputs": [
        {
          "output_type": "execute_result",
          "data": {
            "text/plain": [
              "จังหวัด                         False\n",
              "ปตท. G95                        False\n",
              "เชลล์ G95                       False\n",
              "เอสโซ่ G95                      False\n",
              "เชฟรอน(ไทย) G95                 False\n",
              "บางจาก G95                      False\n",
              "ซัสโก้ G95                      False\n",
              "พีทีจี G95                      False\n",
              "ไทยออยล์ G95                    False\n",
              "ซัสโก้ ดีลเลอร์ส G95            False\n",
              "สยามเฆมี G95                    False\n",
              "ปตท. ค้าปลีก G95                 True\n",
              "น้ำมัน ไออาร์พีซี G95           False\n",
              "ไออาร์พีซี G95                  False\n",
              "ปตท. น้ำมันและการค้าปลีก G95    False\n",
              "dtype: bool"
            ]
          },
          "metadata": {},
          "execution_count": 14
        }
      ]
    },
    {
      "cell_type": "markdown",
      "metadata": {
        "id": "ZqrZXwTw9SdY"
      },
      "source": [
        "#รวมตาราง"
      ]
    },
    {
      "cell_type": "code",
      "metadata": {
        "id": "IbGNzm0CQNcV"
      },
      "source": [
        "table = pd.merge(data_E20,data_G85,on='จังหวัด') #รวมตารางข้อมูลชุดที่ 1 และ 2"
      ],
      "execution_count": 15,
      "outputs": []
    },
    {
      "cell_type": "code",
      "metadata": {
        "colab": {
          "base_uri": "https://localhost:8080/",
          "height": 436
        },
        "id": "dsfw-VaqQNaZ",
        "outputId": "6bbb9dce-06e6-4317-93dd-e2abed80c545"
      },
      "source": [
        "table"
      ],
      "execution_count": 16,
      "outputs": [
        {
          "output_type": "execute_result",
          "data": {
            "text/html": [
              "<div>\n",
              "<style scoped>\n",
              "    .dataframe tbody tr th:only-of-type {\n",
              "        vertical-align: middle;\n",
              "    }\n",
              "\n",
              "    .dataframe tbody tr th {\n",
              "        vertical-align: top;\n",
              "    }\n",
              "\n",
              "    .dataframe thead th {\n",
              "        text-align: right;\n",
              "    }\n",
              "</style>\n",
              "<table border=\"1\" class=\"dataframe\">\n",
              "  <thead>\n",
              "    <tr style=\"text-align: right;\">\n",
              "      <th></th>\n",
              "      <th>จังหวัด</th>\n",
              "      <th>ปตท. E20</th>\n",
              "      <th>เชลล์ E20</th>\n",
              "      <th>เอสโซ่ E20</th>\n",
              "      <th>เชฟรอน(ไทย) E20</th>\n",
              "      <th>บางจาก E20</th>\n",
              "      <th>ซัสโก้ E20</th>\n",
              "      <th>พีทีจี E20</th>\n",
              "      <th>ไทยออยล์ E20</th>\n",
              "      <th>ซัสโก้ ดีลเลอร์ส E20</th>\n",
              "      <th>สยามเฆมี E20</th>\n",
              "      <th>ปตท. ค้าปลีก E20</th>\n",
              "      <th>ปตท. น้ำมันและการค้าปลีก E20</th>\n",
              "      <th>ปตท. G85</th>\n",
              "      <th>บางจาก G85</th>\n",
              "      <th>ซัสโก้ G85</th>\n",
              "      <th>สยามเฆมี G85</th>\n",
              "      <th>ปตท. ค้าปลีก G85</th>\n",
              "      <th>ปตท. น้ำมันและการค้าปลีก G85</th>\n",
              "    </tr>\n",
              "  </thead>\n",
              "  <tbody>\n",
              "    <tr>\n",
              "      <th>0</th>\n",
              "      <td>กรุงเทพมหานคร</td>\n",
              "      <td>1587</td>\n",
              "      <td>8336</td>\n",
              "      <td>7983</td>\n",
              "      <td>837</td>\n",
              "      <td>10568</td>\n",
              "      <td>431</td>\n",
              "      <td>59</td>\n",
              "      <td>0</td>\n",
              "      <td>230</td>\n",
              "      <td>4</td>\n",
              "      <td>1957</td>\n",
              "      <td>8695</td>\n",
              "      <td>328</td>\n",
              "      <td>5469</td>\n",
              "      <td>80</td>\n",
              "      <td>20</td>\n",
              "      <td>80</td>\n",
              "      <td>2581</td>\n",
              "    </tr>\n",
              "    <tr>\n",
              "      <th>1</th>\n",
              "      <td>สมุทรปราการ</td>\n",
              "      <td>250</td>\n",
              "      <td>1365</td>\n",
              "      <td>1275</td>\n",
              "      <td>193</td>\n",
              "      <td>2648</td>\n",
              "      <td>25</td>\n",
              "      <td>0</td>\n",
              "      <td>0</td>\n",
              "      <td>40</td>\n",
              "      <td>0</td>\n",
              "      <td>741</td>\n",
              "      <td>1868</td>\n",
              "      <td>60</td>\n",
              "      <td>1275</td>\n",
              "      <td>0</td>\n",
              "      <td>0</td>\n",
              "      <td>64</td>\n",
              "      <td>402</td>\n",
              "    </tr>\n",
              "    <tr>\n",
              "      <th>2</th>\n",
              "      <td>นนทบุรี</td>\n",
              "      <td>102</td>\n",
              "      <td>1558</td>\n",
              "      <td>1208</td>\n",
              "      <td>352</td>\n",
              "      <td>2600</td>\n",
              "      <td>58</td>\n",
              "      <td>0</td>\n",
              "      <td>0</td>\n",
              "      <td>82</td>\n",
              "      <td>0</td>\n",
              "      <td>1135</td>\n",
              "      <td>2155</td>\n",
              "      <td>22</td>\n",
              "      <td>1602</td>\n",
              "      <td>0</td>\n",
              "      <td>0</td>\n",
              "      <td>0</td>\n",
              "      <td>875</td>\n",
              "    </tr>\n",
              "    <tr>\n",
              "      <th>3</th>\n",
              "      <td>ปทุมธานี</td>\n",
              "      <td>94</td>\n",
              "      <td>752</td>\n",
              "      <td>1323</td>\n",
              "      <td>131</td>\n",
              "      <td>1347</td>\n",
              "      <td>39</td>\n",
              "      <td>48</td>\n",
              "      <td>0</td>\n",
              "      <td>0</td>\n",
              "      <td>0</td>\n",
              "      <td>1714</td>\n",
              "      <td>2781</td>\n",
              "      <td>0</td>\n",
              "      <td>844</td>\n",
              "      <td>12</td>\n",
              "      <td>0</td>\n",
              "      <td>0</td>\n",
              "      <td>905</td>\n",
              "    </tr>\n",
              "    <tr>\n",
              "      <th>4</th>\n",
              "      <td>พระนครศรีอยุธยา</td>\n",
              "      <td>97</td>\n",
              "      <td>670</td>\n",
              "      <td>270</td>\n",
              "      <td>67</td>\n",
              "      <td>1233</td>\n",
              "      <td>0</td>\n",
              "      <td>20</td>\n",
              "      <td>0</td>\n",
              "      <td>0</td>\n",
              "      <td>0</td>\n",
              "      <td>734</td>\n",
              "      <td>1933</td>\n",
              "      <td>22</td>\n",
              "      <td>679</td>\n",
              "      <td>0</td>\n",
              "      <td>0</td>\n",
              "      <td>18</td>\n",
              "      <td>533</td>\n",
              "    </tr>\n",
              "    <tr>\n",
              "      <th>...</th>\n",
              "      <td>...</td>\n",
              "      <td>...</td>\n",
              "      <td>...</td>\n",
              "      <td>...</td>\n",
              "      <td>...</td>\n",
              "      <td>...</td>\n",
              "      <td>...</td>\n",
              "      <td>...</td>\n",
              "      <td>...</td>\n",
              "      <td>...</td>\n",
              "      <td>...</td>\n",
              "      <td>...</td>\n",
              "      <td>...</td>\n",
              "      <td>...</td>\n",
              "      <td>...</td>\n",
              "      <td>...</td>\n",
              "      <td>...</td>\n",
              "      <td>...</td>\n",
              "      <td>...</td>\n",
              "    </tr>\n",
              "    <tr>\n",
              "      <th>72</th>\n",
              "      <td>ตรัง</td>\n",
              "      <td>0</td>\n",
              "      <td>149</td>\n",
              "      <td>171</td>\n",
              "      <td>39</td>\n",
              "      <td>310</td>\n",
              "      <td>18</td>\n",
              "      <td>9</td>\n",
              "      <td>0</td>\n",
              "      <td>0</td>\n",
              "      <td>0</td>\n",
              "      <td>0</td>\n",
              "      <td>499</td>\n",
              "      <td>0</td>\n",
              "      <td>28</td>\n",
              "      <td>0</td>\n",
              "      <td>0</td>\n",
              "      <td>0</td>\n",
              "      <td>132</td>\n",
              "    </tr>\n",
              "    <tr>\n",
              "      <th>73</th>\n",
              "      <td>พัทลุง</td>\n",
              "      <td>0</td>\n",
              "      <td>241</td>\n",
              "      <td>3</td>\n",
              "      <td>28</td>\n",
              "      <td>6</td>\n",
              "      <td>0</td>\n",
              "      <td>16</td>\n",
              "      <td>0</td>\n",
              "      <td>0</td>\n",
              "      <td>0</td>\n",
              "      <td>0</td>\n",
              "      <td>416</td>\n",
              "      <td>0</td>\n",
              "      <td>0</td>\n",
              "      <td>0</td>\n",
              "      <td>0</td>\n",
              "      <td>0</td>\n",
              "      <td>82</td>\n",
              "    </tr>\n",
              "    <tr>\n",
              "      <th>74</th>\n",
              "      <td>ปัตตานี</td>\n",
              "      <td>0</td>\n",
              "      <td>92</td>\n",
              "      <td>0</td>\n",
              "      <td>0</td>\n",
              "      <td>27</td>\n",
              "      <td>100</td>\n",
              "      <td>63</td>\n",
              "      <td>0</td>\n",
              "      <td>0</td>\n",
              "      <td>0</td>\n",
              "      <td>0</td>\n",
              "      <td>572</td>\n",
              "      <td>0</td>\n",
              "      <td>0</td>\n",
              "      <td>0</td>\n",
              "      <td>0</td>\n",
              "      <td>0</td>\n",
              "      <td>106</td>\n",
              "    </tr>\n",
              "    <tr>\n",
              "      <th>75</th>\n",
              "      <td>ยะลา</td>\n",
              "      <td>0</td>\n",
              "      <td>46</td>\n",
              "      <td>0</td>\n",
              "      <td>40</td>\n",
              "      <td>0</td>\n",
              "      <td>6</td>\n",
              "      <td>0</td>\n",
              "      <td>0</td>\n",
              "      <td>0</td>\n",
              "      <td>0</td>\n",
              "      <td>0</td>\n",
              "      <td>397</td>\n",
              "      <td>0</td>\n",
              "      <td>0</td>\n",
              "      <td>0</td>\n",
              "      <td>0</td>\n",
              "      <td>0</td>\n",
              "      <td>76</td>\n",
              "    </tr>\n",
              "    <tr>\n",
              "      <th>76</th>\n",
              "      <td>นราธิวาส</td>\n",
              "      <td>0</td>\n",
              "      <td>47</td>\n",
              "      <td>16</td>\n",
              "      <td>0</td>\n",
              "      <td>65</td>\n",
              "      <td>0</td>\n",
              "      <td>0</td>\n",
              "      <td>0</td>\n",
              "      <td>0</td>\n",
              "      <td>0</td>\n",
              "      <td>0</td>\n",
              "      <td>437</td>\n",
              "      <td>0</td>\n",
              "      <td>4</td>\n",
              "      <td>0</td>\n",
              "      <td>0</td>\n",
              "      <td>0</td>\n",
              "      <td>67</td>\n",
              "    </tr>\n",
              "  </tbody>\n",
              "</table>\n",
              "<p>77 rows × 19 columns</p>\n",
              "</div>"
            ],
            "text/plain": [
              "            จังหวัด  ปตท. E20  ...  ปตท. ค้าปลีก G85  ปตท. น้ำมันและการค้าปลีก G85\n",
              "0     กรุงเทพมหานคร      1587  ...                80                          2581\n",
              "1       สมุทรปราการ       250  ...                64                           402\n",
              "2           นนทบุรี       102  ...                 0                           875\n",
              "3          ปทุมธานี        94  ...                 0                           905\n",
              "4   พระนครศรีอยุธยา        97  ...                18                           533\n",
              "..              ...       ...  ...               ...                           ...\n",
              "72             ตรัง         0  ...                 0                           132\n",
              "73           พัทลุง         0  ...                 0                            82\n",
              "74          ปัตตานี         0  ...                 0                           106\n",
              "75             ยะลา         0  ...                 0                            76\n",
              "76         นราธิวาส         0  ...                 0                            67\n",
              "\n",
              "[77 rows x 19 columns]"
            ]
          },
          "metadata": {},
          "execution_count": 16
        }
      ]
    },
    {
      "cell_type": "code",
      "metadata": {
        "id": "a6XzKFZHQNWM"
      },
      "source": [
        "table_3 = pd.merge(table,data_G95,on='จังหวัด') #รวมตารางข้อมูลชุดที่ 1 และ 2 และ 3"
      ],
      "execution_count": 17,
      "outputs": []
    },
    {
      "cell_type": "code",
      "metadata": {
        "colab": {
          "base_uri": "https://localhost:8080/",
          "height": 521
        },
        "id": "4-jXceqeQNUO",
        "outputId": "30e556c9-8e70-40d0-b89d-6ec71d11ea3e"
      },
      "source": [
        "table_3"
      ],
      "execution_count": 18,
      "outputs": [
        {
          "output_type": "execute_result",
          "data": {
            "text/html": [
              "<div>\n",
              "<style scoped>\n",
              "    .dataframe tbody tr th:only-of-type {\n",
              "        vertical-align: middle;\n",
              "    }\n",
              "\n",
              "    .dataframe tbody tr th {\n",
              "        vertical-align: top;\n",
              "    }\n",
              "\n",
              "    .dataframe thead th {\n",
              "        text-align: right;\n",
              "    }\n",
              "</style>\n",
              "<table border=\"1\" class=\"dataframe\">\n",
              "  <thead>\n",
              "    <tr style=\"text-align: right;\">\n",
              "      <th></th>\n",
              "      <th>จังหวัด</th>\n",
              "      <th>ปตท. E20</th>\n",
              "      <th>เชลล์ E20</th>\n",
              "      <th>เอสโซ่ E20</th>\n",
              "      <th>เชฟรอน(ไทย) E20</th>\n",
              "      <th>บางจาก E20</th>\n",
              "      <th>ซัสโก้ E20</th>\n",
              "      <th>พีทีจี E20</th>\n",
              "      <th>ไทยออยล์ E20</th>\n",
              "      <th>ซัสโก้ ดีลเลอร์ส E20</th>\n",
              "      <th>สยามเฆมี E20</th>\n",
              "      <th>ปตท. ค้าปลีก E20</th>\n",
              "      <th>ปตท. น้ำมันและการค้าปลีก E20</th>\n",
              "      <th>ปตท. G85</th>\n",
              "      <th>บางจาก G85</th>\n",
              "      <th>ซัสโก้ G85</th>\n",
              "      <th>สยามเฆมี G85</th>\n",
              "      <th>ปตท. ค้าปลีก G85</th>\n",
              "      <th>ปตท. น้ำมันและการค้าปลีก G85</th>\n",
              "      <th>ปตท. G95</th>\n",
              "      <th>เชลล์ G95</th>\n",
              "      <th>เอสโซ่ G95</th>\n",
              "      <th>เชฟรอน(ไทย) G95</th>\n",
              "      <th>บางจาก G95</th>\n",
              "      <th>ซัสโก้ G95</th>\n",
              "      <th>พีทีจี G95</th>\n",
              "      <th>ไทยออยล์ G95</th>\n",
              "      <th>ซัสโก้ ดีลเลอร์ส G95</th>\n",
              "      <th>สยามเฆมี G95</th>\n",
              "      <th>ปตท. ค้าปลีก G95</th>\n",
              "      <th>น้ำมัน ไออาร์พีซี G95</th>\n",
              "      <th>ไออาร์พีซี G95</th>\n",
              "      <th>ปตท. น้ำมันและการค้าปลีก G95</th>\n",
              "    </tr>\n",
              "  </thead>\n",
              "  <tbody>\n",
              "    <tr>\n",
              "      <th>0</th>\n",
              "      <td>กรุงเทพมหานคร</td>\n",
              "      <td>1587</td>\n",
              "      <td>8336</td>\n",
              "      <td>7983</td>\n",
              "      <td>837</td>\n",
              "      <td>10568</td>\n",
              "      <td>431</td>\n",
              "      <td>59</td>\n",
              "      <td>0</td>\n",
              "      <td>230</td>\n",
              "      <td>4</td>\n",
              "      <td>1957</td>\n",
              "      <td>8695</td>\n",
              "      <td>328</td>\n",
              "      <td>5469</td>\n",
              "      <td>80</td>\n",
              "      <td>20</td>\n",
              "      <td>80</td>\n",
              "      <td>2581</td>\n",
              "      <td>3674</td>\n",
              "      <td>156</td>\n",
              "      <td>13837</td>\n",
              "      <td>3553</td>\n",
              "      <td>14433</td>\n",
              "      <td>1912</td>\n",
              "      <td>141</td>\n",
              "      <td>0</td>\n",
              "      <td>795</td>\n",
              "      <td>4</td>\n",
              "      <td>3046.0</td>\n",
              "      <td>0</td>\n",
              "      <td>10301</td>\n",
              "      <td>15428</td>\n",
              "    </tr>\n",
              "    <tr>\n",
              "      <th>1</th>\n",
              "      <td>สมุทรปราการ</td>\n",
              "      <td>250</td>\n",
              "      <td>1365</td>\n",
              "      <td>1275</td>\n",
              "      <td>193</td>\n",
              "      <td>2648</td>\n",
              "      <td>25</td>\n",
              "      <td>0</td>\n",
              "      <td>0</td>\n",
              "      <td>40</td>\n",
              "      <td>0</td>\n",
              "      <td>741</td>\n",
              "      <td>1868</td>\n",
              "      <td>60</td>\n",
              "      <td>1275</td>\n",
              "      <td>0</td>\n",
              "      <td>0</td>\n",
              "      <td>64</td>\n",
              "      <td>402</td>\n",
              "      <td>336</td>\n",
              "      <td>0</td>\n",
              "      <td>2301</td>\n",
              "      <td>617</td>\n",
              "      <td>3088</td>\n",
              "      <td>140</td>\n",
              "      <td>0</td>\n",
              "      <td>0</td>\n",
              "      <td>135</td>\n",
              "      <td>0</td>\n",
              "      <td>1054.0</td>\n",
              "      <td>0</td>\n",
              "      <td>0</td>\n",
              "      <td>3261</td>\n",
              "    </tr>\n",
              "    <tr>\n",
              "      <th>2</th>\n",
              "      <td>นนทบุรี</td>\n",
              "      <td>102</td>\n",
              "      <td>1558</td>\n",
              "      <td>1208</td>\n",
              "      <td>352</td>\n",
              "      <td>2600</td>\n",
              "      <td>58</td>\n",
              "      <td>0</td>\n",
              "      <td>0</td>\n",
              "      <td>82</td>\n",
              "      <td>0</td>\n",
              "      <td>1135</td>\n",
              "      <td>2155</td>\n",
              "      <td>22</td>\n",
              "      <td>1602</td>\n",
              "      <td>0</td>\n",
              "      <td>0</td>\n",
              "      <td>0</td>\n",
              "      <td>875</td>\n",
              "      <td>158</td>\n",
              "      <td>0</td>\n",
              "      <td>1911</td>\n",
              "      <td>716</td>\n",
              "      <td>2906</td>\n",
              "      <td>153</td>\n",
              "      <td>0</td>\n",
              "      <td>0</td>\n",
              "      <td>262</td>\n",
              "      <td>0</td>\n",
              "      <td>1527.0</td>\n",
              "      <td>0</td>\n",
              "      <td>0</td>\n",
              "      <td>3154</td>\n",
              "    </tr>\n",
              "    <tr>\n",
              "      <th>3</th>\n",
              "      <td>ปทุมธานี</td>\n",
              "      <td>94</td>\n",
              "      <td>752</td>\n",
              "      <td>1323</td>\n",
              "      <td>131</td>\n",
              "      <td>1347</td>\n",
              "      <td>39</td>\n",
              "      <td>48</td>\n",
              "      <td>0</td>\n",
              "      <td>0</td>\n",
              "      <td>0</td>\n",
              "      <td>1714</td>\n",
              "      <td>2781</td>\n",
              "      <td>0</td>\n",
              "      <td>844</td>\n",
              "      <td>12</td>\n",
              "      <td>0</td>\n",
              "      <td>0</td>\n",
              "      <td>905</td>\n",
              "      <td>112</td>\n",
              "      <td>0</td>\n",
              "      <td>1789</td>\n",
              "      <td>476</td>\n",
              "      <td>1527</td>\n",
              "      <td>128</td>\n",
              "      <td>97</td>\n",
              "      <td>0</td>\n",
              "      <td>0</td>\n",
              "      <td>0</td>\n",
              "      <td>1970.0</td>\n",
              "      <td>0</td>\n",
              "      <td>0</td>\n",
              "      <td>3650</td>\n",
              "    </tr>\n",
              "    <tr>\n",
              "      <th>4</th>\n",
              "      <td>พระนครศรีอยุธยา</td>\n",
              "      <td>97</td>\n",
              "      <td>670</td>\n",
              "      <td>270</td>\n",
              "      <td>67</td>\n",
              "      <td>1233</td>\n",
              "      <td>0</td>\n",
              "      <td>20</td>\n",
              "      <td>0</td>\n",
              "      <td>0</td>\n",
              "      <td>0</td>\n",
              "      <td>734</td>\n",
              "      <td>1933</td>\n",
              "      <td>22</td>\n",
              "      <td>679</td>\n",
              "      <td>0</td>\n",
              "      <td>0</td>\n",
              "      <td>18</td>\n",
              "      <td>533</td>\n",
              "      <td>109</td>\n",
              "      <td>0</td>\n",
              "      <td>391</td>\n",
              "      <td>334</td>\n",
              "      <td>1243</td>\n",
              "      <td>18</td>\n",
              "      <td>94</td>\n",
              "      <td>0</td>\n",
              "      <td>68</td>\n",
              "      <td>0</td>\n",
              "      <td>853.0</td>\n",
              "      <td>49</td>\n",
              "      <td>0</td>\n",
              "      <td>2343</td>\n",
              "    </tr>\n",
              "    <tr>\n",
              "      <th>...</th>\n",
              "      <td>...</td>\n",
              "      <td>...</td>\n",
              "      <td>...</td>\n",
              "      <td>...</td>\n",
              "      <td>...</td>\n",
              "      <td>...</td>\n",
              "      <td>...</td>\n",
              "      <td>...</td>\n",
              "      <td>...</td>\n",
              "      <td>...</td>\n",
              "      <td>...</td>\n",
              "      <td>...</td>\n",
              "      <td>...</td>\n",
              "      <td>...</td>\n",
              "      <td>...</td>\n",
              "      <td>...</td>\n",
              "      <td>...</td>\n",
              "      <td>...</td>\n",
              "      <td>...</td>\n",
              "      <td>...</td>\n",
              "      <td>...</td>\n",
              "      <td>...</td>\n",
              "      <td>...</td>\n",
              "      <td>...</td>\n",
              "      <td>...</td>\n",
              "      <td>...</td>\n",
              "      <td>...</td>\n",
              "      <td>...</td>\n",
              "      <td>...</td>\n",
              "      <td>...</td>\n",
              "      <td>...</td>\n",
              "      <td>...</td>\n",
              "      <td>...</td>\n",
              "    </tr>\n",
              "    <tr>\n",
              "      <th>72</th>\n",
              "      <td>ตรัง</td>\n",
              "      <td>0</td>\n",
              "      <td>149</td>\n",
              "      <td>171</td>\n",
              "      <td>39</td>\n",
              "      <td>310</td>\n",
              "      <td>18</td>\n",
              "      <td>9</td>\n",
              "      <td>0</td>\n",
              "      <td>0</td>\n",
              "      <td>0</td>\n",
              "      <td>0</td>\n",
              "      <td>499</td>\n",
              "      <td>0</td>\n",
              "      <td>28</td>\n",
              "      <td>0</td>\n",
              "      <td>0</td>\n",
              "      <td>0</td>\n",
              "      <td>132</td>\n",
              "      <td>0</td>\n",
              "      <td>0</td>\n",
              "      <td>508</td>\n",
              "      <td>165</td>\n",
              "      <td>549</td>\n",
              "      <td>132</td>\n",
              "      <td>39</td>\n",
              "      <td>0</td>\n",
              "      <td>0</td>\n",
              "      <td>0</td>\n",
              "      <td>0.0</td>\n",
              "      <td>0</td>\n",
              "      <td>0</td>\n",
              "      <td>829</td>\n",
              "    </tr>\n",
              "    <tr>\n",
              "      <th>73</th>\n",
              "      <td>พัทลุง</td>\n",
              "      <td>0</td>\n",
              "      <td>241</td>\n",
              "      <td>3</td>\n",
              "      <td>28</td>\n",
              "      <td>6</td>\n",
              "      <td>0</td>\n",
              "      <td>16</td>\n",
              "      <td>0</td>\n",
              "      <td>0</td>\n",
              "      <td>0</td>\n",
              "      <td>0</td>\n",
              "      <td>416</td>\n",
              "      <td>0</td>\n",
              "      <td>0</td>\n",
              "      <td>0</td>\n",
              "      <td>0</td>\n",
              "      <td>0</td>\n",
              "      <td>82</td>\n",
              "      <td>0</td>\n",
              "      <td>0</td>\n",
              "      <td>0</td>\n",
              "      <td>97</td>\n",
              "      <td>128</td>\n",
              "      <td>0</td>\n",
              "      <td>125</td>\n",
              "      <td>0</td>\n",
              "      <td>0</td>\n",
              "      <td>0</td>\n",
              "      <td>0.0</td>\n",
              "      <td>0</td>\n",
              "      <td>0</td>\n",
              "      <td>630</td>\n",
              "    </tr>\n",
              "    <tr>\n",
              "      <th>74</th>\n",
              "      <td>ปัตตานี</td>\n",
              "      <td>0</td>\n",
              "      <td>92</td>\n",
              "      <td>0</td>\n",
              "      <td>0</td>\n",
              "      <td>27</td>\n",
              "      <td>100</td>\n",
              "      <td>63</td>\n",
              "      <td>0</td>\n",
              "      <td>0</td>\n",
              "      <td>0</td>\n",
              "      <td>0</td>\n",
              "      <td>572</td>\n",
              "      <td>0</td>\n",
              "      <td>0</td>\n",
              "      <td>0</td>\n",
              "      <td>0</td>\n",
              "      <td>0</td>\n",
              "      <td>106</td>\n",
              "      <td>0</td>\n",
              "      <td>0</td>\n",
              "      <td>0</td>\n",
              "      <td>0</td>\n",
              "      <td>123</td>\n",
              "      <td>534</td>\n",
              "      <td>227</td>\n",
              "      <td>0</td>\n",
              "      <td>0</td>\n",
              "      <td>0</td>\n",
              "      <td>0.0</td>\n",
              "      <td>0</td>\n",
              "      <td>0</td>\n",
              "      <td>1604</td>\n",
              "    </tr>\n",
              "    <tr>\n",
              "      <th>75</th>\n",
              "      <td>ยะลา</td>\n",
              "      <td>0</td>\n",
              "      <td>46</td>\n",
              "      <td>0</td>\n",
              "      <td>40</td>\n",
              "      <td>0</td>\n",
              "      <td>6</td>\n",
              "      <td>0</td>\n",
              "      <td>0</td>\n",
              "      <td>0</td>\n",
              "      <td>0</td>\n",
              "      <td>0</td>\n",
              "      <td>397</td>\n",
              "      <td>0</td>\n",
              "      <td>0</td>\n",
              "      <td>0</td>\n",
              "      <td>0</td>\n",
              "      <td>0</td>\n",
              "      <td>76</td>\n",
              "      <td>0</td>\n",
              "      <td>0</td>\n",
              "      <td>0</td>\n",
              "      <td>169</td>\n",
              "      <td>53</td>\n",
              "      <td>16</td>\n",
              "      <td>61</td>\n",
              "      <td>0</td>\n",
              "      <td>0</td>\n",
              "      <td>0</td>\n",
              "      <td>0.0</td>\n",
              "      <td>0</td>\n",
              "      <td>0</td>\n",
              "      <td>1282</td>\n",
              "    </tr>\n",
              "    <tr>\n",
              "      <th>76</th>\n",
              "      <td>นราธิวาส</td>\n",
              "      <td>0</td>\n",
              "      <td>47</td>\n",
              "      <td>16</td>\n",
              "      <td>0</td>\n",
              "      <td>65</td>\n",
              "      <td>0</td>\n",
              "      <td>0</td>\n",
              "      <td>0</td>\n",
              "      <td>0</td>\n",
              "      <td>0</td>\n",
              "      <td>0</td>\n",
              "      <td>437</td>\n",
              "      <td>0</td>\n",
              "      <td>4</td>\n",
              "      <td>0</td>\n",
              "      <td>0</td>\n",
              "      <td>0</td>\n",
              "      <td>67</td>\n",
              "      <td>0</td>\n",
              "      <td>0</td>\n",
              "      <td>66</td>\n",
              "      <td>24</td>\n",
              "      <td>75</td>\n",
              "      <td>0</td>\n",
              "      <td>0</td>\n",
              "      <td>0</td>\n",
              "      <td>0</td>\n",
              "      <td>0</td>\n",
              "      <td>0.0</td>\n",
              "      <td>0</td>\n",
              "      <td>0</td>\n",
              "      <td>593</td>\n",
              "    </tr>\n",
              "  </tbody>\n",
              "</table>\n",
              "<p>77 rows × 33 columns</p>\n",
              "</div>"
            ],
            "text/plain": [
              "            จังหวัด  ปตท. E20  ...  ไออาร์พีซี G95  ปตท. น้ำมันและการค้าปลีก G95\n",
              "0     กรุงเทพมหานคร      1587  ...           10301                         15428\n",
              "1       สมุทรปราการ       250  ...               0                          3261\n",
              "2           นนทบุรี       102  ...               0                          3154\n",
              "3          ปทุมธานี        94  ...               0                          3650\n",
              "4   พระนครศรีอยุธยา        97  ...               0                          2343\n",
              "..              ...       ...  ...             ...                           ...\n",
              "72             ตรัง         0  ...               0                           829\n",
              "73           พัทลุง         0  ...               0                           630\n",
              "74          ปัตตานี         0  ...               0                          1604\n",
              "75             ยะลา         0  ...               0                          1282\n",
              "76         นราธิวาส         0  ...               0                           593\n",
              "\n",
              "[77 rows x 33 columns]"
            ]
          },
          "metadata": {},
          "execution_count": 18
        }
      ]
    },
    {
      "cell_type": "code",
      "metadata": {
        "id": "uPL0pqFBqjlc",
        "colab": {
          "base_uri": "https://localhost:8080/"
        },
        "outputId": "6b7f1bd2-9ada-40b2-9632-b54d34daa1a6"
      },
      "source": [
        "table_3.isnull().any()"
      ],
      "execution_count": 19,
      "outputs": [
        {
          "output_type": "execute_result",
          "data": {
            "text/plain": [
              "จังหวัด                         False\n",
              "ปตท. E20                        False\n",
              "เชลล์ E20                       False\n",
              "เอสโซ่ E20                      False\n",
              "เชฟรอน(ไทย) E20                 False\n",
              "บางจาก E20                      False\n",
              "ซัสโก้ E20                      False\n",
              "พีทีจี E20                      False\n",
              "ไทยออยล์ E20                    False\n",
              "ซัสโก้ ดีลเลอร์ส E20            False\n",
              "สยามเฆมี E20                    False\n",
              "ปตท. ค้าปลีก E20                False\n",
              "ปตท. น้ำมันและการค้าปลีก E20    False\n",
              "ปตท. G85                        False\n",
              "บางจาก G85                      False\n",
              "ซัสโก้ G85                      False\n",
              "สยามเฆมี G85                    False\n",
              "ปตท. ค้าปลีก G85                False\n",
              "ปตท. น้ำมันและการค้าปลีก G85    False\n",
              "ปตท. G95                        False\n",
              "เชลล์ G95                       False\n",
              "เอสโซ่ G95                      False\n",
              "เชฟรอน(ไทย) G95                 False\n",
              "บางจาก G95                      False\n",
              "ซัสโก้ G95                      False\n",
              "พีทีจี G95                      False\n",
              "ไทยออยล์ G95                    False\n",
              "ซัสโก้ ดีลเลอร์ส G95            False\n",
              "สยามเฆมี G95                    False\n",
              "ปตท. ค้าปลีก G95                 True\n",
              "น้ำมัน ไออาร์พีซี G95           False\n",
              "ไออาร์พีซี G95                  False\n",
              "ปตท. น้ำมันและการค้าปลีก G95    False\n",
              "dtype: bool"
            ]
          },
          "metadata": {},
          "execution_count": 19
        }
      ]
    },
    {
      "cell_type": "code",
      "metadata": {
        "id": "FX261XpspMkc",
        "colab": {
          "base_uri": "https://localhost:8080/"
        },
        "outputId": "e135cb5c-7cd2-4d9a-a72a-25e50c147dac"
      },
      "source": [
        "table_3.shape #ตาราง table_3 มี 77 แถว 33 colum"
      ],
      "execution_count": 20,
      "outputs": [
        {
          "output_type": "execute_result",
          "data": {
            "text/plain": [
              "(77, 33)"
            ]
          },
          "metadata": {},
          "execution_count": 20
        }
      ]
    },
    {
      "cell_type": "code",
      "metadata": {
        "id": "0OekMKO5nTyj",
        "colab": {
          "base_uri": "https://localhost:8080/"
        },
        "outputId": "0110aca1-8aeb-40d0-f971-e6723c927ca6"
      },
      "source": [
        "table_3.mean() #ตวจสอบค่าเฉลี่ยของแต่ละบริษัท"
      ],
      "execution_count": 21,
      "outputs": [
        {
          "output_type": "execute_result",
          "data": {
            "text/plain": [
              "ปตท. E20                          39.051948\n",
              "เชลล์ E20                        352.480519\n",
              "เอสโซ่ E20                       253.077922\n",
              "เชฟรอน(ไทย) E20                   59.649351\n",
              "บางจาก E20                       428.870130\n",
              "ซัสโก้ E20                        11.545455\n",
              "พีทีจี E20                        10.207792\n",
              "ไทยออยล์ E20                      82.168831\n",
              "ซัสโก้ ดีลเลอร์ส E20               4.987013\n",
              "สยามเฆมี E20                       0.051948\n",
              "ปตท. ค้าปลีก E20                 174.025974\n",
              "ปตท. น้ำมันและการค้าปลีก E20    1113.545455\n",
              "ปตท. G85                           8.116883\n",
              "บางจาก G85                       200.324675\n",
              "ซัสโก้ G85                         1.454545\n",
              "สยามเฆมี G85                       0.259740\n",
              "ปตท. ค้าปลีก G85                   7.623377\n",
              "ปตท. น้ำมันและการค้าปลีก G85     278.155844\n",
              "ปตท. G95                          70.337662\n",
              "เชลล์ G95                          4.480519\n",
              "เอสโซ่ G95                       474.805195\n",
              "เชฟรอน(ไทย) G95                  226.701299\n",
              "บางจาก G95                       698.506494\n",
              "ซัสโก้ G95                        67.727273\n",
              "พีทีจี G95                        93.818182\n",
              "ไทยออยล์ G95                     272.987013\n",
              "ซัสโก้ ดีลเลอร์ส G95              18.415584\n",
              "สยามเฆมี G95                       0.051948\n",
              "ปตท. ค้าปลีก G95                 226.618421\n",
              "น้ำมัน ไออาร์พีซี G95              1.506494\n",
              "ไออาร์พีซี G95                   136.779221\n",
              "ปตท. น้ำมันและการค้าปลีก G95    1643.701299\n",
              "dtype: float64"
            ]
          },
          "metadata": {},
          "execution_count": 21
        }
      ]
    },
    {
      "cell_type": "markdown",
      "metadata": {
        "id": "UQlJNPnDrG-J"
      },
      "source": [
        "#สร้างตารางที่ใช้ในการดู challenge"
      ]
    },
    {
      "cell_type": "code",
      "metadata": {
        "id": "-aMKHvUInTwX",
        "colab": {
          "base_uri": "https://localhost:8080/",
          "height": 419
        },
        "outputId": "9bb20323-0ac7-4d81-f2b3-61570f586694"
      },
      "source": [
        "data = table_3[['จังหวัด','ปตท. น้ำมันและการค้าปลีก E20','ปตท. น้ำมันและการค้าปลีก G85','ปตท. น้ำมันและการค้าปลีก G95']]\n",
        "data"
      ],
      "execution_count": 22,
      "outputs": [
        {
          "output_type": "execute_result",
          "data": {
            "text/html": [
              "<div>\n",
              "<style scoped>\n",
              "    .dataframe tbody tr th:only-of-type {\n",
              "        vertical-align: middle;\n",
              "    }\n",
              "\n",
              "    .dataframe tbody tr th {\n",
              "        vertical-align: top;\n",
              "    }\n",
              "\n",
              "    .dataframe thead th {\n",
              "        text-align: right;\n",
              "    }\n",
              "</style>\n",
              "<table border=\"1\" class=\"dataframe\">\n",
              "  <thead>\n",
              "    <tr style=\"text-align: right;\">\n",
              "      <th></th>\n",
              "      <th>จังหวัด</th>\n",
              "      <th>ปตท. น้ำมันและการค้าปลีก E20</th>\n",
              "      <th>ปตท. น้ำมันและการค้าปลีก G85</th>\n",
              "      <th>ปตท. น้ำมันและการค้าปลีก G95</th>\n",
              "    </tr>\n",
              "  </thead>\n",
              "  <tbody>\n",
              "    <tr>\n",
              "      <th>0</th>\n",
              "      <td>กรุงเทพมหานคร</td>\n",
              "      <td>8695</td>\n",
              "      <td>2581</td>\n",
              "      <td>15428</td>\n",
              "    </tr>\n",
              "    <tr>\n",
              "      <th>1</th>\n",
              "      <td>สมุทรปราการ</td>\n",
              "      <td>1868</td>\n",
              "      <td>402</td>\n",
              "      <td>3261</td>\n",
              "    </tr>\n",
              "    <tr>\n",
              "      <th>2</th>\n",
              "      <td>นนทบุรี</td>\n",
              "      <td>2155</td>\n",
              "      <td>875</td>\n",
              "      <td>3154</td>\n",
              "    </tr>\n",
              "    <tr>\n",
              "      <th>3</th>\n",
              "      <td>ปทุมธานี</td>\n",
              "      <td>2781</td>\n",
              "      <td>905</td>\n",
              "      <td>3650</td>\n",
              "    </tr>\n",
              "    <tr>\n",
              "      <th>4</th>\n",
              "      <td>พระนครศรีอยุธยา</td>\n",
              "      <td>1933</td>\n",
              "      <td>533</td>\n",
              "      <td>2343</td>\n",
              "    </tr>\n",
              "    <tr>\n",
              "      <th>...</th>\n",
              "      <td>...</td>\n",
              "      <td>...</td>\n",
              "      <td>...</td>\n",
              "      <td>...</td>\n",
              "    </tr>\n",
              "    <tr>\n",
              "      <th>72</th>\n",
              "      <td>ตรัง</td>\n",
              "      <td>499</td>\n",
              "      <td>132</td>\n",
              "      <td>829</td>\n",
              "    </tr>\n",
              "    <tr>\n",
              "      <th>73</th>\n",
              "      <td>พัทลุง</td>\n",
              "      <td>416</td>\n",
              "      <td>82</td>\n",
              "      <td>630</td>\n",
              "    </tr>\n",
              "    <tr>\n",
              "      <th>74</th>\n",
              "      <td>ปัตตานี</td>\n",
              "      <td>572</td>\n",
              "      <td>106</td>\n",
              "      <td>1604</td>\n",
              "    </tr>\n",
              "    <tr>\n",
              "      <th>75</th>\n",
              "      <td>ยะลา</td>\n",
              "      <td>397</td>\n",
              "      <td>76</td>\n",
              "      <td>1282</td>\n",
              "    </tr>\n",
              "    <tr>\n",
              "      <th>76</th>\n",
              "      <td>นราธิวาส</td>\n",
              "      <td>437</td>\n",
              "      <td>67</td>\n",
              "      <td>593</td>\n",
              "    </tr>\n",
              "  </tbody>\n",
              "</table>\n",
              "<p>77 rows × 4 columns</p>\n",
              "</div>"
            ],
            "text/plain": [
              "            จังหวัด  ...  ปตท. น้ำมันและการค้าปลีก G95\n",
              "0     กรุงเทพมหานคร  ...                         15428\n",
              "1       สมุทรปราการ  ...                          3261\n",
              "2           นนทบุรี  ...                          3154\n",
              "3          ปทุมธานี  ...                          3650\n",
              "4   พระนครศรีอยุธยา  ...                          2343\n",
              "..              ...  ...                           ...\n",
              "72             ตรัง  ...                           829\n",
              "73           พัทลุง  ...                           630\n",
              "74          ปัตตานี  ...                          1604\n",
              "75             ยะลา  ...                          1282\n",
              "76         นราธิวาส  ...                           593\n",
              "\n",
              "[77 rows x 4 columns]"
            ]
          },
          "metadata": {},
          "execution_count": 22
        }
      ]
    },
    {
      "cell_type": "code",
      "metadata": {
        "id": "OlX-y8grARdF",
        "colab": {
          "base_uri": "https://localhost:8080/"
        },
        "outputId": "81a2ca5d-ff7b-4abb-87bb-8ff3007bbeea"
      },
      "source": [
        "data.shape #ข้อมูลนี้มี 77 แถว 4 คอลัม"
      ],
      "execution_count": 23,
      "outputs": [
        {
          "output_type": "execute_result",
          "data": {
            "text/plain": [
              "(77, 4)"
            ]
          },
          "metadata": {},
          "execution_count": 23
        }
      ]
    },
    {
      "cell_type": "code",
      "metadata": {
        "id": "c2gd1iNbjdIZ",
        "colab": {
          "base_uri": "https://localhost:8080/"
        },
        "outputId": "6eb48712-ca21-4b7d-e9fe-0053cbc24b14"
      },
      "source": [
        "data.isnull().any() #ตรวจสอบว่าตารางมีค่าว่างหรือไม่ จะเห็นว่าไม่คอลัมน์ที่มีค่าว่าง"
      ],
      "execution_count": 24,
      "outputs": [
        {
          "output_type": "execute_result",
          "data": {
            "text/plain": [
              "จังหวัด                         False\n",
              "ปตท. น้ำมันและการค้าปลีก E20    False\n",
              "ปตท. น้ำมันและการค้าปลีก G85    False\n",
              "ปตท. น้ำมันและการค้าปลีก G95    False\n",
              "dtype: bool"
            ]
          },
          "metadata": {},
          "execution_count": 24
        }
      ]
    },
    {
      "cell_type": "code",
      "metadata": {
        "id": "pcWQsL9t6aih"
      },
      "source": [
        "X = table_3[['ปตท. E20','เชลล์ E20','เอสโซ่ E20','เชฟรอน(ไทย) E20','บางจาก E20','ซัสโก้ E20','พีทีจี E20','ไทยออยล์ E20','ซัสโก้ ดีลเลอร์ส E20','สยามเฆมี E20','ปตท. ค้าปลีก E20','ปตท. น้ำมันและการค้าปลีก E20']]\n",
        "Y = table_3[['ปตท. G85','บางจาก G85','ซัสโก้ G85','สยามเฆมี G85','ปตท. ค้าปลีก G85','ปตท. น้ำมันและการค้าปลีก G85']]"
      ],
      "execution_count": 25,
      "outputs": []
    },
    {
      "cell_type": "code",
      "metadata": {
        "id": "uZAGEOB06agQ",
        "colab": {
          "base_uri": "https://localhost:8080/",
          "height": 419
        },
        "outputId": "dc6860ba-1eb7-42d7-c9cc-f800315c4662"
      },
      "source": [
        "X"
      ],
      "execution_count": 26,
      "outputs": [
        {
          "output_type": "execute_result",
          "data": {
            "text/html": [
              "<div>\n",
              "<style scoped>\n",
              "    .dataframe tbody tr th:only-of-type {\n",
              "        vertical-align: middle;\n",
              "    }\n",
              "\n",
              "    .dataframe tbody tr th {\n",
              "        vertical-align: top;\n",
              "    }\n",
              "\n",
              "    .dataframe thead th {\n",
              "        text-align: right;\n",
              "    }\n",
              "</style>\n",
              "<table border=\"1\" class=\"dataframe\">\n",
              "  <thead>\n",
              "    <tr style=\"text-align: right;\">\n",
              "      <th></th>\n",
              "      <th>ปตท. E20</th>\n",
              "      <th>เชลล์ E20</th>\n",
              "      <th>เอสโซ่ E20</th>\n",
              "      <th>เชฟรอน(ไทย) E20</th>\n",
              "      <th>บางจาก E20</th>\n",
              "      <th>ซัสโก้ E20</th>\n",
              "      <th>พีทีจี E20</th>\n",
              "      <th>ไทยออยล์ E20</th>\n",
              "      <th>ซัสโก้ ดีลเลอร์ส E20</th>\n",
              "      <th>สยามเฆมี E20</th>\n",
              "      <th>ปตท. ค้าปลีก E20</th>\n",
              "      <th>ปตท. น้ำมันและการค้าปลีก E20</th>\n",
              "    </tr>\n",
              "  </thead>\n",
              "  <tbody>\n",
              "    <tr>\n",
              "      <th>0</th>\n",
              "      <td>1587</td>\n",
              "      <td>8336</td>\n",
              "      <td>7983</td>\n",
              "      <td>837</td>\n",
              "      <td>10568</td>\n",
              "      <td>431</td>\n",
              "      <td>59</td>\n",
              "      <td>0</td>\n",
              "      <td>230</td>\n",
              "      <td>4</td>\n",
              "      <td>1957</td>\n",
              "      <td>8695</td>\n",
              "    </tr>\n",
              "    <tr>\n",
              "      <th>1</th>\n",
              "      <td>250</td>\n",
              "      <td>1365</td>\n",
              "      <td>1275</td>\n",
              "      <td>193</td>\n",
              "      <td>2648</td>\n",
              "      <td>25</td>\n",
              "      <td>0</td>\n",
              "      <td>0</td>\n",
              "      <td>40</td>\n",
              "      <td>0</td>\n",
              "      <td>741</td>\n",
              "      <td>1868</td>\n",
              "    </tr>\n",
              "    <tr>\n",
              "      <th>2</th>\n",
              "      <td>102</td>\n",
              "      <td>1558</td>\n",
              "      <td>1208</td>\n",
              "      <td>352</td>\n",
              "      <td>2600</td>\n",
              "      <td>58</td>\n",
              "      <td>0</td>\n",
              "      <td>0</td>\n",
              "      <td>82</td>\n",
              "      <td>0</td>\n",
              "      <td>1135</td>\n",
              "      <td>2155</td>\n",
              "    </tr>\n",
              "    <tr>\n",
              "      <th>3</th>\n",
              "      <td>94</td>\n",
              "      <td>752</td>\n",
              "      <td>1323</td>\n",
              "      <td>131</td>\n",
              "      <td>1347</td>\n",
              "      <td>39</td>\n",
              "      <td>48</td>\n",
              "      <td>0</td>\n",
              "      <td>0</td>\n",
              "      <td>0</td>\n",
              "      <td>1714</td>\n",
              "      <td>2781</td>\n",
              "    </tr>\n",
              "    <tr>\n",
              "      <th>4</th>\n",
              "      <td>97</td>\n",
              "      <td>670</td>\n",
              "      <td>270</td>\n",
              "      <td>67</td>\n",
              "      <td>1233</td>\n",
              "      <td>0</td>\n",
              "      <td>20</td>\n",
              "      <td>0</td>\n",
              "      <td>0</td>\n",
              "      <td>0</td>\n",
              "      <td>734</td>\n",
              "      <td>1933</td>\n",
              "    </tr>\n",
              "    <tr>\n",
              "      <th>...</th>\n",
              "      <td>...</td>\n",
              "      <td>...</td>\n",
              "      <td>...</td>\n",
              "      <td>...</td>\n",
              "      <td>...</td>\n",
              "      <td>...</td>\n",
              "      <td>...</td>\n",
              "      <td>...</td>\n",
              "      <td>...</td>\n",
              "      <td>...</td>\n",
              "      <td>...</td>\n",
              "      <td>...</td>\n",
              "    </tr>\n",
              "    <tr>\n",
              "      <th>72</th>\n",
              "      <td>0</td>\n",
              "      <td>149</td>\n",
              "      <td>171</td>\n",
              "      <td>39</td>\n",
              "      <td>310</td>\n",
              "      <td>18</td>\n",
              "      <td>9</td>\n",
              "      <td>0</td>\n",
              "      <td>0</td>\n",
              "      <td>0</td>\n",
              "      <td>0</td>\n",
              "      <td>499</td>\n",
              "    </tr>\n",
              "    <tr>\n",
              "      <th>73</th>\n",
              "      <td>0</td>\n",
              "      <td>241</td>\n",
              "      <td>3</td>\n",
              "      <td>28</td>\n",
              "      <td>6</td>\n",
              "      <td>0</td>\n",
              "      <td>16</td>\n",
              "      <td>0</td>\n",
              "      <td>0</td>\n",
              "      <td>0</td>\n",
              "      <td>0</td>\n",
              "      <td>416</td>\n",
              "    </tr>\n",
              "    <tr>\n",
              "      <th>74</th>\n",
              "      <td>0</td>\n",
              "      <td>92</td>\n",
              "      <td>0</td>\n",
              "      <td>0</td>\n",
              "      <td>27</td>\n",
              "      <td>100</td>\n",
              "      <td>63</td>\n",
              "      <td>0</td>\n",
              "      <td>0</td>\n",
              "      <td>0</td>\n",
              "      <td>0</td>\n",
              "      <td>572</td>\n",
              "    </tr>\n",
              "    <tr>\n",
              "      <th>75</th>\n",
              "      <td>0</td>\n",
              "      <td>46</td>\n",
              "      <td>0</td>\n",
              "      <td>40</td>\n",
              "      <td>0</td>\n",
              "      <td>6</td>\n",
              "      <td>0</td>\n",
              "      <td>0</td>\n",
              "      <td>0</td>\n",
              "      <td>0</td>\n",
              "      <td>0</td>\n",
              "      <td>397</td>\n",
              "    </tr>\n",
              "    <tr>\n",
              "      <th>76</th>\n",
              "      <td>0</td>\n",
              "      <td>47</td>\n",
              "      <td>16</td>\n",
              "      <td>0</td>\n",
              "      <td>65</td>\n",
              "      <td>0</td>\n",
              "      <td>0</td>\n",
              "      <td>0</td>\n",
              "      <td>0</td>\n",
              "      <td>0</td>\n",
              "      <td>0</td>\n",
              "      <td>437</td>\n",
              "    </tr>\n",
              "  </tbody>\n",
              "</table>\n",
              "<p>77 rows × 12 columns</p>\n",
              "</div>"
            ],
            "text/plain": [
              "    ปตท. E20  เชลล์ E20  ...  ปตท. ค้าปลีก E20  ปตท. น้ำมันและการค้าปลีก E20\n",
              "0       1587       8336  ...              1957                          8695\n",
              "1        250       1365  ...               741                          1868\n",
              "2        102       1558  ...              1135                          2155\n",
              "3         94        752  ...              1714                          2781\n",
              "4         97        670  ...               734                          1933\n",
              "..       ...        ...  ...               ...                           ...\n",
              "72         0        149  ...                 0                           499\n",
              "73         0        241  ...                 0                           416\n",
              "74         0         92  ...                 0                           572\n",
              "75         0         46  ...                 0                           397\n",
              "76         0         47  ...                 0                           437\n",
              "\n",
              "[77 rows x 12 columns]"
            ]
          },
          "metadata": {},
          "execution_count": 26
        }
      ]
    },
    {
      "cell_type": "code",
      "metadata": {
        "id": "7dzEsX0v6ady",
        "colab": {
          "base_uri": "https://localhost:8080/",
          "height": 419
        },
        "outputId": "05dc03b7-1302-4297-c073-36147dbff62c"
      },
      "source": [
        "Y"
      ],
      "execution_count": 27,
      "outputs": [
        {
          "output_type": "execute_result",
          "data": {
            "text/html": [
              "<div>\n",
              "<style scoped>\n",
              "    .dataframe tbody tr th:only-of-type {\n",
              "        vertical-align: middle;\n",
              "    }\n",
              "\n",
              "    .dataframe tbody tr th {\n",
              "        vertical-align: top;\n",
              "    }\n",
              "\n",
              "    .dataframe thead th {\n",
              "        text-align: right;\n",
              "    }\n",
              "</style>\n",
              "<table border=\"1\" class=\"dataframe\">\n",
              "  <thead>\n",
              "    <tr style=\"text-align: right;\">\n",
              "      <th></th>\n",
              "      <th>ปตท. G85</th>\n",
              "      <th>บางจาก G85</th>\n",
              "      <th>ซัสโก้ G85</th>\n",
              "      <th>สยามเฆมี G85</th>\n",
              "      <th>ปตท. ค้าปลีก G85</th>\n",
              "      <th>ปตท. น้ำมันและการค้าปลีก G85</th>\n",
              "    </tr>\n",
              "  </thead>\n",
              "  <tbody>\n",
              "    <tr>\n",
              "      <th>0</th>\n",
              "      <td>328</td>\n",
              "      <td>5469</td>\n",
              "      <td>80</td>\n",
              "      <td>20</td>\n",
              "      <td>80</td>\n",
              "      <td>2581</td>\n",
              "    </tr>\n",
              "    <tr>\n",
              "      <th>1</th>\n",
              "      <td>60</td>\n",
              "      <td>1275</td>\n",
              "      <td>0</td>\n",
              "      <td>0</td>\n",
              "      <td>64</td>\n",
              "      <td>402</td>\n",
              "    </tr>\n",
              "    <tr>\n",
              "      <th>2</th>\n",
              "      <td>22</td>\n",
              "      <td>1602</td>\n",
              "      <td>0</td>\n",
              "      <td>0</td>\n",
              "      <td>0</td>\n",
              "      <td>875</td>\n",
              "    </tr>\n",
              "    <tr>\n",
              "      <th>3</th>\n",
              "      <td>0</td>\n",
              "      <td>844</td>\n",
              "      <td>12</td>\n",
              "      <td>0</td>\n",
              "      <td>0</td>\n",
              "      <td>905</td>\n",
              "    </tr>\n",
              "    <tr>\n",
              "      <th>4</th>\n",
              "      <td>22</td>\n",
              "      <td>679</td>\n",
              "      <td>0</td>\n",
              "      <td>0</td>\n",
              "      <td>18</td>\n",
              "      <td>533</td>\n",
              "    </tr>\n",
              "    <tr>\n",
              "      <th>...</th>\n",
              "      <td>...</td>\n",
              "      <td>...</td>\n",
              "      <td>...</td>\n",
              "      <td>...</td>\n",
              "      <td>...</td>\n",
              "      <td>...</td>\n",
              "    </tr>\n",
              "    <tr>\n",
              "      <th>72</th>\n",
              "      <td>0</td>\n",
              "      <td>28</td>\n",
              "      <td>0</td>\n",
              "      <td>0</td>\n",
              "      <td>0</td>\n",
              "      <td>132</td>\n",
              "    </tr>\n",
              "    <tr>\n",
              "      <th>73</th>\n",
              "      <td>0</td>\n",
              "      <td>0</td>\n",
              "      <td>0</td>\n",
              "      <td>0</td>\n",
              "      <td>0</td>\n",
              "      <td>82</td>\n",
              "    </tr>\n",
              "    <tr>\n",
              "      <th>74</th>\n",
              "      <td>0</td>\n",
              "      <td>0</td>\n",
              "      <td>0</td>\n",
              "      <td>0</td>\n",
              "      <td>0</td>\n",
              "      <td>106</td>\n",
              "    </tr>\n",
              "    <tr>\n",
              "      <th>75</th>\n",
              "      <td>0</td>\n",
              "      <td>0</td>\n",
              "      <td>0</td>\n",
              "      <td>0</td>\n",
              "      <td>0</td>\n",
              "      <td>76</td>\n",
              "    </tr>\n",
              "    <tr>\n",
              "      <th>76</th>\n",
              "      <td>0</td>\n",
              "      <td>4</td>\n",
              "      <td>0</td>\n",
              "      <td>0</td>\n",
              "      <td>0</td>\n",
              "      <td>67</td>\n",
              "    </tr>\n",
              "  </tbody>\n",
              "</table>\n",
              "<p>77 rows × 6 columns</p>\n",
              "</div>"
            ],
            "text/plain": [
              "    ปตท. G85  บางจาก G85  ...  ปตท. ค้าปลีก G85  ปตท. น้ำมันและการค้าปลีก G85\n",
              "0        328        5469  ...                80                          2581\n",
              "1         60        1275  ...                64                           402\n",
              "2         22        1602  ...                 0                           875\n",
              "3          0         844  ...                 0                           905\n",
              "4         22         679  ...                18                           533\n",
              "..       ...         ...  ...               ...                           ...\n",
              "72         0          28  ...                 0                           132\n",
              "73         0           0  ...                 0                            82\n",
              "74         0           0  ...                 0                           106\n",
              "75         0           0  ...                 0                            76\n",
              "76         0           4  ...                 0                            67\n",
              "\n",
              "[77 rows x 6 columns]"
            ]
          },
          "metadata": {},
          "execution_count": 27
        }
      ]
    },
    {
      "cell_type": "code",
      "metadata": {
        "id": "JYyBdOIZ6abO"
      },
      "source": [
        "from sklearn.tree import DecisionTreeClassifier"
      ],
      "execution_count": 28,
      "outputs": []
    },
    {
      "cell_type": "code",
      "metadata": {
        "id": "q6oj3b6-jc9K"
      },
      "source": [
        "mytree = DecisionTreeClassifier() # กำหนดชั้นของ decision tree"
      ],
      "execution_count": 29,
      "outputs": []
    },
    {
      "cell_type": "code",
      "metadata": {
        "id": "akK3RPGMjc6w",
        "colab": {
          "base_uri": "https://localhost:8080/"
        },
        "outputId": "545dfb2d-96bf-4453-d2b5-ac561f8cc3a2"
      },
      "source": [
        "mytree.fit(X,Y) # สร้าง model ขึ้นมา"
      ],
      "execution_count": 30,
      "outputs": [
        {
          "output_type": "execute_result",
          "data": {
            "text/plain": [
              "DecisionTreeClassifier(ccp_alpha=0.0, class_weight=None, criterion='gini',\n",
              "                       max_depth=None, max_features=None, max_leaf_nodes=None,\n",
              "                       min_impurity_decrease=0.0, min_impurity_split=None,\n",
              "                       min_samples_leaf=1, min_samples_split=2,\n",
              "                       min_weight_fraction_leaf=0.0, presort='deprecated',\n",
              "                       random_state=None, splitter='best')"
            ]
          },
          "metadata": {},
          "execution_count": 30
        }
      ]
    },
    {
      "cell_type": "code",
      "metadata": {
        "id": "2kITE4HVjc4X"
      },
      "source": [
        "from sklearn.tree import plot_tree"
      ],
      "execution_count": 31,
      "outputs": []
    },
    {
      "cell_type": "code",
      "metadata": {
        "id": "NDnl_Wgfjc1v",
        "colab": {
          "base_uri": "https://localhost:8080/",
          "height": 280
        },
        "outputId": "89efee2c-ff43-4684-99f4-8ea3ad7d6151"
      },
      "source": [
        "plot_tree(mytree);"
      ],
      "execution_count": 32,
      "outputs": [
        {
          "output_type": "display_data",
          "data": {
            "image/png": "[encoded data removed]",
            "text/plain": [
              "<Figure size 432x288 with 1 Axes>"
            ]
          },
          "metadata": {
            "needs_background": "light"
          }
        }
      ]
    },
    {
      "cell_type": "markdown",
      "metadata": {
        "id": "KWqBWdJH9xn6"
      },
      "source": [
        "\n",
        "Cluster"
      ]
    },
    {
      "cell_type": "code",
      "metadata": {
        "id": "lRkVebQt9w5T",
        "colab": {
          "base_uri": "https://localhost:8080/"
        },
        "outputId": "d801e09e-d0a6-4f23-97ab-a1719fd8da0d"
      },
      "source": [
        "X.shape"
      ],
      "execution_count": 33,
      "outputs": [
        {
          "output_type": "execute_result",
          "data": {
            "text/plain": [
              "(77, 12)"
            ]
          },
          "metadata": {},
          "execution_count": 33
        }
      ]
    },
    {
      "cell_type": "code",
      "metadata": {
        "id": "TjoYf0Oijczm",
        "colab": {
          "base_uri": "https://localhost:8080/"
        },
        "outputId": "928233e0-1cad-40f6-b7ec-2922d323714e"
      },
      "source": [
        "Y.shape"
      ],
      "execution_count": 34,
      "outputs": [
        {
          "output_type": "execute_result",
          "data": {
            "text/plain": [
              "(77, 6)"
            ]
          },
          "metadata": {},
          "execution_count": 34
        }
      ]
    },
    {
      "cell_type": "code",
      "metadata": {
        "id": "LNSDq9pWjcvI",
        "colab": {
          "base_uri": "https://localhost:8080/",
          "height": 419
        },
        "outputId": "3ead2886-ddef-4707-eb59-0f90b3056678"
      },
      "source": [
        "data_1 = table_3[['จังหวัด','ปตท. น้ำมันและการค้าปลีก E20']]\n",
        "data_1"
      ],
      "execution_count": 35,
      "outputs": [
        {
          "output_type": "execute_result",
          "data": {
            "text/html": [
              "<div>\n",
              "<style scoped>\n",
              "    .dataframe tbody tr th:only-of-type {\n",
              "        vertical-align: middle;\n",
              "    }\n",
              "\n",
              "    .dataframe tbody tr th {\n",
              "        vertical-align: top;\n",
              "    }\n",
              "\n",
              "    .dataframe thead th {\n",
              "        text-align: right;\n",
              "    }\n",
              "</style>\n",
              "<table border=\"1\" class=\"dataframe\">\n",
              "  <thead>\n",
              "    <tr style=\"text-align: right;\">\n",
              "      <th></th>\n",
              "      <th>จังหวัด</th>\n",
              "      <th>ปตท. น้ำมันและการค้าปลีก E20</th>\n",
              "    </tr>\n",
              "  </thead>\n",
              "  <tbody>\n",
              "    <tr>\n",
              "      <th>0</th>\n",
              "      <td>กรุงเทพมหานคร</td>\n",
              "      <td>8695</td>\n",
              "    </tr>\n",
              "    <tr>\n",
              "      <th>1</th>\n",
              "      <td>สมุทรปราการ</td>\n",
              "      <td>1868</td>\n",
              "    </tr>\n",
              "    <tr>\n",
              "      <th>2</th>\n",
              "      <td>นนทบุรี</td>\n",
              "      <td>2155</td>\n",
              "    </tr>\n",
              "    <tr>\n",
              "      <th>3</th>\n",
              "      <td>ปทุมธานี</td>\n",
              "      <td>2781</td>\n",
              "    </tr>\n",
              "    <tr>\n",
              "      <th>4</th>\n",
              "      <td>พระนครศรีอยุธยา</td>\n",
              "      <td>1933</td>\n",
              "    </tr>\n",
              "    <tr>\n",
              "      <th>...</th>\n",
              "      <td>...</td>\n",
              "      <td>...</td>\n",
              "    </tr>\n",
              "    <tr>\n",
              "      <th>72</th>\n",
              "      <td>ตรัง</td>\n",
              "      <td>499</td>\n",
              "    </tr>\n",
              "    <tr>\n",
              "      <th>73</th>\n",
              "      <td>พัทลุง</td>\n",
              "      <td>416</td>\n",
              "    </tr>\n",
              "    <tr>\n",
              "      <th>74</th>\n",
              "      <td>ปัตตานี</td>\n",
              "      <td>572</td>\n",
              "    </tr>\n",
              "    <tr>\n",
              "      <th>75</th>\n",
              "      <td>ยะลา</td>\n",
              "      <td>397</td>\n",
              "    </tr>\n",
              "    <tr>\n",
              "      <th>76</th>\n",
              "      <td>นราธิวาส</td>\n",
              "      <td>437</td>\n",
              "    </tr>\n",
              "  </tbody>\n",
              "</table>\n",
              "<p>77 rows × 2 columns</p>\n",
              "</div>"
            ],
            "text/plain": [
              "            จังหวัด  ปตท. น้ำมันและการค้าปลีก E20\n",
              "0     กรุงเทพมหานคร                          8695\n",
              "1       สมุทรปราการ                          1868\n",
              "2           นนทบุรี                          2155\n",
              "3          ปทุมธานี                          2781\n",
              "4   พระนครศรีอยุธยา                          1933\n",
              "..              ...                           ...\n",
              "72             ตรัง                           499\n",
              "73           พัทลุง                           416\n",
              "74          ปัตตานี                           572\n",
              "75             ยะลา                           397\n",
              "76         นราธิวาส                           437\n",
              "\n",
              "[77 rows x 2 columns]"
            ]
          },
          "metadata": {},
          "execution_count": 35
        }
      ]
    },
    {
      "cell_type": "code",
      "metadata": {
        "id": "nIW6_haz-db2",
        "colab": {
          "base_uri": "https://localhost:8080/"
        },
        "outputId": "3b3e61c8-2828-4a0d-84f8-22f972768938"
      },
      "source": [
        "data_1.shape"
      ],
      "execution_count": 36,
      "outputs": [
        {
          "output_type": "execute_result",
          "data": {
            "text/plain": [
              "(77, 2)"
            ]
          },
          "metadata": {},
          "execution_count": 36
        }
      ]
    },
    {
      "cell_type": "code",
      "metadata": {
        "id": "GwxhTUxC-def"
      },
      "source": [
        "test = data_1[['ปตท. น้ำมันและการค้าปลีก E20']]"
      ],
      "execution_count": 37,
      "outputs": []
    },
    {
      "cell_type": "code",
      "metadata": {
        "id": "oVg4oUeh_YL7"
      },
      "source": [
        "\n",
        "from sklearn.datasets import make_blobs"
      ],
      "execution_count": 38,
      "outputs": []
    },
    {
      "cell_type": "code",
      "metadata": {
        "id": "Y4hEx1xO_d_G"
      },
      "source": [
        "from sklearn.cluster import KMeans"
      ],
      "execution_count": 39,
      "outputs": []
    },
    {
      "cell_type": "code",
      "metadata": {
        "id": "4EyO3OaJjcsz"
      },
      "source": [
        "test,y=make_blobs(n_samples=77, centers=5, n_features=2, random_state=6)"
      ],
      "execution_count": 40,
      "outputs": []
    },
    {
      "cell_type": "code",
      "metadata": {
        "id": "UKsp4fORjcqv",
        "colab": {
          "base_uri": "https://localhost:8080/"
        },
        "outputId": "d2253944-871c-49a8-e83d-34dfdd647d90"
      },
      "source": [
        "test.shape"
      ],
      "execution_count": 41,
      "outputs": [
        {
          "output_type": "execute_result",
          "data": {
            "text/plain": [
              "(77, 2)"
            ]
          },
          "metadata": {},
          "execution_count": 41
        }
      ]
    },
    {
      "cell_type": "code",
      "metadata": {
        "id": "wTOLlW_Z_t4m",
        "colab": {
          "base_uri": "https://localhost:8080/",
          "height": 282
        },
        "outputId": "3f6dfdbb-21f4-4a8a-ed17-681fc0e06089"
      },
      "source": [
        "from matplotlib import pyplot as plt #นำเข้า pyplot โดยตั้งชื่อว่า plt นำมาเพื่อพล็อตกราฟ\n",
        "plt.scatter(test[:,0],test[:,1]) #จะแบ่งเป็น 2 กลุ่ม ตาม centers=2"
      ],
      "execution_count": 42,
      "outputs": [
        {
          "output_type": "execute_result",
          "data": {
            "text/plain": [
              "<matplotlib.collections.PathCollection at 0x7f1a25995310>"
            ]
          },
          "metadata": {},
          "execution_count": 42
        },
        {
          "output_type": "display_data",
          "data": {
            "image/png": "[encoded data removed]",
            "text/plain": [
              "<Figure size 432x288 with 1 Axes>"
            ]
          },
          "metadata": {
            "needs_background": "light"
          }
        }
      ]
    },
    {
      "cell_type": "code",
      "metadata": {
        "id": "kBMWPBQa_1v4"
      },
      "source": [
        "from sklearn.cluster import KMeans"
      ],
      "execution_count": 43,
      "outputs": []
    },
    {
      "cell_type": "code",
      "metadata": {
        "id": "R8lhOnMd_3c2"
      },
      "source": [
        "KMclust=KMeans(n_clusters=5)"
      ],
      "execution_count": 44,
      "outputs": []
    },
    {
      "cell_type": "code",
      "metadata": {
        "id": "Jby0udUZ_62U",
        "colab": {
          "base_uri": "https://localhost:8080/"
        },
        "outputId": "ad168f24-4d45-4886-fbb1-fb56f73fb4f9"
      },
      "source": [
        "KMclust.fit(test)"
      ],
      "execution_count": 45,
      "outputs": [
        {
          "output_type": "execute_result",
          "data": {
            "text/plain": [
              "KMeans(algorithm='auto', copy_x=True, init='k-means++', max_iter=300,\n",
              "       n_clusters=5, n_init=10, n_jobs=None, precompute_distances='auto',\n",
              "       random_state=None, tol=0.0001, verbose=0)"
            ]
          },
          "metadata": {},
          "execution_count": 45
        }
      ]
    },
    {
      "cell_type": "code",
      "metadata": {
        "id": "UIn0CTyH__uC"
      },
      "source": [
        "label=KMclust.predict(test)"
      ],
      "execution_count": 46,
      "outputs": []
    },
    {
      "cell_type": "code",
      "metadata": {
        "id": "x4uxXwh4AFTO",
        "colab": {
          "base_uri": "https://localhost:8080/",
          "height": 282
        },
        "outputId": "f43178a5-206e-4487-8590-82deeb4c8cbd"
      },
      "source": [
        "plt.scatter(test[:,0], test[:,1], c=label)"
      ],
      "execution_count": 47,
      "outputs": [
        {
          "output_type": "execute_result",
          "data": {
            "text/plain": [
              "<matplotlib.collections.PathCollection at 0x7f1a201f7850>"
            ]
          },
          "metadata": {},
          "execution_count": 47
        },
        {
          "output_type": "display_data",
          "data": {
            "image/png": "[encoded data removed]",
            "text/plain": [
              "<Figure size 432x288 with 1 Axes>"
            ]
          },
          "metadata": {
            "needs_background": "light"
          }
        }
      ]
    },
    {
      "cell_type": "code",
      "metadata": {
        "id": "LiAkqS6O9H50"
      },
      "source": [
        "from sklearn import datasets\n",
        "\n",
        "digit_data = datasets.load_digits()"
      ],
      "execution_count": 52,
      "outputs": []
    },
    {
      "cell_type": "code",
      "metadata": {
        "id": "AI3aHAQm9H31",
        "outputId": "6d87ffde-a02f-42be-90cc-ae9da442284b",
        "colab": {
          "base_uri": "https://localhost:8080/"
        }
      },
      "source": [
        "X = table_3[['ปตท. E20','เชลล์ E20','เอสโซ่ E20','เชฟรอน(ไทย) E20','บางจาก E20','ซัสโก้ E20','พีทีจี E20','ไทยออยล์ E20','ซัสโก้ ดีลเลอร์ส E20','สยามเฆมี E20','ปตท. ค้าปลีก E20','ปตท. น้ำมันและการค้าปลีก E20']]\n",
        "X.shape"
      ],
      "execution_count": 53,
      "outputs": [
        {
          "output_type": "execute_result",
          "data": {
            "text/plain": [
              "(77, 12)"
            ]
          },
          "metadata": {},
          "execution_count": 53
        }
      ]
    },
    {
      "cell_type": "code",
      "metadata": {
        "id": "7uYLXp3W9LL-",
        "outputId": "d1c56b40-b294-4573-b3dc-145ee470c1b6",
        "colab": {
          "base_uri": "https://localhost:8080/"
        }
      },
      "source": [
        "Y = table_3[['ปตท. G85','บางจาก G85','ซัสโก้ G85','สยามเฆมี G85','ปตท. ค้าปลีก G85','ปตท. น้ำมันและการค้าปลีก G85']]\n",
        "Y.shape"
      ],
      "execution_count": 54,
      "outputs": [
        {
          "output_type": "execute_result",
          "data": {
            "text/plain": [
              "(77, 6)"
            ]
          },
          "metadata": {},
          "execution_count": 54
        }
      ]
    },
    {
      "cell_type": "code",
      "metadata": {
        "id": "lRTbVOmH9LIF"
      },
      "source": [
        "from sklearn.model_selection import train_test_split"
      ],
      "execution_count": 55,
      "outputs": []
    },
    {
      "cell_type": "code",
      "metadata": {
        "id": "IedWwopc9LDx"
      },
      "source": [
        "X_train, X_test, Y_train, Y_test = train_test_split(X, Y, test_size=0.5, random_state=6)"
      ],
      "execution_count": 56,
      "outputs": []
    },
    {
      "cell_type": "code",
      "metadata": {
        "id": "u0Njptjd9LAv",
        "outputId": "57f5a781-5a04-49a3-a7a7-382a49df0230",
        "colab": {
          "base_uri": "https://localhost:8080/"
        }
      },
      "source": [
        "X_train.shape"
      ],
      "execution_count": 57,
      "outputs": [
        {
          "output_type": "execute_result",
          "data": {
            "text/plain": [
              "(38, 12)"
            ]
          },
          "metadata": {},
          "execution_count": 57
        }
      ]
    },
    {
      "cell_type": "code",
      "metadata": {
        "id": "gG0glHKC9H1Y"
      },
      "source": [
        "X_train2, X_val, Y_train2, Y_val = train_test_split(X_train, Y_train, test_size=0.3, random_state=6)"
      ],
      "execution_count": 58,
      "outputs": []
    },
    {
      "cell_type": "code",
      "metadata": {
        "id": "RaMIaSj69HzF",
        "outputId": "e1047e5b-9508-4929-db8e-8b981123cf8d",
        "colab": {
          "base_uri": "https://localhost:8080/"
        }
      },
      "source": [
        "X_train2.shape"
      ],
      "execution_count": 59,
      "outputs": [
        {
          "output_type": "execute_result",
          "data": {
            "text/plain": [
              "(26, 12)"
            ]
          },
          "metadata": {},
          "execution_count": 59
        }
      ]
    },
    {
      "cell_type": "code",
      "metadata": {
        "id": "NDTOU85K93C9"
      },
      "source": [
        "from sklearn.tree import DecisionTreeClassifier"
      ],
      "execution_count": 66,
      "outputs": []
    },
    {
      "cell_type": "code",
      "metadata": {
        "id": "C7YlUf7t93AL"
      },
      "source": [
        "mytree = DecisionTreeClassifier()"
      ],
      "execution_count": 67,
      "outputs": []
    },
    {
      "cell_type": "code",
      "metadata": {
        "id": "UopAYY7I9295",
        "outputId": "f98e367c-7acf-409f-aeda-654121904e22",
        "colab": {
          "base_uri": "https://localhost:8080/"
        }
      },
      "source": [
        "mytree.fit(X_train2,Y_train2)"
      ],
      "execution_count": 68,
      "outputs": [
        {
          "output_type": "execute_result",
          "data": {
            "text/plain": [
              "DecisionTreeClassifier(ccp_alpha=0.0, class_weight=None, criterion='gini',\n",
              "                       max_depth=None, max_features=None, max_leaf_nodes=None,\n",
              "                       min_impurity_decrease=0.0, min_impurity_split=None,\n",
              "                       min_samples_leaf=1, min_samples_split=2,\n",
              "                       min_weight_fraction_leaf=0.0, presort='deprecated',\n",
              "                       random_state=None, splitter='best')"
            ]
          },
          "metadata": {},
          "execution_count": 68
        }
      ]
    },
    {
      "cell_type": "code",
      "metadata": {
        "id": "JMZtmepp927V"
      },
      "source": [
        "from sklearn.metrics import accuracy_score"
      ],
      "execution_count": 69,
      "outputs": []
    },
    {
      "cell_type": "code",
      "metadata": {
        "id": "yuTLFY839Hw5"
      },
      "source": [
        "tree_result = mytree.predict(X_val)"
      ],
      "execution_count": 70,
      "outputs": []
    },
    {
      "cell_type": "code",
      "metadata": {
        "id": "6E14hBdO-LXv",
        "outputId": "9a1e7d23-a075-444a-9c9c-12e6d740b567",
        "colab": {
          "base_uri": "https://localhost:8080/",
          "height": 306
        }
      },
      "source": [
        "accuracy_score(Y_val, tree_result )"
      ],
      "execution_count": 71,
      "outputs": [
        {
          "output_type": "error",
          "ename": "ValueError",
          "evalue": "ignored",
          "traceback": [
            "\u001b[0;31m---------------------------------------------------------------------------\u001b[0m",
            "\u001b[0;31mValueError\u001b[0m                                Traceback (most recent call last)",
            "\u001b[0;32m<ipython-input-71-33d0e128cb48>\u001b[0m in \u001b[0;36m<module>\u001b[0;34m()\u001b[0m\n\u001b[0;32m----> 1\u001b[0;31m \u001b[0maccuracy_score\u001b[0m\u001b[0;34m(\u001b[0m\u001b[0mY_val\u001b[0m\u001b[0;34m,\u001b[0m \u001b[0mtree_result\u001b[0m \u001b[0;34m)\u001b[0m\u001b[0;34m\u001b[0m\u001b[0;34m\u001b[0m\u001b[0m\n\u001b[0m",
            "\u001b[0;32m/usr/local/lib/python3.7/dist-packages/sklearn/metrics/_classification.py\u001b[0m in \u001b[0;36maccuracy_score\u001b[0;34m(y_true, y_pred, normalize, sample_weight)\u001b[0m\n\u001b[1;32m    183\u001b[0m \u001b[0;34m\u001b[0m\u001b[0m\n\u001b[1;32m    184\u001b[0m     \u001b[0;31m# Compute accuracy for each possible representation\u001b[0m\u001b[0;34m\u001b[0m\u001b[0;34m\u001b[0m\u001b[0;34m\u001b[0m\u001b[0m\n\u001b[0;32m--> 185\u001b[0;31m     \u001b[0my_type\u001b[0m\u001b[0;34m,\u001b[0m \u001b[0my_true\u001b[0m\u001b[0;34m,\u001b[0m \u001b[0my_pred\u001b[0m \u001b[0;34m=\u001b[0m \u001b[0m_check_targets\u001b[0m\u001b[0;34m(\u001b[0m\u001b[0my_true\u001b[0m\u001b[0;34m,\u001b[0m \u001b[0my_pred\u001b[0m\u001b[0;34m)\u001b[0m\u001b[0;34m\u001b[0m\u001b[0;34m\u001b[0m\u001b[0m\n\u001b[0m\u001b[1;32m    186\u001b[0m     \u001b[0mcheck_consistent_length\u001b[0m\u001b[0;34m(\u001b[0m\u001b[0my_true\u001b[0m\u001b[0;34m,\u001b[0m \u001b[0my_pred\u001b[0m\u001b[0;34m,\u001b[0m \u001b[0msample_weight\u001b[0m\u001b[0;34m)\u001b[0m\u001b[0;34m\u001b[0m\u001b[0;34m\u001b[0m\u001b[0m\n\u001b[1;32m    187\u001b[0m     \u001b[0;32mif\u001b[0m \u001b[0my_type\u001b[0m\u001b[0;34m.\u001b[0m\u001b[0mstartswith\u001b[0m\u001b[0;34m(\u001b[0m\u001b[0;34m'multilabel'\u001b[0m\u001b[0;34m)\u001b[0m\u001b[0;34m:\u001b[0m\u001b[0;34m\u001b[0m\u001b[0;34m\u001b[0m\u001b[0m\n",
            "\u001b[0;32m/usr/local/lib/python3.7/dist-packages/sklearn/metrics/_classification.py\u001b[0m in \u001b[0;36m_check_targets\u001b[0;34m(y_true, y_pred)\u001b[0m\n\u001b[1;32m     95\u001b[0m     \u001b[0;31m# No metrics support \"multiclass-multioutput\" format\u001b[0m\u001b[0;34m\u001b[0m\u001b[0;34m\u001b[0m\u001b[0;34m\u001b[0m\u001b[0m\n\u001b[1;32m     96\u001b[0m     \u001b[0;32mif\u001b[0m \u001b[0;34m(\u001b[0m\u001b[0my_type\u001b[0m \u001b[0;32mnot\u001b[0m \u001b[0;32min\u001b[0m \u001b[0;34m[\u001b[0m\u001b[0;34m\"binary\"\u001b[0m\u001b[0;34m,\u001b[0m \u001b[0;34m\"multiclass\"\u001b[0m\u001b[0;34m,\u001b[0m \u001b[0;34m\"multilabel-indicator\"\u001b[0m\u001b[0;34m]\u001b[0m\u001b[0;34m)\u001b[0m\u001b[0;34m:\u001b[0m\u001b[0;34m\u001b[0m\u001b[0;34m\u001b[0m\u001b[0m\n\u001b[0;32m---> 97\u001b[0;31m         \u001b[0;32mraise\u001b[0m \u001b[0mValueError\u001b[0m\u001b[0;34m(\u001b[0m\u001b[0;34m\"{0} is not supported\"\u001b[0m\u001b[0;34m.\u001b[0m\u001b[0mformat\u001b[0m\u001b[0;34m(\u001b[0m\u001b[0my_type\u001b[0m\u001b[0;34m)\u001b[0m\u001b[0;34m)\u001b[0m\u001b[0;34m\u001b[0m\u001b[0;34m\u001b[0m\u001b[0m\n\u001b[0m\u001b[1;32m     98\u001b[0m \u001b[0;34m\u001b[0m\u001b[0m\n\u001b[1;32m     99\u001b[0m     \u001b[0;32mif\u001b[0m \u001b[0my_type\u001b[0m \u001b[0;32min\u001b[0m \u001b[0;34m[\u001b[0m\u001b[0;34m\"binary\"\u001b[0m\u001b[0;34m,\u001b[0m \u001b[0;34m\"multiclass\"\u001b[0m\u001b[0;34m]\u001b[0m\u001b[0;34m:\u001b[0m\u001b[0;34m\u001b[0m\u001b[0;34m\u001b[0m\u001b[0m\n",
            "\u001b[0;31mValueError\u001b[0m: multiclass-multioutput is not supported"
          ]
        }
      ]
    },
    {
      "cell_type": "code",
      "metadata": {
        "id": "kiAQGwng-LV1"
      },
      "source": [
        ""
      ],
      "execution_count": null,
      "outputs": []
    },
    {
      "cell_type": "code",
      "metadata": {
        "id": "c3KzjIN7-LT9"
      },
      "source": [
        ""
      ],
      "execution_count": null,
      "outputs": []
    },
    {
      "cell_type": "code",
      "metadata": {
        "id": "wXqc-6ZH-LRk"
      },
      "source": [
        ""
      ],
      "execution_count": null,
      "outputs": []
    },
    {
      "cell_type": "code",
      "metadata": {
        "id": "E3g-4Djs-LPN"
      },
      "source": [
        ""
      ],
      "execution_count": null,
      "outputs": []
    },
    {
      "cell_type": "code",
      "metadata": {
        "id": "mBg9CAvj9Hr2"
      },
      "source": [
        ""
      ],
      "execution_count": null,
      "outputs": []
    }
  ]
}