{
  "nbformat": 4,
  "nbformat_minor": 0,
  "metadata": {
    "colab": {
      "name": "Untitled8.ipynb",
      "provenance": [],
      "authorship_tag": "ABX9TyP5TJDYzATQ0ZrTbTDnTOaE",
      "include_colab_link": true
    },
    "kernelspec": {
      "name": "python3",
      "display_name": "Python 3"
    },
    "language_info": {
      "name": "python"
    }
  },
  "cells": [
    {
      "cell_type": "markdown",
      "metadata": {
        "id": "view-in-github",
        "colab_type": "text"
      },
      "source": [
        "<a href=\"https://colab.research.google.com/github/chalarm1405/DWDM21_/blob/main/Distance_Numpy.ipynb\" target=\"_parent\"><img src=\"https://colab.research.google.com/assets/colab-badge.svg\" alt=\"Open In Colab\"/></a>"
      ]
    },
    {
      "cell_type": "code",
      "metadata": {
        "id": "_DUlfHztcVUk"
      },
      "source": [
        "import numpy as np # เป็น package สำหรับทำงานกับข้อมูลที่เป็นตัวเลข ที่อยู่ในรูปของ Matrix"
      ],
      "execution_count": 1,
      "outputs": []
    },
    {
      "cell_type": "markdown",
      "metadata": {
        "id": "YqWsXiMqccjZ"
      },
      "source": [
        "#Numpy Array\n",
        "\n",
        "สร้าง Numpy Array (Matrix)"
      ]
    },
    {
      "cell_type": "code",
      "metadata": {
        "id": "Cu_QyLT6cVSl"
      },
      "source": [
        "np_a = np.array([[1,2,3],[4,5,6]]) # สร้าง numpy array ที่มี 2 แถว 3 หลัก"
      ],
      "execution_count": 2,
      "outputs": []
    },
    {
      "cell_type": "code",
      "metadata": {
        "colab": {
          "base_uri": "https://localhost:8080/"
        },
        "id": "kbjaDp8RcVQl",
        "outputId": "292ac563-d5e1-4224-d79a-842eb1b1515a"
      },
      "source": [
        "np_a"
      ],
      "execution_count": 3,
      "outputs": [
        {
          "output_type": "execute_result",
          "data": {
            "text/plain": [
              "array([[1, 2, 3],\n",
              "       [4, 5, 6]])"
            ]
          },
          "metadata": {},
          "execution_count": 3
        }
      ]
    },
    {
      "cell_type": "code",
      "metadata": {
        "colab": {
          "base_uri": "https://localhost:8080/"
        },
        "id": "J1T3RjU1cVOf",
        "outputId": "b4242597-f276-4a66-9048-3d2f15a75a64"
      },
      "source": [
        "np_a.shape # ตรวจสอบขนาดของ Matrix"
      ],
      "execution_count": 4,
      "outputs": [
        {
          "output_type": "execute_result",
          "data": {
            "text/plain": [
              "(2, 3)"
            ]
          },
          "metadata": {},
          "execution_count": 4
        }
      ]
    },
    {
      "cell_type": "code",
      "metadata": {
        "colab": {
          "base_uri": "https://localhost:8080/"
        },
        "id": "HL7zZkhEcVMh",
        "outputId": "b32152c2-53cb-4fc4-c5d2-3bcff353fa09"
      },
      "source": [
        "np_b = np.array([[1,4],[2,5],[3,6]]) # สร้าง numpy array ที่มี 3 แถว 2 หลัก\n",
        "np_b"
      ],
      "execution_count": 5,
      "outputs": [
        {
          "output_type": "execute_result",
          "data": {
            "text/plain": [
              "array([[1, 4],\n",
              "       [2, 5],\n",
              "       [3, 6]])"
            ]
          },
          "metadata": {},
          "execution_count": 5
        }
      ]
    },
    {
      "cell_type": "code",
      "metadata": {
        "colab": {
          "base_uri": "https://localhost:8080/"
        },
        "id": "8VX_T8ClcVKg",
        "outputId": "48583ae2-a452-4d4b-d52c-bf2328b0ed78"
      },
      "source": [
        "np_a.T  # Transpose - สลับแถวเป็นหลัก หลักเป็นแถว"
      ],
      "execution_count": 6,
      "outputs": [
        {
          "output_type": "execute_result",
          "data": {
            "text/plain": [
              "array([[1, 4],\n",
              "       [2, 5],\n",
              "       [3, 6]])"
            ]
          },
          "metadata": {},
          "execution_count": 6
        }
      ]
    },
    {
      "cell_type": "markdown",
      "metadata": {
        "id": "3Hlbj9xjclEr"
      },
      "source": [
        "#สร้าง matrix เริ่มต้น (zeros, ones)"
      ]
    },
    {
      "cell_type": "code",
      "metadata": {
        "colab": {
          "base_uri": "https://localhost:8080/"
        },
        "id": "IMwiy0WpcVGL",
        "outputId": "0c53fc6c-7a5f-4c89-b00e-165ea531435b"
      },
      "source": [
        "np_z = np.zeros((4,5))\n",
        "np_z"
      ],
      "execution_count": 7,
      "outputs": [
        {
          "output_type": "execute_result",
          "data": {
            "text/plain": [
              "array([[0., 0., 0., 0., 0.],\n",
              "       [0., 0., 0., 0., 0.],\n",
              "       [0., 0., 0., 0., 0.],\n",
              "       [0., 0., 0., 0., 0.]])"
            ]
          },
          "metadata": {},
          "execution_count": 7
        }
      ]
    },
    {
      "cell_type": "code",
      "metadata": {
        "colab": {
          "base_uri": "https://localhost:8080/"
        },
        "id": "7SFtDdqpcVEF",
        "outputId": "2ff1e02b-5090-4583-be7a-872745e7b490"
      },
      "source": [
        "np_o = np.ones((5,6))\n",
        "np_o"
      ],
      "execution_count": 8,
      "outputs": [
        {
          "output_type": "execute_result",
          "data": {
            "text/plain": [
              "array([[1., 1., 1., 1., 1., 1.],\n",
              "       [1., 1., 1., 1., 1., 1.],\n",
              "       [1., 1., 1., 1., 1., 1.],\n",
              "       [1., 1., 1., 1., 1., 1.],\n",
              "       [1., 1., 1., 1., 1., 1.]])"
            ]
          },
          "metadata": {},
          "execution_count": 8
        }
      ]
    },
    {
      "cell_type": "code",
      "metadata": {
        "colab": {
          "base_uri": "https://localhost:8080/"
        },
        "id": "vOtgmQQjcUrZ",
        "outputId": "1e4101b0-a7a9-4f75-e3db-7aec4c204d0f"
      },
      "source": [
        "np_200 = 200*np.ones((4,7))\n",
        "np_200"
      ],
      "execution_count": 9,
      "outputs": [
        {
          "output_type": "execute_result",
          "data": {
            "text/plain": [
              "array([[200., 200., 200., 200., 200., 200., 200.],\n",
              "       [200., 200., 200., 200., 200., 200., 200.],\n",
              "       [200., 200., 200., 200., 200., 200., 200.],\n",
              "       [200., 200., 200., 200., 200., 200., 200.]])"
            ]
          },
          "metadata": {},
          "execution_count": 9
        }
      ]
    },
    {
      "cell_type": "markdown",
      "metadata": {
        "id": "WepqEToCcq3W"
      },
      "source": [
        "#สร้าง matrix random"
      ]
    },
    {
      "cell_type": "code",
      "metadata": {
        "colab": {
          "base_uri": "https://localhost:8080/"
        },
        "id": "bfUWypzBcpw8",
        "outputId": "9c49e618-baf8-4cdd-b3bc-7764e044c78c"
      },
      "source": [
        "np.random.randn(5,5) # random เลขมาจาก normal distribution ที่มี mu = 0 std = 1"
      ],
      "execution_count": 10,
      "outputs": [
        {
          "output_type": "execute_result",
          "data": {
            "text/plain": [
              "array([[ 1.14573688, -0.80551336,  0.24981168, -0.0212004 ,  1.62314006],\n",
              "       [ 0.52498109, -1.12140752,  0.28060602,  0.21118464, -1.36692291],\n",
              "       [ 2.0522981 ,  0.38352934,  0.68017467, -0.07900836,  0.5238377 ],\n",
              "       [-3.01007309, -0.64068882, -2.39043318,  0.89926326,  0.72296566],\n",
              "       [ 0.2080521 ,  0.42184923,  0.44355965,  1.80767918, -0.41561136]])"
            ]
          },
          "metadata": {},
          "execution_count": 10
        }
      ]
    },
    {
      "cell_type": "code",
      "metadata": {
        "colab": {
          "base_uri": "https://localhost:8080/"
        },
        "id": "0pID1F2ucpu_",
        "outputId": "734bcbcc-7a28-4bf2-deee-72b51cd8b8c2"
      },
      "source": [
        "2+(5*np.random.randn(3,3)) # random เลขมาจาก normal distribution ที่มี mu = 2 std = 5"
      ],
      "execution_count": 11,
      "outputs": [
        {
          "output_type": "execute_result",
          "data": {
            "text/plain": [
              "array([[ 5.83335422, -7.2373307 , -0.98315339],\n",
              "       [ 1.74149813,  7.42639677,  2.9002638 ],\n",
              "       [ 2.78640929,  2.88999187, -6.62467455]])"
            ]
          },
          "metadata": {},
          "execution_count": 11
        }
      ]
    },
    {
      "cell_type": "code",
      "metadata": {
        "colab": {
          "base_uri": "https://localhost:8080/"
        },
        "id": "zvaad5pkcpsy",
        "outputId": "b4e4e7b1-6c9b-4577-8798-50ac45d0b5d5"
      },
      "source": [
        "np.random.randint(5,11,(4,5)) # random เลขจำนวนเต็มระหว่าง 5 ถึง 11 [5,11) ขนาด (4x5)"
      ],
      "execution_count": 12,
      "outputs": [
        {
          "output_type": "execute_result",
          "data": {
            "text/plain": [
              "array([[ 5,  8,  7,  9, 10],\n",
              "       [10,  6,  7,  7, 10],\n",
              "       [ 6,  7,  9,  9,  7],\n",
              "       [10, 10,  5,  7,  8]])"
            ]
          },
          "metadata": {},
          "execution_count": 12
        }
      ]
    },
    {
      "cell_type": "code",
      "metadata": {
        "colab": {
          "base_uri": "https://localhost:8080/"
        },
        "id": "dJt4NbCTcpqy",
        "outputId": "37b850cd-0846-4d8d-991b-4b36e98cec98"
      },
      "source": [
        "np_a"
      ],
      "execution_count": 13,
      "outputs": [
        {
          "output_type": "execute_result",
          "data": {
            "text/plain": [
              "array([[1, 2, 3],\n",
              "       [4, 5, 6]])"
            ]
          },
          "metadata": {},
          "execution_count": 13
        }
      ]
    },
    {
      "cell_type": "code",
      "metadata": {
        "colab": {
          "base_uri": "https://localhost:8080/"
        },
        "id": "09uH-371cpo3",
        "outputId": "cce5c994-33de-492a-9dac-d81f92db8fa6"
      },
      "source": [
        "np_a.T # Transpose"
      ],
      "execution_count": 14,
      "outputs": [
        {
          "output_type": "execute_result",
          "data": {
            "text/plain": [
              "array([[1, 4],\n",
              "       [2, 5],\n",
              "       [3, 6]])"
            ]
          },
          "metadata": {},
          "execution_count": 14
        }
      ]
    },
    {
      "cell_type": "code",
      "metadata": {
        "colab": {
          "base_uri": "https://localhost:8080/"
        },
        "id": "aD9hth_Pcpmg",
        "outputId": "27ede75f-92ed-40fa-999d-3e87e27ba64a"
      },
      "source": [
        "1 + np_a # add scalar to matrix จะบวกไปทุกๆตัวใน matrix"
      ],
      "execution_count": 15,
      "outputs": [
        {
          "output_type": "execute_result",
          "data": {
            "text/plain": [
              "array([[2, 3, 4],\n",
              "       [5, 6, 7]])"
            ]
          },
          "metadata": {},
          "execution_count": 15
        }
      ]
    },
    {
      "cell_type": "code",
      "metadata": {
        "colab": {
          "base_uri": "https://localhost:8080/"
        },
        "id": "euFf3lo1czLB",
        "outputId": "1f754603-7fcd-43fe-e8e3-979d89adb62d"
      },
      "source": [
        "2*np_a # multiply scalar to matrix จะคูณไปทุกๆตัวของ matrix"
      ],
      "execution_count": 16,
      "outputs": [
        {
          "output_type": "execute_result",
          "data": {
            "text/plain": [
              "array([[ 2,  4,  6],\n",
              "       [ 8, 10, 12]])"
            ]
          },
          "metadata": {},
          "execution_count": 16
        }
      ]
    },
    {
      "cell_type": "code",
      "metadata": {
        "colab": {
          "base_uri": "https://localhost:8080/"
        },
        "id": "PTvrKu5ZczI_",
        "outputId": "76cfca1c-fd7d-4edf-8c96-91bf2424c76a"
      },
      "source": [
        "np_c = np.array([[6,5,4],[3,2,1]])\n",
        "np_c"
      ],
      "execution_count": 17,
      "outputs": [
        {
          "output_type": "execute_result",
          "data": {
            "text/plain": [
              "array([[6, 5, 4],\n",
              "       [3, 2, 1]])"
            ]
          },
          "metadata": {},
          "execution_count": 17
        }
      ]
    },
    {
      "cell_type": "code",
      "metadata": {
        "colab": {
          "base_uri": "https://localhost:8080/"
        },
        "id": "YlLL22XQczHB",
        "outputId": "31eb7a03-5640-4d65-acec-651f75fd2d3a"
      },
      "source": [
        "np_a + np_c # adding matrix to matrix"
      ],
      "execution_count": 18,
      "outputs": [
        {
          "output_type": "execute_result",
          "data": {
            "text/plain": [
              "array([[7, 7, 7],\n",
              "       [7, 7, 7]])"
            ]
          },
          "metadata": {},
          "execution_count": 18
        }
      ]
    },
    {
      "cell_type": "code",
      "metadata": {
        "colab": {
          "base_uri": "https://localhost:8080/"
        },
        "id": "PgMh4nCeczFA",
        "outputId": "f85414e1-fc54-4af8-a1dc-a7ca6c23c7ad"
      },
      "source": [
        "np_a.shape"
      ],
      "execution_count": 19,
      "outputs": [
        {
          "output_type": "execute_result",
          "data": {
            "text/plain": [
              "(2, 3)"
            ]
          },
          "metadata": {},
          "execution_count": 19
        }
      ]
    },
    {
      "cell_type": "code",
      "metadata": {
        "colab": {
          "base_uri": "https://localhost:8080/"
        },
        "id": "pJJERiF4czCx",
        "outputId": "1edccfd1-f296-4886-9c57-97866aa22ffe"
      },
      "source": [
        "np_c.shape"
      ],
      "execution_count": 20,
      "outputs": [
        {
          "output_type": "execute_result",
          "data": {
            "text/plain": [
              "(2, 3)"
            ]
          },
          "metadata": {},
          "execution_count": 20
        }
      ]
    },
    {
      "cell_type": "code",
      "metadata": {
        "colab": {
          "base_uri": "https://localhost:8080/"
        },
        "id": "QUfciLpRcpkg",
        "outputId": "6b6db8ea-4908-4213-b495-de03bafb11da"
      },
      "source": [
        "np_c.T.shape"
      ],
      "execution_count": 21,
      "outputs": [
        {
          "output_type": "execute_result",
          "data": {
            "text/plain": [
              "(3, 2)"
            ]
          },
          "metadata": {},
          "execution_count": 21
        }
      ]
    },
    {
      "cell_type": "code",
      "metadata": {
        "colab": {
          "base_uri": "https://localhost:8080/"
        },
        "id": "8CcT2sbldAGZ",
        "outputId": "3b26146d-5d3d-40dc-9593-c1fe43d5902b"
      },
      "source": [
        "np.dot(np_a,np_c.T) # multipling matrix to matrix (a,b) x (b,c) = (a,c)"
      ],
      "execution_count": 22,
      "outputs": [
        {
          "output_type": "execute_result",
          "data": {
            "text/plain": [
              "array([[28, 10],\n",
              "       [73, 28]])"
            ]
          },
          "metadata": {},
          "execution_count": 22
        }
      ]
    },
    {
      "cell_type": "markdown",
      "metadata": {
        "id": "aKIFarSVdMHe"
      },
      "source": [
        "#Indexing & Slicing ( Index - ชี้, Slice - ตัด )"
      ]
    },
    {
      "cell_type": "code",
      "metadata": {
        "colab": {
          "base_uri": "https://localhost:8080/"
        },
        "id": "rwKXgp3GdADi",
        "outputId": "ea5eb09b-b1d1-451e-d750-dc0eaaa375ca"
      },
      "source": [
        "np_a"
      ],
      "execution_count": 23,
      "outputs": [
        {
          "output_type": "execute_result",
          "data": {
            "text/plain": [
              "array([[1, 2, 3],\n",
              "       [4, 5, 6]])"
            ]
          },
          "metadata": {},
          "execution_count": 23
        }
      ]
    },
    {
      "cell_type": "code",
      "metadata": {
        "colab": {
          "base_uri": "https://localhost:8080/"
        },
        "id": "o90Aryj6dABb",
        "outputId": "a902d7a1-9bca-48e5-e84d-2d708db1e299"
      },
      "source": [
        "np_a[1,1] # เริ่มนับตั้งแต่แถวที่ 0 หลักที่ 0"
      ],
      "execution_count": 24,
      "outputs": [
        {
          "output_type": "execute_result",
          "data": {
            "text/plain": [
              "5"
            ]
          },
          "metadata": {},
          "execution_count": 24
        }
      ]
    },
    {
      "cell_type": "code",
      "metadata": {
        "colab": {
          "base_uri": "https://localhost:8080/"
        },
        "id": "ZSEKBnSHc__i",
        "outputId": "a28ca361-23d9-4ac8-ade4-13e3c0830b86"
      },
      "source": [
        "np_a[:2,:2]"
      ],
      "execution_count": 25,
      "outputs": [
        {
          "output_type": "execute_result",
          "data": {
            "text/plain": [
              "array([[1, 2],\n",
              "       [4, 5]])"
            ]
          },
          "metadata": {},
          "execution_count": 25
        }
      ]
    },
    {
      "cell_type": "markdown",
      "metadata": {
        "id": "WCuyTASIdeTk"
      },
      "source": [
        "#QUIZE"
      ]
    },
    {
      "cell_type": "code",
      "metadata": {
        "colab": {
          "base_uri": "https://localhost:8080/"
        },
        "id": "1OcFjItihn8X",
        "outputId": "1e4d654a-be34-4392-ca82-1820fa110e95"
      },
      "source": [
        "# np.min(np_a,axis=1)\n",
        "min_all = np.zeros(np_a.shape[0])\n",
        "\n",
        "for col in range(np_a.shape[1]):\n",
        "    for row in range(np_a.shape[0]):\n",
        "        min_all[row] = min(np_a[row])\n",
        "print(min_all)"
      ],
      "execution_count": 48,
      "outputs": [
        {
          "output_type": "stream",
          "text": [
            "[1. 4.]\n"
          ],
          "name": "stdout"
        }
      ]
    },
    {
      "cell_type": "code",
      "metadata": {
        "id": "WzSfI-umc_7U"
      },
      "source": [
        ""
      ],
      "execution_count": 25,
      "outputs": []
    },
    {
      "cell_type": "code",
      "metadata": {
        "id": "eZF8U3AXc_5T"
      },
      "source": [
        ""
      ],
      "execution_count": 25,
      "outputs": []
    }
  ]
}