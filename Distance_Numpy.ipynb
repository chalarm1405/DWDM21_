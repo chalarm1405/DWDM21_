{
  "nbformat": 4,
  "nbformat_minor": 0,
  "metadata": {
    "colab": {
      "name": "Untitled8.ipynb",
      "provenance": [],
      "authorship_tag": "ABX9TyNY2Jt1IGq99TcIsPmHbGS/",
      "include_colab_link": true
    },
    "kernelspec": {
      "name": "python3",
      "display_name": "Python 3"
    },
    "language_info": {
      "name": "python"
    }
  },
  "cells": [
    {
      "cell_type": "markdown",
      "metadata": {
        "id": "view-in-github",
        "colab_type": "text"
      },
      "source": [
        "<a href=\"https://colab.research.google.com/github/chalarm1405/DWDM21_/blob/main/Distance_Numpy.ipynb\" target=\"_parent\"><img src=\"https://colab.research.google.com/assets/colab-badge.svg\" alt=\"Open In Colab\"/></a>"
      ]
    },
    {
      "cell_type": "code",
      "metadata": {
        "id": "_DUlfHztcVUk"
      },
      "source": [
        "import numpy as np # เป็น package สำหรับทำงานกับข้อมูลที่เป็นตัวเลข ที่อยู่ในรูปของ Matrix"
      ],
      "execution_count": 61,
      "outputs": []
    },
    {
      "cell_type": "markdown",
      "metadata": {
        "id": "YqWsXiMqccjZ"
      },
      "source": [
        "#Numpy Array\n",
        "\n",
        "สร้าง Numpy Array (Matrix)"
      ]
    },
    {
      "cell_type": "code",
      "metadata": {
        "id": "Cu_QyLT6cVSl"
      },
      "source": [
        "np_a = np.array([[1,2,3],[4,5,6]]) # สร้าง numpy array ที่มี 2 แถว 3 หลัก"
      ],
      "execution_count": 62,
      "outputs": []
    },
    {
      "cell_type": "code",
      "metadata": {
        "colab": {
          "base_uri": "https://localhost:8080/"
        },
        "id": "kbjaDp8RcVQl",
        "outputId": "742b1b5a-f788-403e-ba4d-b44de9da61e8"
      },
      "source": [
        "np_a"
      ],
      "execution_count": 63,
      "outputs": [
        {
          "output_type": "execute_result",
          "data": {
            "text/plain": [
              "array([[1, 2, 3],\n",
              "       [4, 5, 6]])"
            ]
          },
          "metadata": {},
          "execution_count": 63
        }
      ]
    },
    {
      "cell_type": "code",
      "metadata": {
        "colab": {
          "base_uri": "https://localhost:8080/"
        },
        "id": "J1T3RjU1cVOf",
        "outputId": "d32cd3f7-4d0f-41d6-a74e-4db185be95c1"
      },
      "source": [
        "np_a.shape # ตรวจสอบขนาดของ Matrix"
      ],
      "execution_count": 64,
      "outputs": [
        {
          "output_type": "execute_result",
          "data": {
            "text/plain": [
              "(2, 3)"
            ]
          },
          "metadata": {},
          "execution_count": 64
        }
      ]
    },
    {
      "cell_type": "code",
      "metadata": {
        "colab": {
          "base_uri": "https://localhost:8080/"
        },
        "id": "HL7zZkhEcVMh",
        "outputId": "f9d2ecd9-16db-4396-9f8a-bec51bf8f705"
      },
      "source": [
        "np_b = np.array([[1,4],[2,5],[3,6]]) # สร้าง numpy array ที่มี 3 แถว 2 หลัก\n",
        "np_b"
      ],
      "execution_count": 65,
      "outputs": [
        {
          "output_type": "execute_result",
          "data": {
            "text/plain": [
              "array([[1, 4],\n",
              "       [2, 5],\n",
              "       [3, 6]])"
            ]
          },
          "metadata": {},
          "execution_count": 65
        }
      ]
    },
    {
      "cell_type": "code",
      "metadata": {
        "colab": {
          "base_uri": "https://localhost:8080/"
        },
        "id": "8VX_T8ClcVKg",
        "outputId": "786e7994-088c-4d17-9a5b-4a6f087aa86d"
      },
      "source": [
        "np_a.T  # Transpose - สลับแถวเป็นหลัก หลักเป็นแถว"
      ],
      "execution_count": 66,
      "outputs": [
        {
          "output_type": "execute_result",
          "data": {
            "text/plain": [
              "array([[1, 4],\n",
              "       [2, 5],\n",
              "       [3, 6]])"
            ]
          },
          "metadata": {},
          "execution_count": 66
        }
      ]
    },
    {
      "cell_type": "markdown",
      "metadata": {
        "id": "3Hlbj9xjclEr"
      },
      "source": [
        "#สร้าง matrix เริ่มต้น (zeros, ones)"
      ]
    },
    {
      "cell_type": "code",
      "metadata": {
        "colab": {
          "base_uri": "https://localhost:8080/"
        },
        "id": "IMwiy0WpcVGL",
        "outputId": "eff84ac3-ad53-4930-9c60-e0a687fdbead"
      },
      "source": [
        "np_z = np.zeros((4,5))\n",
        "np_z"
      ],
      "execution_count": 67,
      "outputs": [
        {
          "output_type": "execute_result",
          "data": {
            "text/plain": [
              "array([[0., 0., 0., 0., 0.],\n",
              "       [0., 0., 0., 0., 0.],\n",
              "       [0., 0., 0., 0., 0.],\n",
              "       [0., 0., 0., 0., 0.]])"
            ]
          },
          "metadata": {},
          "execution_count": 67
        }
      ]
    },
    {
      "cell_type": "code",
      "metadata": {
        "colab": {
          "base_uri": "https://localhost:8080/"
        },
        "id": "7SFtDdqpcVEF",
        "outputId": "f73f0ff2-ef8c-4ab6-ebe9-dec27d3533ce"
      },
      "source": [
        "np_o = np.ones((5,6))\n",
        "np_o"
      ],
      "execution_count": 68,
      "outputs": [
        {
          "output_type": "execute_result",
          "data": {
            "text/plain": [
              "array([[1., 1., 1., 1., 1., 1.],\n",
              "       [1., 1., 1., 1., 1., 1.],\n",
              "       [1., 1., 1., 1., 1., 1.],\n",
              "       [1., 1., 1., 1., 1., 1.],\n",
              "       [1., 1., 1., 1., 1., 1.]])"
            ]
          },
          "metadata": {},
          "execution_count": 68
        }
      ]
    },
    {
      "cell_type": "code",
      "metadata": {
        "colab": {
          "base_uri": "https://localhost:8080/"
        },
        "id": "vOtgmQQjcUrZ",
        "outputId": "f569b78b-4439-4a63-ac60-33fd0074e52c"
      },
      "source": [
        "np_200 = 200*np.ones((4,7))\n",
        "np_200"
      ],
      "execution_count": 69,
      "outputs": [
        {
          "output_type": "execute_result",
          "data": {
            "text/plain": [
              "array([[200., 200., 200., 200., 200., 200., 200.],\n",
              "       [200., 200., 200., 200., 200., 200., 200.],\n",
              "       [200., 200., 200., 200., 200., 200., 200.],\n",
              "       [200., 200., 200., 200., 200., 200., 200.]])"
            ]
          },
          "metadata": {},
          "execution_count": 69
        }
      ]
    },
    {
      "cell_type": "markdown",
      "metadata": {
        "id": "WepqEToCcq3W"
      },
      "source": [
        "#สร้าง matrix random"
      ]
    },
    {
      "cell_type": "code",
      "metadata": {
        "colab": {
          "base_uri": "https://localhost:8080/"
        },
        "id": "bfUWypzBcpw8",
        "outputId": "f2dbe317-6a67-4c09-eb15-7d337e615451"
      },
      "source": [
        "np.random.randn(5,5) # random เลขมาจาก normal distribution ที่มี mu = 0 std = 1"
      ],
      "execution_count": 70,
      "outputs": [
        {
          "output_type": "execute_result",
          "data": {
            "text/plain": [
              "array([[-0.56400209, -1.13457792,  0.59190846, -0.18085732,  0.39970107],\n",
              "       [-0.79281091,  0.94069508,  0.92619052,  1.44410563, -1.14995286],\n",
              "       [ 0.59198142, -0.18516519,  0.26490832, -1.40956103, -0.9899564 ],\n",
              "       [-0.8196877 , -0.22746438, -0.94632148, -0.89724125,  1.4633441 ],\n",
              "       [-1.10176274,  0.01866622,  1.301088  , -0.17423564,  0.47579544]])"
            ]
          },
          "metadata": {},
          "execution_count": 70
        }
      ]
    },
    {
      "cell_type": "code",
      "metadata": {
        "colab": {
          "base_uri": "https://localhost:8080/"
        },
        "id": "0pID1F2ucpu_",
        "outputId": "f04bd435-9c47-4520-d69c-3764a171d8a3"
      },
      "source": [
        "2+(5*np.random.randn(3,3)) # random เลขมาจาก normal distribution ที่มี mu = 2 std = 5"
      ],
      "execution_count": 71,
      "outputs": [
        {
          "output_type": "execute_result",
          "data": {
            "text/plain": [
              "array([[-0.95560619, -0.46355857, -1.44869961],\n",
              "       [-3.87948213,  8.55747025,  2.24430796],\n",
              "       [ 2.73740124,  4.05249266, -1.47846391]])"
            ]
          },
          "metadata": {},
          "execution_count": 71
        }
      ]
    },
    {
      "cell_type": "code",
      "metadata": {
        "colab": {
          "base_uri": "https://localhost:8080/"
        },
        "id": "zvaad5pkcpsy",
        "outputId": "6e8ec679-2e19-4dc8-b454-c15a4ec60fa3"
      },
      "source": [
        "np.random.randint(5,11,(4,5)) # random เลขจำนวนเต็มระหว่าง 5 ถึง 11 [5,11) ขนาด (4x5)"
      ],
      "execution_count": 72,
      "outputs": [
        {
          "output_type": "execute_result",
          "data": {
            "text/plain": [
              "array([[10,  8,  6,  8,  5],\n",
              "       [ 5,  5,  8, 10,  9],\n",
              "       [10, 10, 10, 10,  6],\n",
              "       [ 6,  5, 10,  5,  8]])"
            ]
          },
          "metadata": {},
          "execution_count": 72
        }
      ]
    },
    {
      "cell_type": "code",
      "metadata": {
        "colab": {
          "base_uri": "https://localhost:8080/"
        },
        "id": "dJt4NbCTcpqy",
        "outputId": "186dd0de-b699-4176-e44f-fdf8dd780cc4"
      },
      "source": [
        "np_a"
      ],
      "execution_count": 73,
      "outputs": [
        {
          "output_type": "execute_result",
          "data": {
            "text/plain": [
              "array([[1, 2, 3],\n",
              "       [4, 5, 6]])"
            ]
          },
          "metadata": {},
          "execution_count": 73
        }
      ]
    },
    {
      "cell_type": "code",
      "metadata": {
        "colab": {
          "base_uri": "https://localhost:8080/"
        },
        "id": "09uH-371cpo3",
        "outputId": "311815c9-e19c-467c-ce10-ae870c8fa3a5"
      },
      "source": [
        "np_a.T # Transpose"
      ],
      "execution_count": 74,
      "outputs": [
        {
          "output_type": "execute_result",
          "data": {
            "text/plain": [
              "array([[1, 4],\n",
              "       [2, 5],\n",
              "       [3, 6]])"
            ]
          },
          "metadata": {},
          "execution_count": 74
        }
      ]
    },
    {
      "cell_type": "code",
      "metadata": {
        "colab": {
          "base_uri": "https://localhost:8080/"
        },
        "id": "aD9hth_Pcpmg",
        "outputId": "768d5960-d3f7-4825-ddc3-870f67a7bc96"
      },
      "source": [
        "1 + np_a # add scalar to matrix จะบวกไปทุกๆตัวใน matrix"
      ],
      "execution_count": 75,
      "outputs": [
        {
          "output_type": "execute_result",
          "data": {
            "text/plain": [
              "array([[2, 3, 4],\n",
              "       [5, 6, 7]])"
            ]
          },
          "metadata": {},
          "execution_count": 75
        }
      ]
    },
    {
      "cell_type": "code",
      "metadata": {
        "colab": {
          "base_uri": "https://localhost:8080/"
        },
        "id": "euFf3lo1czLB",
        "outputId": "d9a46fae-e30e-494c-b663-2aa047f612ab"
      },
      "source": [
        "2*np_a # multiply scalar to matrix จะคูณไปทุกๆตัวของ matrix"
      ],
      "execution_count": 76,
      "outputs": [
        {
          "output_type": "execute_result",
          "data": {
            "text/plain": [
              "array([[ 2,  4,  6],\n",
              "       [ 8, 10, 12]])"
            ]
          },
          "metadata": {},
          "execution_count": 76
        }
      ]
    },
    {
      "cell_type": "code",
      "metadata": {
        "colab": {
          "base_uri": "https://localhost:8080/"
        },
        "id": "PTvrKu5ZczI_",
        "outputId": "c536ce15-3684-4fd4-eda0-0e7f259fa808"
      },
      "source": [
        "np_c = np.array([[6,5,4],[3,2,1]])\n",
        "np_c"
      ],
      "execution_count": 77,
      "outputs": [
        {
          "output_type": "execute_result",
          "data": {
            "text/plain": [
              "array([[6, 5, 4],\n",
              "       [3, 2, 1]])"
            ]
          },
          "metadata": {},
          "execution_count": 77
        }
      ]
    },
    {
      "cell_type": "code",
      "metadata": {
        "colab": {
          "base_uri": "https://localhost:8080/"
        },
        "id": "YlLL22XQczHB",
        "outputId": "3410e350-9f5b-4bb7-ecd1-ae158ecf0cde"
      },
      "source": [
        "np_a + np_c # adding matrix to matrix"
      ],
      "execution_count": 78,
      "outputs": [
        {
          "output_type": "execute_result",
          "data": {
            "text/plain": [
              "array([[7, 7, 7],\n",
              "       [7, 7, 7]])"
            ]
          },
          "metadata": {},
          "execution_count": 78
        }
      ]
    },
    {
      "cell_type": "code",
      "metadata": {
        "colab": {
          "base_uri": "https://localhost:8080/"
        },
        "id": "PgMh4nCeczFA",
        "outputId": "93239a44-0516-4560-da6e-4dd623224cb1"
      },
      "source": [
        "np_a.shape"
      ],
      "execution_count": 79,
      "outputs": [
        {
          "output_type": "execute_result",
          "data": {
            "text/plain": [
              "(2, 3)"
            ]
          },
          "metadata": {},
          "execution_count": 79
        }
      ]
    },
    {
      "cell_type": "code",
      "metadata": {
        "colab": {
          "base_uri": "https://localhost:8080/"
        },
        "id": "pJJERiF4czCx",
        "outputId": "7e4f98bc-c6a8-4bc2-a474-20eb1d980faf"
      },
      "source": [
        "np_c.shape"
      ],
      "execution_count": 80,
      "outputs": [
        {
          "output_type": "execute_result",
          "data": {
            "text/plain": [
              "(2, 3)"
            ]
          },
          "metadata": {},
          "execution_count": 80
        }
      ]
    },
    {
      "cell_type": "code",
      "metadata": {
        "colab": {
          "base_uri": "https://localhost:8080/"
        },
        "id": "QUfciLpRcpkg",
        "outputId": "cec2e908-e7d8-4e23-eb40-caa3c31f75b6"
      },
      "source": [
        "np_c.T.shape"
      ],
      "execution_count": 81,
      "outputs": [
        {
          "output_type": "execute_result",
          "data": {
            "text/plain": [
              "(3, 2)"
            ]
          },
          "metadata": {},
          "execution_count": 81
        }
      ]
    },
    {
      "cell_type": "markdown",
      "metadata": {
        "id": "kt-1IjCtln2z"
      },
      "source": [
        "![Screenshot 2021-08-30 220403.png](data:image/png;base64,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)"
      ]
    },
    {
      "cell_type": "code",
      "metadata": {
        "colab": {
          "base_uri": "https://localhost:8080/"
        },
        "id": "8CcT2sbldAGZ",
        "outputId": "ebfe604a-7330-4781-b65c-9f8a108a3142"
      },
      "source": [
        "np.dot(np_a,np_c.T) # multipling matrix to matrix (a,b) x (b,c) = (a,c)"
      ],
      "execution_count": 82,
      "outputs": [
        {
          "output_type": "execute_result",
          "data": {
            "text/plain": [
              "array([[28, 10],\n",
              "       [73, 28]])"
            ]
          },
          "metadata": {},
          "execution_count": 82
        }
      ]
    },
    {
      "cell_type": "markdown",
      "metadata": {
        "id": "aKIFarSVdMHe"
      },
      "source": [
        "#Indexing & Slicing ( Index - ชี้, Slice - ตัด )"
      ]
    },
    {
      "cell_type": "code",
      "metadata": {
        "colab": {
          "base_uri": "https://localhost:8080/"
        },
        "id": "rwKXgp3GdADi",
        "outputId": "b9eb2e87-9338-4fd8-e74c-cc5e7d9e8246"
      },
      "source": [
        "np_a"
      ],
      "execution_count": 83,
      "outputs": [
        {
          "output_type": "execute_result",
          "data": {
            "text/plain": [
              "array([[1, 2, 3],\n",
              "       [4, 5, 6]])"
            ]
          },
          "metadata": {},
          "execution_count": 83
        }
      ]
    },
    {
      "cell_type": "code",
      "metadata": {
        "colab": {
          "base_uri": "https://localhost:8080/"
        },
        "id": "o90Aryj6dABb",
        "outputId": "3e67ff0a-f2e0-46f7-e43d-699dcf1c3ff0"
      },
      "source": [
        "np_a[1,1] # เริ่มนับตั้งแต่แถวที่ 0 หลักที่ 0"
      ],
      "execution_count": 84,
      "outputs": [
        {
          "output_type": "execute_result",
          "data": {
            "text/plain": [
              "5"
            ]
          },
          "metadata": {},
          "execution_count": 84
        }
      ]
    },
    {
      "cell_type": "code",
      "metadata": {
        "colab": {
          "base_uri": "https://localhost:8080/"
        },
        "id": "ZSEKBnSHc__i",
        "outputId": "867089f2-62ea-4232-b19e-55211a97770f"
      },
      "source": [
        "np_a[:2,:2]"
      ],
      "execution_count": 85,
      "outputs": [
        {
          "output_type": "execute_result",
          "data": {
            "text/plain": [
              "array([[1, 2],\n",
              "       [4, 5]])"
            ]
          },
          "metadata": {},
          "execution_count": 85
        }
      ]
    },
    {
      "cell_type": "code",
      "metadata": {
        "id": "UAML90hgl9eA",
        "colab": {
          "base_uri": "https://localhost:8080/"
        },
        "outputId": "67121c8d-bb61-435c-8935-2e2ab8eb67b3"
      },
      "source": [
        "np_a[0,:]"
      ],
      "execution_count": 86,
      "outputs": [
        {
          "output_type": "execute_result",
          "data": {
            "text/plain": [
              "array([1, 2, 3])"
            ]
          },
          "metadata": {},
          "execution_count": 86
        }
      ]
    },
    {
      "cell_type": "markdown",
      "metadata": {
        "id": "PIGmQnq0l_MS"
      },
      "source": [
        "#Useful Function"
      ]
    },
    {
      "cell_type": "code",
      "metadata": {
        "id": "ft4kMzzwl9b6",
        "colab": {
          "base_uri": "https://localhost:8080/"
        },
        "outputId": "374213e1-fe79-44e1-f230-5a564168b909"
      },
      "source": [
        "np_a"
      ],
      "execution_count": 87,
      "outputs": [
        {
          "output_type": "execute_result",
          "data": {
            "text/plain": [
              "array([[1, 2, 3],\n",
              "       [4, 5, 6]])"
            ]
          },
          "metadata": {},
          "execution_count": 87
        }
      ]
    },
    {
      "cell_type": "code",
      "metadata": {
        "id": "iGrJolSPl9aK",
        "colab": {
          "base_uri": "https://localhost:8080/"
        },
        "outputId": "3b6311dc-ce1b-43cf-c563-0f1f3ff87adb"
      },
      "source": [
        "np.sum(np_a) #รวมค่าตัวเลข"
      ],
      "execution_count": 88,
      "outputs": [
        {
          "output_type": "execute_result",
          "data": {
            "text/plain": [
              "21"
            ]
          },
          "metadata": {},
          "execution_count": 88
        }
      ]
    },
    {
      "cell_type": "code",
      "metadata": {
        "id": "RJTI6hzpl9XD",
        "colab": {
          "base_uri": "https://localhost:8080/"
        },
        "outputId": "e2a72be0-9fc6-4e57-b422-94caf2eebfaa"
      },
      "source": [
        "np.sum(np_a,axis=0) #เอาด้านแถวมารวมกัน ค่าในแนวแกนนอน #axis 0 ก็คือรวมเลขในแถว 1+4 , 2+5 , 3+6"
      ],
      "execution_count": 89,
      "outputs": [
        {
          "output_type": "execute_result",
          "data": {
            "text/plain": [
              "array([5, 7, 9])"
            ]
          },
          "metadata": {},
          "execution_count": 89
        }
      ]
    },
    {
      "cell_type": "code",
      "metadata": {
        "id": "Uo1JKME4l9U9",
        "colab": {
          "base_uri": "https://localhost:8080/"
        },
        "outputId": "3dde7ae1-bbd6-4995-b111-9e263fc324d9"
      },
      "source": [
        "np.sum(np_a,axis=1) #เอาด้านคอลัมม์มารวมกัน ค่าในแนวแกนตั้ง #axis 1 ก็คือรวมเลขในแต่ละหลัก"
      ],
      "execution_count": 90,
      "outputs": [
        {
          "output_type": "execute_result",
          "data": {
            "text/plain": [
              "array([ 6, 15])"
            ]
          },
          "metadata": {},
          "execution_count": 90
        }
      ]
    },
    {
      "cell_type": "code",
      "metadata": {
        "id": "e_-Kq0tsl9Sw",
        "colab": {
          "base_uri": "https://localhost:8080/"
        },
        "outputId": "2c8bb254-6eb0-4efa-f493-e8582042270e"
      },
      "source": [
        "np.mean(np_a) #หาค่า mean"
      ],
      "execution_count": 91,
      "outputs": [
        {
          "output_type": "execute_result",
          "data": {
            "text/plain": [
              "3.5"
            ]
          },
          "metadata": {},
          "execution_count": 91
        }
      ]
    },
    {
      "cell_type": "code",
      "metadata": {
        "id": "AlAPfq04l9Qe",
        "colab": {
          "base_uri": "https://localhost:8080/"
        },
        "outputId": "7b99d624-3795-43ff-f8d9-7c8534639fd2"
      },
      "source": [
        "np.mean(np_a,axis=0) #หา mean ของคอลัมม์"
      ],
      "execution_count": 92,
      "outputs": [
        {
          "output_type": "execute_result",
          "data": {
            "text/plain": [
              "array([2.5, 3.5, 4.5])"
            ]
          },
          "metadata": {},
          "execution_count": 92
        }
      ]
    },
    {
      "cell_type": "markdown",
      "metadata": {
        "id": "Rnhae1nPmLsL"
      },
      "source": [
        "#วนลูปเอง\n",
        "\n",
        "Summation"
      ]
    },
    {
      "cell_type": "code",
      "metadata": {
        "id": "UfVUF9zcmLey",
        "colab": {
          "base_uri": "https://localhost:8080/"
        },
        "outputId": "ad3b9d97-0f08-4206-c3f0-ab8c28a64fed"
      },
      "source": [
        "np_a.shape"
      ],
      "execution_count": 93,
      "outputs": [
        {
          "output_type": "execute_result",
          "data": {
            "text/plain": [
              "(2, 3)"
            ]
          },
          "metadata": {},
          "execution_count": 93
        }
      ]
    },
    {
      "cell_type": "code",
      "metadata": {
        "id": "qomtrky2l9OU",
        "colab": {
          "base_uri": "https://localhost:8080/"
        },
        "outputId": "768b6477-0674-47a0-d42a-5b72e9c41c26"
      },
      "source": [
        "sum_all = 0\n",
        "for row in range(np_a.shape[0]): \n",
        "    for col in range(np_a.shape[1]):\n",
        "        sum_all = sum_all + np_a[row,col]\n",
        "        print(f'we are at row ={row},col={col} np_a[{row},{col}]={np_a[row,col]} sum_all = {sum_all} ' )"
      ],
      "execution_count": 94,
      "outputs": [
        {
          "output_type": "stream",
          "name": "stdout",
          "text": [
            "we are at row =0,col=0 np_a[0,0]=1 sum_all = 1 \n",
            "we are at row =0,col=1 np_a[0,1]=2 sum_all = 3 \n",
            "we are at row =0,col=2 np_a[0,2]=3 sum_all = 6 \n",
            "we are at row =1,col=0 np_a[1,0]=4 sum_all = 10 \n",
            "we are at row =1,col=1 np_a[1,1]=5 sum_all = 15 \n",
            "we are at row =1,col=2 np_a[1,2]=6 sum_all = 21 \n"
          ]
        }
      ]
    },
    {
      "cell_type": "code",
      "metadata": {
        "id": "gCR1IK2Rl9Mt",
        "colab": {
          "base_uri": "https://localhost:8080/"
        },
        "outputId": "2dac1bc2-d22f-4c8c-9e3b-130bdc14a6d6"
      },
      "source": [
        "sum_all = np.zeros(np_a.shape[1])\n",
        "\n",
        "for row in range(np_a.shape[0]): \n",
        "    for col in range(np_a.shape[1]):\n",
        "        sum_all[col] = sum_all[col] + np_a[row,col]\n",
        "print(sum_all)"
      ],
      "execution_count": 95,
      "outputs": [
        {
          "output_type": "stream",
          "name": "stdout",
          "text": [
            "[5. 7. 9.]\n"
          ]
        }
      ]
    },
    {
      "cell_type": "markdown",
      "metadata": {
        "id": "WCuyTASIdeTk"
      },
      "source": [
        "#QUIZE"
      ]
    },
    {
      "cell_type": "code",
      "metadata": {
        "colab": {
          "base_uri": "https://localhost:8080/"
        },
        "id": "1OcFjItihn8X",
        "outputId": "a0acf525-dbac-457c-9997-a4147c33570b"
      },
      "source": [
        "# np.min(np_a,axis=1)\n",
        "min_all = np.zeros(np_a.shape[0])\n",
        "\n",
        "for col in range(np_a.shape[1]):\n",
        "    for row in range(np_a.shape[0]):\n",
        "        min_all[row] = min(np_a[row])\n",
        "print(min_all)"
      ],
      "execution_count": 96,
      "outputs": [
        {
          "output_type": "stream",
          "name": "stdout",
          "text": [
            "[1. 4.]\n"
          ]
        }
      ]
    },
    {
      "cell_type": "markdown",
      "metadata": {
        "id": "vb5PwrmfmUHs"
      },
      "source": [
        "#ข้ออื่น"
      ]
    },
    {
      "cell_type": "code",
      "metadata": {
        "id": "qXHnA-59mWSs",
        "colab": {
          "base_uri": "https://localhost:8080/"
        },
        "outputId": "18da37e1-2913-4240-ed9d-5331f4d7c886"
      },
      "source": [
        "# np.max(np_a,axis=1)\n",
        "max_all = np.zeros(np_a.shape[0])\n",
        "for row in range(np_a.shape[0]):\n",
        "    max_all[row] = max(np_a[row,:])\n",
        "print(max_all)"
      ],
      "execution_count": 97,
      "outputs": [
        {
          "output_type": "stream",
          "name": "stdout",
          "text": [
            "[3. 6.]\n"
          ]
        }
      ]
    },
    {
      "cell_type": "code",
      "metadata": {
        "id": "9C9ex2DymWhD",
        "colab": {
          "base_uri": "https://localhost:8080/"
        },
        "outputId": "9f70ae5d-2da0-40fe-e1b4-b8d2de473fc7"
      },
      "source": [
        "sum_all = np.zeros(np_a.shape[0])\n",
        "\n",
        "for row in range(np_a.shape[0]):\n",
        "    for col in range(np_a.shape[1]): \n",
        "        sum_all[row] = sum_all[row] + np_a[row,col]\n",
        "print(f'Mean = {sum_all/3}')"
      ],
      "execution_count": 98,
      "outputs": [
        {
          "output_type": "stream",
          "name": "stdout",
          "text": [
            "Mean = [2. 5.]\n"
          ]
        }
      ]
    },
    {
      "cell_type": "code",
      "metadata": {
        "id": "Jf8R9ys9mWfD",
        "colab": {
          "base_uri": "https://localhost:8080/"
        },
        "outputId": "dd5ecf04-3677-4c7d-b169-f5a7c7806f70"
      },
      "source": [
        "#np.mean(np_a,axis=0)\n",
        "mean_all = np.zeros(np_a.shape[1])\n",
        "for row in range(np_a.shape[0]):\n",
        "     for col in range(np_a.shape[1]):\n",
        "          mean_all[col] = mean_all[col] + np_a[row,col]/np_a.shape[0]\n",
        "print(mean_all)"
      ],
      "execution_count": 99,
      "outputs": [
        {
          "output_type": "stream",
          "name": "stdout",
          "text": [
            "[2.5 3.5 4.5]\n"
          ]
        }
      ]
    },
    {
      "cell_type": "code",
      "metadata": {
        "id": "d20kgnPImWZA",
        "colab": {
          "base_uri": "https://localhost:8080/"
        },
        "outputId": "47b342d7-9447-4eae-a238-c22485b7a8ff"
      },
      "source": [
        "#np.max(np_a)\n",
        "max_a = -100000000\n",
        "for row in range(np_a.shape[0]):\n",
        "    for col in range(np_a.shape[1]):\n",
        "        if np_a[row,col] > max_a :\n",
        "            max_a = np_a[row,col]\n",
        "print(max_a)"
      ],
      "execution_count": 100,
      "outputs": [
        {
          "output_type": "stream",
          "name": "stdout",
          "text": [
            "6\n"
          ]
        }
      ]
    },
    {
      "cell_type": "code",
      "metadata": {
        "id": "1oJr-LxFmWWt",
        "colab": {
          "base_uri": "https://localhost:8080/"
        },
        "outputId": "4c74b2f4-6e6e-4d7b-a6dd-baeb090d6124"
      },
      "source": [
        "### 10. np.min(np_a,axis=1)\n",
        "min_row = np.zeros(np_a.shape[0])\n",
        "for row in range(np_a.shape[0]):\n",
        "   min_row[row] = min(np_a[row,:])\n",
        "print(min_row)"
      ],
      "execution_count": 101,
      "outputs": [
        {
          "output_type": "stream",
          "name": "stdout",
          "text": [
            "[1. 4.]\n"
          ]
        }
      ]
    },
    {
      "cell_type": "code",
      "metadata": {
        "id": "WzSfI-umc_7U",
        "colab": {
          "base_uri": "https://localhost:8080/"
        },
        "outputId": "643bd649-0f49-4a70-90f6-d4f4ae358693"
      },
      "source": [
        "# np.min(np_a,axis=0)\n",
        "min_all = np.zeros(np_a.shape[1])\n",
        "\n",
        "for col in range(np_a.shape[1]):\n",
        "    min_all[col] = min(np_a[:,col])\n",
        "print(min_all)"
      ],
      "execution_count": 102,
      "outputs": [
        {
          "output_type": "stream",
          "name": "stdout",
          "text": [
            "[1. 2. 3.]\n"
          ]
        }
      ]
    },
    {
      "cell_type": "code",
      "metadata": {
        "id": "eZF8U3AXc_5T",
        "colab": {
          "base_uri": "https://localhost:8080/"
        },
        "outputId": "e85051ed-af1c-4712-9c5f-bdeeff744e85"
      },
      "source": [
        "# np.min(np_a)  ลูกหมี\n",
        "minV = 100000\n",
        "for row in range(np_a.shape[0]):\n",
        "    for col in range(np_a.shape[1]):\n",
        "        if np_a[row,col] < minV:\n",
        "            minV = np_a[row,col]\n",
        "print(minV)"
      ],
      "execution_count": 103,
      "outputs": [
        {
          "output_type": "stream",
          "name": "stdout",
          "text": [
            "1\n"
          ]
        }
      ]
    },
    {
      "cell_type": "code",
      "metadata": {
        "id": "fbA1JoldnWfX",
        "colab": {
          "base_uri": "https://localhost:8080/"
        },
        "outputId": "413de0c6-8e83-4fd3-fbdd-131d9560d042"
      },
      "source": [
        "# np.max(np_a,axis=0)\n",
        "max_all = -100000 * np.ones(np_a.shape[1])\n",
        "for col in range(np_a.shape[1]):\n",
        "    for row in range(np_a.shape[0]):\n",
        "        if np_a[row,col] > max_all[col]: \n",
        "            max_all[col] = np_a[row,col]\n",
        "print(max_all)"
      ],
      "execution_count": 104,
      "outputs": [
        {
          "output_type": "stream",
          "name": "stdout",
          "text": [
            "[4. 5. 6.]\n"
          ]
        }
      ]
    },
    {
      "cell_type": "markdown",
      "metadata": {
        "id": "HALzj3gUlD4o"
      },
      "source": [
        "#Distance Matrix"
      ]
    },
    {
      "cell_type": "code",
      "metadata": {
        "id": "bL1Uu1cZlBKI",
        "colab": {
          "base_uri": "https://localhost:8080/"
        },
        "outputId": "658ecfe1-4cd4-4047-b15d-c98a9093fe82"
      },
      "source": [
        "data1 = np.array([[1,2],[3,5],[2,0],[4,5]])\n",
        "data1"
      ],
      "execution_count": 105,
      "outputs": [
        {
          "output_type": "execute_result",
          "data": {
            "text/plain": [
              "array([[1, 2],\n",
              "       [3, 5],\n",
              "       [2, 0],\n",
              "       [4, 5]])"
            ]
          },
          "metadata": {},
          "execution_count": 105
        }
      ]
    },
    {
      "cell_type": "code",
      "metadata": {
        "id": "Y6PbNyr5lBH2",
        "colab": {
          "base_uri": "https://localhost:8080/",
          "height": 0
        },
        "outputId": "59c79cf8-1506-41f5-824d-85649581c486"
      },
      "source": [
        "from matplotlib import pyplot as plt\n",
        "plt.scatter(data1[:,0],data1[:,1])"
      ],
      "execution_count": 106,
      "outputs": [
        {
          "output_type": "execute_result",
          "data": {
            "text/plain": [
              "<matplotlib.collections.PathCollection at 0x7f377edfb610>"
            ]
          },
          "metadata": {},
          "execution_count": 106
        },
        {
          "output_type": "display_data",
          "data": {
            "image/png": "[encoded data removed]",
            "text/plain": [
              "<Figure size 432x288 with 1 Axes>"
            ]
          },
          "metadata": {
            "needs_background": "light"
          }
        }
      ]
    },
    {
      "cell_type": "markdown",
      "metadata": {
        "id": "yKvVCIFslIv2"
      },
      "source": [
        "#Euclidean Distance (L2-norm)\n",
        "\n",
        "$\\sqrt{(x_1-x_2)^2+(y_1-y_2)^2}$\n",
        "\n",
        "dist(P1,P2)"
      ]
    },
    {
      "cell_type": "code",
      "metadata": {
        "id": "85CBhs9-lBFg",
        "colab": {
          "base_uri": "https://localhost:8080/"
        },
        "outputId": "49f47466-3d2d-4165-ea6b-b86930803de3"
      },
      "source": [
        "dist_p1_p2 = np.sqrt(np.power(data1[0,0]-data1[1,0],2) + np.power(data1[0,1]-data1[1,1],2))\n",
        "dist_p1_p2"
      ],
      "execution_count": 107,
      "outputs": [
        {
          "output_type": "execute_result",
          "data": {
            "text/plain": [
              "3.605551275463989"
            ]
          },
          "metadata": {},
          "execution_count": 107
        }
      ]
    },
    {
      "cell_type": "code",
      "metadata": {
        "id": "HgYth9dqlBDI",
        "colab": {
          "base_uri": "https://localhost:8080/"
        },
        "outputId": "a08a573b-7ab8-4c01-8049-bd0477990eea"
      },
      "source": [
        "dist_p1_p2 = np.power(np.power(data1[0,0]-data1[1,0],2) + np.power(data1[0,1]-data1[1,1],2),0.5)\n",
        "dist_p1_p2"
      ],
      "execution_count": 108,
      "outputs": [
        {
          "output_type": "execute_result",
          "data": {
            "text/plain": [
              "3.605551275463989"
            ]
          },
          "metadata": {},
          "execution_count": 108
        }
      ]
    },
    {
      "cell_type": "code",
      "metadata": {
        "id": "Kl3lNmSOlBA6",
        "colab": {
          "base_uri": "https://localhost:8080/"
        },
        "outputId": "3351f46e-322b-481f-e686-50bce3d6dbac"
      },
      "source": [
        "dist_p2_p4 = np.sqrt(np.power(data1[1,0]-data1[3,0],2) + np.power(data1[1,1]-data1[3,1],2))\n",
        "dist_p2_p4"
      ],
      "execution_count": 109,
      "outputs": [
        {
          "output_type": "execute_result",
          "data": {
            "text/plain": [
              "1.0"
            ]
          },
          "metadata": {},
          "execution_count": 109
        }
      ]
    },
    {
      "cell_type": "markdown",
      "metadata": {
        "id": "2vhvjLvAlObn"
      },
      "source": [
        "#Distance function\n",
        "\n",
        "p1 = [x,y]\n",
        "\n",
        "dim = 2"
      ]
    },
    {
      "cell_type": "code",
      "metadata": {
        "id": "6jWmTrVPlA-w"
      },
      "source": [
        "def dist_l2_2(p1,p2):\n",
        "    return np.sqrt(np.power(p1[0]-p2[0],2) + np.power(p1[1]-p2[1],2))"
      ],
      "execution_count": 110,
      "outputs": []
    },
    {
      "cell_type": "code",
      "metadata": {
        "id": "5Ah97U5ElA8j",
        "colab": {
          "base_uri": "https://localhost:8080/"
        },
        "outputId": "b2c3f1be-efaf-4a9c-d65f-5de089d81146"
      },
      "source": [
        "dist_l2_2(data1[0,:],data1[1,:])"
      ],
      "execution_count": 111,
      "outputs": [
        {
          "output_type": "execute_result",
          "data": {
            "text/plain": [
              "3.605551275463989"
            ]
          },
          "metadata": {},
          "execution_count": 111
        }
      ]
    },
    {
      "cell_type": "code",
      "metadata": {
        "id": "aQSKootelA6E",
        "colab": {
          "base_uri": "https://localhost:8080/"
        },
        "outputId": "e8fadb9b-19a1-4694-d1a4-daa195ee3293"
      },
      "source": [
        "dist_l2_2(data1[1,:],data1[3,:])"
      ],
      "execution_count": 112,
      "outputs": [
        {
          "output_type": "execute_result",
          "data": {
            "text/plain": [
              "1.0"
            ]
          },
          "metadata": {},
          "execution_count": 112
        }
      ]
    },
    {
      "cell_type": "code",
      "metadata": {
        "id": "ce73vczTlA3y"
      },
      "source": [
        "def dist_l2_n(p1,p2):\n",
        "    sum = 0\n",
        "    for i in range(len(p1)):\n",
        "        sum = sum + np.power(p1[i]-p2[i],2)\n",
        "    return np.sqrt(sum)"
      ],
      "execution_count": 113,
      "outputs": []
    },
    {
      "cell_type": "code",
      "metadata": {
        "id": "tAV4nTC_lA1c",
        "colab": {
          "base_uri": "https://localhost:8080/"
        },
        "outputId": "a8be2d3d-61f1-4c91-b471-3a506c5b16fd"
      },
      "source": [
        "dist_l2_n(data1[0,:],data1[1,:])"
      ],
      "execution_count": 114,
      "outputs": [
        {
          "output_type": "execute_result",
          "data": {
            "text/plain": [
              "3.605551275463989"
            ]
          },
          "metadata": {},
          "execution_count": 114
        }
      ]
    },
    {
      "cell_type": "markdown",
      "metadata": {
        "id": "ytt3hNURlV6W"
      },
      "source": [
        "#Manhattan Distance (L1-norm)¶\n",
        "\n",
        "$|x_1-x_2|+|y_1-y_2|$"
      ]
    },
    {
      "cell_type": "markdown",
      "metadata": {
        "id": "Ref-RZfZlY4q"
      },
      "source": [
        "#quiz6\n",
        "\n",
        "เขียน function คำนวณ manhattan distance ของ ข้อมูล 2 dimensions"
      ]
    },
    {
      "cell_type": "code",
      "metadata": {
        "id": "c4xm_8zFeW2E"
      },
      "source": [
        "def dist_l2_q(p1,p2):\n",
        "   return (np.abs(p1[0] - p2[0]) + np.abs(p1[1] - p2[1]))"
      ],
      "execution_count": 115,
      "outputs": []
    },
    {
      "cell_type": "code",
      "metadata": {
        "id": "FgUCG-gOlVvq",
        "colab": {
          "base_uri": "https://localhost:8080/"
        },
        "outputId": "ec7eb8e6-5391-47a4-bf0e-4e929bd096b5"
      },
      "source": [
        "dist_l2_q(data1[0,:],data1[1,:])"
      ],
      "execution_count": 116,
      "outputs": [
        {
          "output_type": "execute_result",
          "data": {
            "text/plain": [
              "5"
            ]
          },
          "metadata": {},
          "execution_count": 116
        }
      ]
    },
    {
      "cell_type": "markdown",
      "metadata": {
        "id": "6mNpo7ywHdDZ"
      },
      "source": [
        "#การบ้านครั้งที่ 11\n",
        "Function คำนวณ manhattan distance ของ ข้อมูล N dimensions\n",
        "Function คำนวณ L-$\\infty$ ของ ข้อมูล N dimensions\n",
        "Function คำนวณ Distance Matrix ด้วย Euclidean Distance\n",
        "ข้อที่ 1 Function คำนวณ manhattan distance ของ ข้อมูล N dimensions"
      ]
    },
    {
      "cell_type": "code",
      "metadata": {
        "id": "NAwJctnZlVp-"
      },
      "source": [
        "def dist_l1_n(p1,p2) :\n",
        "    sum = 0\n",
        "    for i in range(len(p1)) :\n",
        "        sum = sum + np.abs(p1[i]-p2[i])\n",
        "    return np.abs(sum)"
      ],
      "execution_count": 117,
      "outputs": []
    },
    {
      "cell_type": "code",
      "metadata": {
        "id": "6_ehtYf1lVnw",
        "colab": {
          "base_uri": "https://localhost:8080/"
        },
        "outputId": "9cbc8fa3-b261-46bc-827b-fefd34cd440c"
      },
      "source": [
        "dist_l1_n(data1[0,:],data1[1,:])"
      ],
      "execution_count": 118,
      "outputs": [
        {
          "output_type": "execute_result",
          "data": {
            "text/plain": [
              "5"
            ]
          },
          "metadata": {},
          "execution_count": 118
        }
      ]
    },
    {
      "cell_type": "markdown",
      "metadata": {
        "id": "4nd9R7rwHhIq"
      },
      "source": [
        "#ข้อที่ 2 Function คำนวณ L-$\\infty$ ของ ข้อมูล N dimensions"
      ]
    },
    {
      "cell_type": "code",
      "metadata": {
        "id": "ProV9aIPlVlq"
      },
      "source": [
        "def dist_linf_n(p1,p2): # max กำหนดค่าให้เป็น ค่าน้อยๆ min กำหนดให้ค่าเป็น ค่ามาก ๆ\n",
        "    maxv = -100000\n",
        "    for i in range(len(p1)):\n",
        "        this_dist = np.abs(p1[i] - p2[i])\n",
        "        if this_dist > maxv:\n",
        "            maxv = this_dist\n",
        "    return maxv"
      ],
      "execution_count": 119,
      "outputs": []
    },
    {
      "cell_type": "code",
      "metadata": {
        "id": "msH9YugiHjsl",
        "colab": {
          "base_uri": "https://localhost:8080/"
        },
        "outputId": "52ae537f-8159-4acc-c095-e886b49a3776"
      },
      "source": [
        "\n",
        "dist_linf_n(data1[0,:],data1[2,:])"
      ],
      "execution_count": 120,
      "outputs": [
        {
          "output_type": "execute_result",
          "data": {
            "text/plain": [
              "2"
            ]
          },
          "metadata": {},
          "execution_count": 120
        }
      ]
    },
    {
      "cell_type": "code",
      "metadata": {
        "id": "cuvmFPBaK5F1",
        "outputId": "d46e95a7-2ec6-4d16-9ad0-abec3f061f13",
        "colab": {
          "base_uri": "https://localhost:8080/"
        }
      },
      "source": [
        "dist_linf_n([-20,2,7],[0,5,9])"
      ],
      "execution_count": 121,
      "outputs": [
        {
          "output_type": "execute_result",
          "data": {
            "text/plain": [
              "20"
            ]
          },
          "metadata": {},
          "execution_count": 121
        }
      ]
    },
    {
      "cell_type": "markdown",
      "metadata": {
        "id": "bMYsGIp_Hmcc"
      },
      "source": [
        "#ข้อที่ 3 Function คำนวณ Distance Matrix ด้วย Euclidean Distance"
      ]
    },
    {
      "cell_type": "code",
      "metadata": {
        "id": "JtIJMGlBHn2S"
      },
      "source": [
        "def dist_mat_eud(data): \n",
        "    d_mat = np.zeros((data.shape[0],data.shape[0]))\n",
        "    for i in range(data.shape[0]):\n",
        "        for j in range(data.shape[0]):\n",
        "            d_mat[i,j] = dist_l2_n(data[i,:],data[j,:])\n",
        "    return d_mat"
      ],
      "execution_count": 122,
      "outputs": []
    },
    {
      "cell_type": "code",
      "metadata": {
        "id": "_JqaHKk6Hnz9",
        "outputId": "ed084899-b9da-4c4c-c13c-47efc9468644",
        "colab": {
          "base_uri": "https://localhost:8080/"
        }
      },
      "source": [
        "dist_mat_eud(data1)"
      ],
      "execution_count": 123,
      "outputs": [
        {
          "output_type": "execute_result",
          "data": {
            "text/plain": [
              "array([[0.        , 3.60555128, 2.23606798, 4.24264069],\n",
              "       [3.60555128, 0.        , 5.09901951, 1.        ],\n",
              "       [2.23606798, 5.09901951, 0.        , 5.38516481],\n",
              "       [4.24264069, 1.        , 5.38516481, 0.        ]])"
            ]
          },
          "metadata": {},
          "execution_count": 123
        }
      ]
    },
    {
      "cell_type": "code",
      "metadata": {
        "id": "t4sGdGn9K9iE"
      },
      "source": [
        "#Distance of Binary Value"
      ],
      "execution_count": 124,
      "outputs": []
    },
    {
      "cell_type": "markdown",
      "metadata": {
        "id": "vYammWg8HmXI"
      },
      "source": [
        "![Screenshot 2021-09-15 225604.png](data:image/png;base64,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)"
      ]
    },
    {
      "cell_type": "code",
      "metadata": {
        "id": "8q6dvgtPHjqH"
      },
      "source": [
        "import pandas as pd"
      ],
      "execution_count": 125,
      "outputs": []
    },
    {
      "cell_type": "code",
      "metadata": {
        "id": "XiSfxFnNHjoS",
        "outputId": "5b7d720d-4cb7-4a9d-8348-cda03366e51a",
        "colab": {
          "base_uri": "https://localhost:8080/",
          "height": 143
        }
      },
      "source": [
        "records = [['Jack',1,1,0,1,0,0,0],\n",
        "           ['Mary',0,1,0,1,0,1,0],\n",
        "           ['Jim',1,1,1,0,0,0,0]]\n",
        "labels = ['Name','Gender','Fever','Cough','Test-1','Test-2','Test-3','Test-4']\n",
        "\n",
        "binary_table = pd.DataFrame.from_records(records,columns=labels)\n",
        "binary_table"
      ],
      "execution_count": 126,
      "outputs": [
        {
          "output_type": "execute_result",
          "data": {
            "text/html": [
              "<div>\n",
              "<style scoped>\n",
              "    .dataframe tbody tr th:only-of-type {\n",
              "        vertical-align: middle;\n",
              "    }\n",
              "\n",
              "    .dataframe tbody tr th {\n",
              "        vertical-align: top;\n",
              "    }\n",
              "\n",
              "    .dataframe thead th {\n",
              "        text-align: right;\n",
              "    }\n",
              "</style>\n",
              "<table border=\"1\" class=\"dataframe\">\n",
              "  <thead>\n",
              "    <tr style=\"text-align: right;\">\n",
              "      <th></th>\n",
              "      <th>Name</th>\n",
              "      <th>Gender</th>\n",
              "      <th>Fever</th>\n",
              "      <th>Cough</th>\n",
              "      <th>Test-1</th>\n",
              "      <th>Test-2</th>\n",
              "      <th>Test-3</th>\n",
              "      <th>Test-4</th>\n",
              "    </tr>\n",
              "  </thead>\n",
              "  <tbody>\n",
              "    <tr>\n",
              "      <th>0</th>\n",
              "      <td>Jack</td>\n",
              "      <td>1</td>\n",
              "      <td>1</td>\n",
              "      <td>0</td>\n",
              "      <td>1</td>\n",
              "      <td>0</td>\n",
              "      <td>0</td>\n",
              "      <td>0</td>\n",
              "    </tr>\n",
              "    <tr>\n",
              "      <th>1</th>\n",
              "      <td>Mary</td>\n",
              "      <td>0</td>\n",
              "      <td>1</td>\n",
              "      <td>0</td>\n",
              "      <td>1</td>\n",
              "      <td>0</td>\n",
              "      <td>1</td>\n",
              "      <td>0</td>\n",
              "    </tr>\n",
              "    <tr>\n",
              "      <th>2</th>\n",
              "      <td>Jim</td>\n",
              "      <td>1</td>\n",
              "      <td>1</td>\n",
              "      <td>1</td>\n",
              "      <td>0</td>\n",
              "      <td>0</td>\n",
              "      <td>0</td>\n",
              "      <td>0</td>\n",
              "    </tr>\n",
              "  </tbody>\n",
              "</table>\n",
              "</div>"
            ],
            "text/plain": [
              "   Name  Gender  Fever  Cough  Test-1  Test-2  Test-3  Test-4\n",
              "0  Jack       1      1      0       1       0       0       0\n",
              "1  Mary       0      1      0       1       0       1       0\n",
              "2   Jim       1      1      1       0       0       0       0"
            ]
          },
          "metadata": {},
          "execution_count": 126
        }
      ]
    },
    {
      "cell_type": "code",
      "metadata": {
        "id": "4vPkVs7pLFnO"
      },
      "source": [
        "def dist_binary_symmetric(p1,p2):\n",
        "    q = 0.\n",
        "    r = 0.\n",
        "    s = 0.\n",
        "    t = 0.\n",
        "    for i in range(len(p1)):\n",
        "        \n",
        "        if (p1[i] == 1) and (p2[i] == 1):\n",
        "            q = q + 1\n",
        "        \n",
        "        if (p1[i] == 0) and (p2[i] == 1):\n",
        "            r = r + 1\n",
        "        \n",
        "        if (p1[i] == 1) and (p2[i] == 0):\n",
        "            s = s + 1\n",
        "\n",
        "        if (p1[i] == 0) and (p2[i] == 0):\n",
        "            t = t + 1\n",
        "    return (r+s)/(q+r+s+t)"
      ],
      "execution_count": 127,
      "outputs": []
    },
    {
      "cell_type": "code",
      "metadata": {
        "id": "ViFxCzGDLFmA",
        "outputId": "61a115de-2384-443f-d4fe-bf44ee693823",
        "colab": {
          "base_uri": "https://localhost:8080/"
        }
      },
      "source": [
        "dist_binary_symmetric(binary_table.iloc[0,1:],binary_table.iloc[1,1:])"
      ],
      "execution_count": 128,
      "outputs": [
        {
          "output_type": "execute_result",
          "data": {
            "text/plain": [
              "0.2857142857142857"
            ]
          },
          "metadata": {},
          "execution_count": 128
        }
      ]
    },
    {
      "cell_type": "code",
      "metadata": {
        "id": "FeZS3isOLFi5"
      },
      "source": [
        ""
      ],
      "execution_count": 128,
      "outputs": []
    },
    {
      "cell_type": "code",
      "metadata": {
        "id": "u-GzEKiOLFgu"
      },
      "source": [
        ""
      ],
      "execution_count": 128,
      "outputs": []
    },
    {
      "cell_type": "code",
      "metadata": {
        "id": "D4p9zKOMLFeS"
      },
      "source": [
        ""
      ],
      "execution_count": 128,
      "outputs": []
    }
  ]
}